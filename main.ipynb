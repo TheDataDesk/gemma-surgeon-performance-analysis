{
 "cells": [
  {
   "cell_type": "markdown",
   "id": "d36d40ea",
   "metadata": {},
   "source": [
    "# Surgeon Performance Analysis\n",
    "\n",
    "Gemma Analytics - Analytics Engineer Task "
   ]
  },
  {
   "cell_type": "markdown",
   "id": "5562a5ca",
   "metadata": {},
   "source": [
    "# Introduction\n",
    "\n",
    "This project explores a real-world healthcare dataset to answer a high-stakes question:\n",
    "\n",
    "> Who are the most — and least — skillful surgeons for hip replacement operations?\n",
    "\n",
    "To approach this, I analyzed EQ-5D-5L survey responses, a standardized health questionnaire that patients completed **before and after surgery**. Each survey asked patients to rate their condition across five key dimensions:\n",
    "\n",
    "- **Mobility** (Can the patient walk or move around?)\n",
    "- **Self-care** (Can they wash or dress themselves?)\n",
    "- **Usual activities** (Are they able to carry out everyday tasks like work, study, or leisure?)\n",
    "- **Pain / Discomfort** ( Are they experiencing physical pain or discomfort?)\n",
    "- **Anxiety / Depression** (How are they feeling mentally or emotionally?)\n",
    "\n",
    "By comparing these responses pre- and post-surgery, we get a sense of how much each patient improved or didn’t.\n",
    "\n",
    "From there, the goal is to evaluate which surgeons consistently deliver strong outcomes. This type of outcome-based analysis is incredibly valuable in clinical settings, it focuses not on what was done, but on what actually changed for the patient.\n"
   ]
  },
  {
   "cell_type": "markdown",
   "id": "f35e6b94",
   "metadata": {},
   "source": [
    "# Task Understanding\n",
    "\n",
    "The main objective is to identify which surgeons are the most and least skillful when it comes to performing **hip replacement surgeries** based on how much their patients improve after surgery.\n",
    "\n",
    "To do that, I needed to:\n",
    "\n",
    "1. **Measure improvement** for each patient  \n",
    "   → by comparing pre- and post-surgery EQ-5D-5L responses.\n",
    "\n",
    "2. **Convert responses to numeric scores**  \n",
    "   → using the provided scoring table (central estimate per answer).\n",
    "\n",
    "3. **Calculate health score changes**  \n",
    "   → for each patient, and then group those by surgeon.\n",
    "\n",
    "4. **Evaluate surgeon performance**  \n",
    "   → not just by average improvement, but by also considering:\n",
    "   - How many patients they treated (experience)\n",
    "   - How consistent their outcomes were (stability)\n",
    "\n",
    "The final goal is to surface insights that are fair, data-driven, and meaningful, the kind you could confidently share with a medical team, operations manager, or executive stakeholder.\n"
   ]
  },
  {
   "cell_type": "markdown",
   "id": "0c0c6302",
   "metadata": {},
   "source": [
    "# About the Dataset\n",
    "\n",
    "The dataset consists of six interconnected tables that reflect patient responses, survey metadata, and surgeon information. Here's a quick overview:\n",
    "\n",
    "- **`answers`**  \n",
    "  Contains every individual answer from a patient to a survey question.\n",
    "\n",
    "- **`answer_options`**  \n",
    "  Maps each answer text (e.g., \"I have moderate pain\") to a numerical score (`central_estimate`) used for health scoring.\n",
    "\n",
    "- **`patients`**  \n",
    "  Links each patient to a surgeon and includes basic demographic info.\n",
    "\n",
    "- **`questionnaires`**  \n",
    "  Indicates whether a set of answers was given **before** or **after** surgery, and whether it was a **hip** or **knee** procedure.\n",
    "\n",
    "- **`questions`**  \n",
    "  Describes the 5 EQ-5D-5L dimensions (mobility, pain, etc.).\n",
    "\n",
    "- **`surgeons`**  \n",
    "  Provides the names of each surgeon, tied to patient outcomes via `surgeon_id`.\n",
    "\n",
    "Together, these tables allow us to measure how much each patient’s health changed after surgery and link that change back to the surgeon who performed the procedure."
   ]
  },
  {
   "cell_type": "markdown",
   "id": "0faf891e",
   "metadata": {},
   "source": [
    "# Data Loading\n",
    "\n",
    "I started by loading all six datasets from CSV files into Pandas DataFrames. Each file corresponds to one of the tables described above.\n",
    "\n",
    "I also created a quick audit function to check:\n",
    "- Number of rows and columns\n",
    "- Missing values\n",
    "- Duplicate rows\n",
    "- Data types\n",
    "\n",
    "This gives a clear picture of the structure and cleanliness of the data right from the start.\n",
    "\n",
    "\n",
    "### Step 1: Loading csv data into a pandas dataframe"
   ]
  },
  {
   "cell_type": "code",
   "execution_count": 66,
   "id": "9756cd22",
   "metadata": {},
   "outputs": [
    {
     "name": "stdout",
     "output_type": "stream",
     "text": [
      "All datasets loaded successfully.\n"
     ]
    }
   ],
   "source": [
    "import pandas as pd\n",
    "import os\n",
    "\n",
    "# Define the data folder\n",
    "data_path = \"data\"\n",
    "\n",
    "# Load all CSVs\n",
    "answer_options = pd.read_csv(os.path.join(data_path, \"answer_options.csv\"))\n",
    "answers = pd.read_csv(os.path.join(data_path, \"answers.csv\"))\n",
    "patients = pd.read_csv(os.path.join(data_path, \"patients.csv\"))\n",
    "questionnaires = pd.read_csv(os.path.join(data_path, \"questionnaires.csv\"))\n",
    "questions = pd.read_csv(os.path.join(data_path, \"questions.csv\"))\n",
    "surgeons = pd.read_csv(os.path.join(data_path, \"surgeons.csv\"))\n",
    "\n",
    "print(\"All datasets loaded successfully.\")"
   ]
  },
  {
   "cell_type": "code",
   "execution_count": 67,
   "id": "e30a61a4",
   "metadata": {},
   "outputs": [
    {
     "data": {
      "text/html": [
       "<div>\n",
       "<style scoped>\n",
       "    .dataframe tbody tr th:only-of-type {\n",
       "        vertical-align: middle;\n",
       "    }\n",
       "\n",
       "    .dataframe tbody tr th {\n",
       "        vertical-align: top;\n",
       "    }\n",
       "\n",
       "    .dataframe thead th {\n",
       "        text-align: right;\n",
       "    }\n",
       "</style>\n",
       "<table border=\"1\" class=\"dataframe\">\n",
       "  <thead>\n",
       "    <tr style=\"text-align: right;\">\n",
       "      <th></th>\n",
       "      <th>question_id</th>\n",
       "      <th>answer</th>\n",
       "      <th>severity_code</th>\n",
       "      <th>central_estimate</th>\n",
       "    </tr>\n",
       "  </thead>\n",
       "  <tbody>\n",
       "    <tr>\n",
       "      <th>0</th>\n",
       "      <td>1</td>\n",
       "      <td>I have no problems in walking around</td>\n",
       "      <td>1</td>\n",
       "      <td>0.000</td>\n",
       "    </tr>\n",
       "    <tr>\n",
       "      <th>1</th>\n",
       "      <td>1</td>\n",
       "      <td>I have slight problems in walking around</td>\n",
       "      <td>2</td>\n",
       "      <td>0.058</td>\n",
       "    </tr>\n",
       "    <tr>\n",
       "      <th>2</th>\n",
       "      <td>1</td>\n",
       "      <td>I have moderate problems in walking around</td>\n",
       "      <td>3</td>\n",
       "      <td>0.076</td>\n",
       "    </tr>\n",
       "    <tr>\n",
       "      <th>3</th>\n",
       "      <td>1</td>\n",
       "      <td>I have severe problems in walking around</td>\n",
       "      <td>4</td>\n",
       "      <td>0.210</td>\n",
       "    </tr>\n",
       "    <tr>\n",
       "      <th>4</th>\n",
       "      <td>1</td>\n",
       "      <td>I am unable to walk around</td>\n",
       "      <td>5</td>\n",
       "      <td>0.270</td>\n",
       "    </tr>\n",
       "  </tbody>\n",
       "</table>\n",
       "</div>"
      ],
      "text/plain": [
       "   question_id                                      answer  severity_code  \\\n",
       "0            1        I have no problems in walking around              1   \n",
       "1            1    I have slight problems in walking around              2   \n",
       "2            1  I have moderate problems in walking around              3   \n",
       "3            1    I have severe problems in walking around              4   \n",
       "4            1                  I am unable to walk around              5   \n",
       "\n",
       "   central_estimate  \n",
       "0             0.000  \n",
       "1             0.058  \n",
       "2             0.076  \n",
       "3             0.210  \n",
       "4             0.270  "
      ]
     },
     "execution_count": 67,
     "metadata": {},
     "output_type": "execute_result"
    }
   ],
   "source": [
    "answer_options.head(5)"
   ]
  },
  {
   "cell_type": "code",
   "execution_count": 68,
   "id": "94fa7d61",
   "metadata": {},
   "outputs": [
    {
     "data": {
      "text/html": [
       "<div>\n",
       "<style scoped>\n",
       "    .dataframe tbody tr th:only-of-type {\n",
       "        vertical-align: middle;\n",
       "    }\n",
       "\n",
       "    .dataframe tbody tr th {\n",
       "        vertical-align: top;\n",
       "    }\n",
       "\n",
       "    .dataframe thead th {\n",
       "        text-align: right;\n",
       "    }\n",
       "</style>\n",
       "<table border=\"1\" class=\"dataframe\">\n",
       "  <thead>\n",
       "    <tr style=\"text-align: right;\">\n",
       "      <th></th>\n",
       "      <th>id</th>\n",
       "      <th>question_id</th>\n",
       "      <th>patient_id</th>\n",
       "      <th>questionnaire_id</th>\n",
       "      <th>answer</th>\n",
       "    </tr>\n",
       "  </thead>\n",
       "  <tbody>\n",
       "    <tr>\n",
       "      <th>0</th>\n",
       "      <td>1</td>\n",
       "      <td>1</td>\n",
       "      <td>1</td>\n",
       "      <td>1</td>\n",
       "      <td>I have moderate problems in walking around</td>\n",
       "    </tr>\n",
       "    <tr>\n",
       "      <th>1</th>\n",
       "      <td>2</td>\n",
       "      <td>2</td>\n",
       "      <td>1</td>\n",
       "      <td>1</td>\n",
       "      <td>I have slight problems washing or dressing myself</td>\n",
       "    </tr>\n",
       "    <tr>\n",
       "      <th>2</th>\n",
       "      <td>3</td>\n",
       "      <td>3</td>\n",
       "      <td>1</td>\n",
       "      <td>1</td>\n",
       "      <td>I have moderate problems doing my usual activi...</td>\n",
       "    </tr>\n",
       "    <tr>\n",
       "      <th>3</th>\n",
       "      <td>4</td>\n",
       "      <td>4</td>\n",
       "      <td>1</td>\n",
       "      <td>1</td>\n",
       "      <td>I have severe pain or discomfort</td>\n",
       "    </tr>\n",
       "    <tr>\n",
       "      <th>4</th>\n",
       "      <td>5</td>\n",
       "      <td>5</td>\n",
       "      <td>1</td>\n",
       "      <td>1</td>\n",
       "      <td>I am moderately anxious or depressed</td>\n",
       "    </tr>\n",
       "  </tbody>\n",
       "</table>\n",
       "</div>"
      ],
      "text/plain": [
       "  id  question_id patient_id  questionnaire_id  \\\n",
       "0  1            1          1                 1   \n",
       "1  2            2          1                 1   \n",
       "2  3            3          1                 1   \n",
       "3  4            4          1                 1   \n",
       "4  5            5          1                 1   \n",
       "\n",
       "                                              answer  \n",
       "0         I have moderate problems in walking around  \n",
       "1  I have slight problems washing or dressing myself  \n",
       "2  I have moderate problems doing my usual activi...  \n",
       "3                   I have severe pain or discomfort  \n",
       "4               I am moderately anxious or depressed  "
      ]
     },
     "execution_count": 68,
     "metadata": {},
     "output_type": "execute_result"
    }
   ],
   "source": [
    "answers.head(5)"
   ]
  },
  {
   "cell_type": "code",
   "execution_count": 69,
   "id": "2d413fea",
   "metadata": {},
   "outputs": [
    {
     "data": {
      "text/html": [
       "<div>\n",
       "<style scoped>\n",
       "    .dataframe tbody tr th:only-of-type {\n",
       "        vertical-align: middle;\n",
       "    }\n",
       "\n",
       "    .dataframe tbody tr th {\n",
       "        vertical-align: top;\n",
       "    }\n",
       "\n",
       "    .dataframe thead th {\n",
       "        text-align: right;\n",
       "    }\n",
       "</style>\n",
       "<table border=\"1\" class=\"dataframe\">\n",
       "  <thead>\n",
       "    <tr style=\"text-align: right;\">\n",
       "      <th></th>\n",
       "      <th>id</th>\n",
       "      <th>gender</th>\n",
       "      <th>surgeon_id</th>\n",
       "    </tr>\n",
       "  </thead>\n",
       "  <tbody>\n",
       "    <tr>\n",
       "      <th>0</th>\n",
       "      <td>1</td>\n",
       "      <td>Male</td>\n",
       "      <td>3</td>\n",
       "    </tr>\n",
       "    <tr>\n",
       "      <th>1</th>\n",
       "      <td>2</td>\n",
       "      <td>Male</td>\n",
       "      <td>3</td>\n",
       "    </tr>\n",
       "    <tr>\n",
       "      <th>2</th>\n",
       "      <td>3</td>\n",
       "      <td>Female</td>\n",
       "      <td>1</td>\n",
       "    </tr>\n",
       "    <tr>\n",
       "      <th>3</th>\n",
       "      <td>4</td>\n",
       "      <td>Female</td>\n",
       "      <td>9</td>\n",
       "    </tr>\n",
       "    <tr>\n",
       "      <th>4</th>\n",
       "      <td>5</td>\n",
       "      <td>Male</td>\n",
       "      <td>5</td>\n",
       "    </tr>\n",
       "  </tbody>\n",
       "</table>\n",
       "</div>"
      ],
      "text/plain": [
       "  id  gender  surgeon_id\n",
       "0  1    Male           3\n",
       "1  2    Male           3\n",
       "2  3  Female           1\n",
       "3  4  Female           9\n",
       "4  5    Male           5"
      ]
     },
     "execution_count": 69,
     "metadata": {},
     "output_type": "execute_result"
    }
   ],
   "source": [
    "patients.head(5)"
   ]
  },
  {
   "cell_type": "code",
   "execution_count": 70,
   "id": "fd7fb70b",
   "metadata": {},
   "outputs": [
    {
     "data": {
      "text/html": [
       "<div>\n",
       "<style scoped>\n",
       "    .dataframe tbody tr th:only-of-type {\n",
       "        vertical-align: middle;\n",
       "    }\n",
       "\n",
       "    .dataframe tbody tr th {\n",
       "        vertical-align: top;\n",
       "    }\n",
       "\n",
       "    .dataframe thead th {\n",
       "        text-align: right;\n",
       "    }\n",
       "</style>\n",
       "<table border=\"1\" class=\"dataframe\">\n",
       "  <thead>\n",
       "    <tr style=\"text-align: right;\">\n",
       "      <th></th>\n",
       "      <th>id</th>\n",
       "      <th>type</th>\n",
       "      <th>treatment</th>\n",
       "      <th>questions</th>\n",
       "    </tr>\n",
       "  </thead>\n",
       "  <tbody>\n",
       "    <tr>\n",
       "      <th>0</th>\n",
       "      <td>1</td>\n",
       "      <td>pre</td>\n",
       "      <td>Hip</td>\n",
       "      <td>[1, 2, 3, 4, 5]</td>\n",
       "    </tr>\n",
       "    <tr>\n",
       "      <th>1</th>\n",
       "      <td>2</td>\n",
       "      <td>post</td>\n",
       "      <td>Hip</td>\n",
       "      <td>[1, 2, 3, 4, 5]</td>\n",
       "    </tr>\n",
       "    <tr>\n",
       "      <th>2</th>\n",
       "      <td>3</td>\n",
       "      <td>pre</td>\n",
       "      <td>Knee</td>\n",
       "      <td>[1, 2, 3, 4, 5]</td>\n",
       "    </tr>\n",
       "    <tr>\n",
       "      <th>3</th>\n",
       "      <td>4</td>\n",
       "      <td>post</td>\n",
       "      <td>Knee</td>\n",
       "      <td>[1, 2, 3, 4, 5]</td>\n",
       "    </tr>\n",
       "  </tbody>\n",
       "</table>\n",
       "</div>"
      ],
      "text/plain": [
       "   id  type treatment        questions\n",
       "0   1   pre       Hip  [1, 2, 3, 4, 5]\n",
       "1   2  post       Hip  [1, 2, 3, 4, 5]\n",
       "2   3   pre      Knee  [1, 2, 3, 4, 5]\n",
       "3   4  post      Knee  [1, 2, 3, 4, 5]"
      ]
     },
     "execution_count": 70,
     "metadata": {},
     "output_type": "execute_result"
    }
   ],
   "source": [
    "questionnaires.head(5)"
   ]
  },
  {
   "cell_type": "code",
   "execution_count": 71,
   "id": "9af56259",
   "metadata": {},
   "outputs": [
    {
     "data": {
      "text/html": [
       "<div>\n",
       "<style scoped>\n",
       "    .dataframe tbody tr th:only-of-type {\n",
       "        vertical-align: middle;\n",
       "    }\n",
       "\n",
       "    .dataframe tbody tr th {\n",
       "        vertical-align: top;\n",
       "    }\n",
       "\n",
       "    .dataframe thead th {\n",
       "        text-align: right;\n",
       "    }\n",
       "</style>\n",
       "<table border=\"1\" class=\"dataframe\">\n",
       "  <thead>\n",
       "    <tr style=\"text-align: right;\">\n",
       "      <th></th>\n",
       "      <th>id</th>\n",
       "      <th>title</th>\n",
       "      <th>description</th>\n",
       "    </tr>\n",
       "  </thead>\n",
       "  <tbody>\n",
       "    <tr>\n",
       "      <th>0</th>\n",
       "      <td>1</td>\n",
       "      <td>Mobility</td>\n",
       "      <td>Please indicate what applies</td>\n",
       "    </tr>\n",
       "    <tr>\n",
       "      <th>1</th>\n",
       "      <td>2</td>\n",
       "      <td>Self-care</td>\n",
       "      <td>Please indicate what applies</td>\n",
       "    </tr>\n",
       "    <tr>\n",
       "      <th>2</th>\n",
       "      <td>3</td>\n",
       "      <td>Usual activities</td>\n",
       "      <td>Please indicate what applies</td>\n",
       "    </tr>\n",
       "    <tr>\n",
       "      <th>3</th>\n",
       "      <td>4</td>\n",
       "      <td>Pain / discomfort</td>\n",
       "      <td>Please indicate what applies</td>\n",
       "    </tr>\n",
       "    <tr>\n",
       "      <th>4</th>\n",
       "      <td>5</td>\n",
       "      <td>Anxiety / depression</td>\n",
       "      <td>Please indicate what applies</td>\n",
       "    </tr>\n",
       "  </tbody>\n",
       "</table>\n",
       "</div>"
      ],
      "text/plain": [
       "   id                 title                   description\n",
       "0   1              Mobility  Please indicate what applies\n",
       "1   2             Self-care  Please indicate what applies\n",
       "2   3      Usual activities  Please indicate what applies\n",
       "3   4     Pain / discomfort  Please indicate what applies\n",
       "4   5  Anxiety / depression  Please indicate what applies"
      ]
     },
     "execution_count": 71,
     "metadata": {},
     "output_type": "execute_result"
    }
   ],
   "source": [
    "questions.head(5)"
   ]
  },
  {
   "cell_type": "code",
   "execution_count": 72,
   "id": "6e45c495",
   "metadata": {},
   "outputs": [
    {
     "data": {
      "text/html": [
       "<div>\n",
       "<style scoped>\n",
       "    .dataframe tbody tr th:only-of-type {\n",
       "        vertical-align: middle;\n",
       "    }\n",
       "\n",
       "    .dataframe tbody tr th {\n",
       "        vertical-align: top;\n",
       "    }\n",
       "\n",
       "    .dataframe thead th {\n",
       "        text-align: right;\n",
       "    }\n",
       "</style>\n",
       "<table border=\"1\" class=\"dataframe\">\n",
       "  <thead>\n",
       "    <tr style=\"text-align: right;\">\n",
       "      <th></th>\n",
       "      <th>id</th>\n",
       "      <th>name</th>\n",
       "    </tr>\n",
       "  </thead>\n",
       "  <tbody>\n",
       "    <tr>\n",
       "      <th>0</th>\n",
       "      <td>1</td>\n",
       "      <td>Princess Leia</td>\n",
       "    </tr>\n",
       "    <tr>\n",
       "      <th>1</th>\n",
       "      <td>2</td>\n",
       "      <td>Darth Maul</td>\n",
       "    </tr>\n",
       "    <tr>\n",
       "      <th>2</th>\n",
       "      <td>3</td>\n",
       "      <td>Yoda</td>\n",
       "    </tr>\n",
       "    <tr>\n",
       "      <th>3</th>\n",
       "      <td>4</td>\n",
       "      <td>Boba Fett</td>\n",
       "    </tr>\n",
       "    <tr>\n",
       "      <th>4</th>\n",
       "      <td>5</td>\n",
       "      <td>Obi-Wan Kenobi</td>\n",
       "    </tr>\n",
       "  </tbody>\n",
       "</table>\n",
       "</div>"
      ],
      "text/plain": [
       "   id            name\n",
       "0   1   Princess Leia\n",
       "1   2      Darth Maul\n",
       "2   3            Yoda\n",
       "3   4       Boba Fett\n",
       "4   5  Obi-Wan Kenobi"
      ]
     },
     "execution_count": 72,
     "metadata": {},
     "output_type": "execute_result"
    }
   ],
   "source": [
    "surgeons.head(5)"
   ]
  },
  {
   "cell_type": "markdown",
   "id": "7fc3704c",
   "metadata": {},
   "source": [
    "Each CSV file was loaded into a separate DataFrame using the **Pandas** library in Python. After loading, I displayed the first 5 rows of each dataset using `.head()` to get an initial sense of the structure and content.\n",
    "\n",
    "This quick preview helps verify that:\n",
    "- The data loaded correctly\n",
    "- Column names are as expected\n",
    "- The format looks consistent across tables\n",
    "\n",
    "This also sets up the next step, where I will check for data quality issues like missing values, incorrect types, or duplicates.\n"
   ]
  },
  {
   "cell_type": "markdown",
   "id": "a3fc0046",
   "metadata": {},
   "source": [
    "### Step 2: Data Audit – Checking Structure, Nulls, and Duplicates\n",
    "\n",
    "Before jumping into analysis or merging data, it’s important to take a moment to audit the raw datasets. This helps confirm that:\n",
    "\n",
    "- There are no missing values in critical columns\n",
    "- There are no accidental duplicate rows\n",
    "- Data types are appropriate for what we want to do next (e.g., IDs as strings or integers)\n",
    "\n",
    "To make this quick and consistent, I created a simple audit function called `audit_dataframe()`.\n",
    "\n",
    "This function prints out:\n",
    "- The shape of the dataset (rows × columns)\n",
    "- A count of missing values in each column\n",
    "- The number of duplicated rows (if any)\n",
    "- A full `.info()` summary including data types and memory usage\n",
    "\n",
    "This check gives me a full view of data cleanliness and readiness, and helps prevent surprises later when joining or filtering data.\n"
   ]
  },
  {
   "cell_type": "code",
   "execution_count": 73,
   "id": "f103ba68",
   "metadata": {},
   "outputs": [
    {
     "name": "stdout",
     "output_type": "stream",
     "text": [
      "\n",
      " Answer Options\n",
      "--------------------------------------------------\n",
      "Shape: (25, 4)\n",
      "Missing values:\n",
      "question_id         0\n",
      "answer              0\n",
      "severity_code       0\n",
      "central_estimate    0\n",
      "dtype: int64\n",
      "Duplicate rows: 0\n",
      "\n",
      "Data types and memory usage:\n",
      "<class 'pandas.core.frame.DataFrame'>\n",
      "RangeIndex: 25 entries, 0 to 24\n",
      "Data columns (total 4 columns):\n",
      " #   Column            Non-Null Count  Dtype  \n",
      "---  ------            --------------  -----  \n",
      " 0   question_id       25 non-null     int64  \n",
      " 1   answer            25 non-null     object \n",
      " 2   severity_code     25 non-null     int64  \n",
      " 3   central_estimate  25 non-null     float64\n",
      "dtypes: float64(1), int64(2), object(1)\n",
      "memory usage: 932.0+ bytes\n",
      "None\n",
      "--------------------------------------------------\n",
      "\n",
      " Answers\n",
      "--------------------------------------------------\n",
      "Shape: (218335, 5)\n",
      "Missing values:\n",
      "id                  0\n",
      "question_id         0\n",
      "patient_id          0\n",
      "questionnaire_id    0\n",
      "answer              0\n",
      "dtype: int64\n",
      "Duplicate rows: 0\n",
      "\n",
      "Data types and memory usage:\n",
      "<class 'pandas.core.frame.DataFrame'>\n",
      "RangeIndex: 218335 entries, 0 to 218334\n",
      "Data columns (total 5 columns):\n",
      " #   Column            Non-Null Count   Dtype \n",
      "---  ------            --------------   ----- \n",
      " 0   id                218335 non-null  object\n",
      " 1   question_id       218335 non-null  int64 \n",
      " 2   patient_id        218335 non-null  object\n",
      " 3   questionnaire_id  218335 non-null  int64 \n",
      " 4   answer            218335 non-null  object\n",
      "dtypes: int64(2), object(3)\n",
      "memory usage: 8.3+ MB\n",
      "None\n",
      "--------------------------------------------------\n",
      "\n",
      " Patients\n",
      "--------------------------------------------------\n",
      "Shape: (25000, 3)\n",
      "Missing values:\n",
      "id            0\n",
      "gender        0\n",
      "surgeon_id    0\n",
      "dtype: int64\n",
      "Duplicate rows: 0\n",
      "\n",
      "Data types and memory usage:\n",
      "<class 'pandas.core.frame.DataFrame'>\n",
      "RangeIndex: 25000 entries, 0 to 24999\n",
      "Data columns (total 3 columns):\n",
      " #   Column      Non-Null Count  Dtype \n",
      "---  ------      --------------  ----- \n",
      " 0   id          25000 non-null  object\n",
      " 1   gender      25000 non-null  object\n",
      " 2   surgeon_id  25000 non-null  int64 \n",
      "dtypes: int64(1), object(2)\n",
      "memory usage: 586.1+ KB\n",
      "None\n",
      "--------------------------------------------------\n",
      "\n",
      " Questionnaires\n",
      "--------------------------------------------------\n",
      "Shape: (4, 4)\n",
      "Missing values:\n",
      "id           0\n",
      "type         0\n",
      "treatment    0\n",
      "questions    0\n",
      "dtype: int64\n",
      "Duplicate rows: 0\n",
      "\n",
      "Data types and memory usage:\n",
      "<class 'pandas.core.frame.DataFrame'>\n",
      "RangeIndex: 4 entries, 0 to 3\n",
      "Data columns (total 4 columns):\n",
      " #   Column     Non-Null Count  Dtype \n",
      "---  ------     --------------  ----- \n",
      " 0   id         4 non-null      int64 \n",
      " 1   type       4 non-null      object\n",
      " 2   treatment  4 non-null      object\n",
      " 3   questions  4 non-null      object\n",
      "dtypes: int64(1), object(3)\n",
      "memory usage: 260.0+ bytes\n",
      "None\n",
      "--------------------------------------------------\n",
      "\n",
      " Questions\n",
      "--------------------------------------------------\n",
      "Shape: (5, 3)\n",
      "Missing values:\n",
      "id             0\n",
      "title          0\n",
      "description    0\n",
      "dtype: int64\n",
      "Duplicate rows: 0\n",
      "\n",
      "Data types and memory usage:\n",
      "<class 'pandas.core.frame.DataFrame'>\n",
      "RangeIndex: 5 entries, 0 to 4\n",
      "Data columns (total 3 columns):\n",
      " #   Column       Non-Null Count  Dtype \n",
      "---  ------       --------------  ----- \n",
      " 0   id           5 non-null      int64 \n",
      " 1   title        5 non-null      object\n",
      " 2   description  5 non-null      object\n",
      "dtypes: int64(1), object(2)\n",
      "memory usage: 252.0+ bytes\n",
      "None\n",
      "--------------------------------------------------\n",
      "\n",
      " Surgeons\n",
      "--------------------------------------------------\n",
      "Shape: (10, 2)\n",
      "Missing values:\n",
      "id      0\n",
      "name    0\n",
      "dtype: int64\n",
      "Duplicate rows: 0\n",
      "\n",
      "Data types and memory usage:\n",
      "<class 'pandas.core.frame.DataFrame'>\n",
      "RangeIndex: 10 entries, 0 to 9\n",
      "Data columns (total 2 columns):\n",
      " #   Column  Non-Null Count  Dtype \n",
      "---  ------  --------------  ----- \n",
      " 0   id      10 non-null     int64 \n",
      " 1   name    10 non-null     object\n",
      "dtypes: int64(1), object(1)\n",
      "memory usage: 292.0+ bytes\n",
      "None\n",
      "--------------------------------------------------\n"
     ]
    }
   ],
   "source": [
    "def audit_dataframe(df, name):\n",
    "    print(f\"\\n {name}\")\n",
    "    print(\"-\" * 50)\n",
    "    print(f\"Shape: {df.shape}\")\n",
    "    print(f\"Missing values:\\n{df.isnull().sum()}\")\n",
    "    print(f\"Duplicate rows: {df.duplicated().sum()}\")\n",
    "    print(\"\\nData types and memory usage:\")\n",
    "    print(df.info())\n",
    "    print(\"-\" * 50)\n",
    "\n",
    "# Run audit on each dataset\n",
    "audit_dataframe(answer_options, \"Answer Options\")\n",
    "audit_dataframe(answers, \"Answers\")\n",
    "audit_dataframe(patients, \"Patients\")\n",
    "audit_dataframe(questionnaires, \"Questionnaires\")\n",
    "audit_dataframe(questions, \"Questions\")\n",
    "audit_dataframe(surgeons, \"Surgeons\")\n"
   ]
  },
  {
   "cell_type": "markdown",
   "id": "5d26580b",
   "metadata": {},
   "source": [
    "I used a custom `audit_dataframe()` function to check each table’s shape, missing values (`.isnull().sum()`), duplicate rows (`.duplicated().sum()`), and data types (`.info()`).\n",
    "\n",
    "Result: \n",
    "- No missing or duplicate rows\n",
    "- Data types are appropriate\n",
    "- Column names are clear\n",
    "\n",
    "Next, I’ll move into **data preparation**, where I will normalize key text fields and filter the dataset to include only **hip replacement surgeries**, as required by the task."
   ]
  },
  {
   "cell_type": "markdown",
   "id": "a327de9c",
   "metadata": {},
   "source": [
    "# Data Cleaning & Preparation"
   ]
  },
  {
   "cell_type": "markdown",
   "id": "85beee46",
   "metadata": {},
   "source": [
    "Although our audit showed no missing values or duplicate rows, it's still good practice to clean key text columns to avoid inconsistencies when joining or filtering.\n",
    "\n",
    "Specifically, I cleaned:\n",
    "- `answer` in both `answers` and `answer_options` to match exact text (e.g., removing spaces, fixing casing)\n",
    "- `treatment` in `questionnaires` to ensure we correctly filter to \"Hip\" replacements later on\n",
    "\n",
    "This helps ensure our joins will work correctly and we won’t accidentally exclude rows due to small text mismatches (like \"hip\" vs. \"Hip\").\n"
   ]
  },
  {
   "cell_type": "markdown",
   "id": "5a75f598",
   "metadata": {},
   "source": [
    "### Step 3:  Standardize Text Columns"
   ]
  },
  {
   "cell_type": "code",
   "execution_count": 74,
   "id": "d378335a",
   "metadata": {},
   "outputs": [
    {
     "name": "stdout",
     "output_type": "stream",
     "text": [
      "Unique treatment types: ['Hip' 'Knee']\n",
      "Sample cleaned answers: ['I Have No Problems In Walking Around'\n",
      " 'I Have Slight Problems In Walking Around'\n",
      " 'I Have Moderate Problems In Walking Around'\n",
      " 'I Have Severe Problems In Walking Around' 'I Am Unable To Walk Around']\n"
     ]
    }
   ],
   "source": [
    "# Normalize answer text (remove leading/trailing spaces, capitalize)\n",
    "answer_options['answer'] = answer_options['answer'].str.strip().str.title()\n",
    "answers['answer'] = answers['answer'].str.strip().str.title()\n",
    "\n",
    "# Normalize treatment types for filtering later (e.g., \"Hip\", \"Knee\")\n",
    "questionnaires['treatment'] = questionnaires['treatment'].str.strip().str.title()\n",
    "\n",
    "# Confirm results\n",
    "print(\"Unique treatment types:\", questionnaires['treatment'].unique())\n",
    "print(\"Sample cleaned answers:\", answer_options['answer'].unique()[:5])\n"
   ]
  },
  {
   "cell_type": "markdown",
   "id": "7ab27f33",
   "metadata": {},
   "source": [
    "Results: \n",
    "\n",
    "- The `treatment` column now contains standardized values: `'Hip'` and `'Knee'`. This confirms the text normalization worked and prepares the data for accurate filtering.\n",
    "- The `answer` values in both `answers` and `answer_options` have also been cleaned and capitalized consistently. This ensures they'll match correctly when we join these tables later.\n",
    "\n",
    "Everything looks good and is ready for filtering the dataset to include **only hip replacement surgeries**, as required by the task.\n"
   ]
  },
  {
   "cell_type": "markdown",
   "id": "414fc532",
   "metadata": {},
   "source": [
    "### Step 4: Filter to Only Hip Replacement Surgeries\n",
    "\n",
    "The original question focuses specifically on **hip replacement operations**, but our dataset includes responses for both hip and knee surgeries.\n",
    "\n",
    "To make sure our analysis is aligned, we first filter the `questionnaires` table to only include rows where the `treatment` is \"Hip\".\n",
    "\n",
    "We’ll then use this filtered version of the table (`hip_questionnaires`) in our later joins, so only hip surgery responses are included throughout the analysis."
   ]
  },
  {
   "cell_type": "code",
   "execution_count": 75,
   "id": "1d9d26ef",
   "metadata": {},
   "outputs": [
    {
     "name": "stdout",
     "output_type": "stream",
     "text": [
      " Hip-only questionnaires retained: 2\n",
      "Questionnaire types: ['pre' 'post']\n"
     ]
    }
   ],
   "source": [
    "# Filter questionnaires to only include Hip surgeries\n",
    "hip_questionnaires = questionnaires[questionnaires['treatment'] == 'Hip'].copy()\n",
    "\n",
    "# Confirm results\n",
    "print(\" Hip-only questionnaires retained:\", hip_questionnaires.shape[0])\n",
    "print(\"Questionnaire types:\", hip_questionnaires['type'].unique())\n"
   ]
  },
  {
   "cell_type": "markdown",
   "id": "aae19dbc",
   "metadata": {},
   "source": [
    "While I used Pandas to filter the `questionnaires` table to include only `\"Hip\"` treatments, I also wanted to demonstrate how the same logic would look and run in SQL.\n",
    "\n",
    "Using the `pandasql` library, we can run actual SQL queries on our in-memory Pandas DataFrames. This is helpful for:\n",
    "\n",
    "- Demonstrating SQL fluency\n",
    "- Aligning with dbt-style workflows (which Gemma uses)\n",
    "- Validating that the logic produces the same result in both environments\n",
    "\n",
    "Below, I execute the same filtering logic using SQL to retrieve only hip replacement questionnaire entries."
   ]
  },
  {
   "cell_type": "code",
   "execution_count": 76,
   "id": "5bba98ab",
   "metadata": {},
   "outputs": [
    {
     "data": {
      "text/html": [
       "<div>\n",
       "<style scoped>\n",
       "    .dataframe tbody tr th:only-of-type {\n",
       "        vertical-align: middle;\n",
       "    }\n",
       "\n",
       "    .dataframe tbody tr th {\n",
       "        vertical-align: top;\n",
       "    }\n",
       "\n",
       "    .dataframe thead th {\n",
       "        text-align: right;\n",
       "    }\n",
       "</style>\n",
       "<table border=\"1\" class=\"dataframe\">\n",
       "  <thead>\n",
       "    <tr style=\"text-align: right;\">\n",
       "      <th></th>\n",
       "      <th>id</th>\n",
       "      <th>type</th>\n",
       "      <th>treatment</th>\n",
       "      <th>questions</th>\n",
       "    </tr>\n",
       "  </thead>\n",
       "  <tbody>\n",
       "    <tr>\n",
       "      <th>0</th>\n",
       "      <td>1</td>\n",
       "      <td>pre</td>\n",
       "      <td>Hip</td>\n",
       "      <td>[1, 2, 3, 4, 5]</td>\n",
       "    </tr>\n",
       "    <tr>\n",
       "      <th>1</th>\n",
       "      <td>2</td>\n",
       "      <td>post</td>\n",
       "      <td>Hip</td>\n",
       "      <td>[1, 2, 3, 4, 5]</td>\n",
       "    </tr>\n",
       "  </tbody>\n",
       "</table>\n",
       "</div>"
      ],
      "text/plain": [
       "   id  type treatment        questions\n",
       "0   1   pre       Hip  [1, 2, 3, 4, 5]\n",
       "1   2  post       Hip  [1, 2, 3, 4, 5]"
      ]
     },
     "execution_count": 76,
     "metadata": {},
     "output_type": "execute_result"
    }
   ],
   "source": [
    "import pandasql as psql\n",
    "\n",
    "# Example: select all hip questionnaires\n",
    "query = \"\"\"\n",
    "SELECT *\n",
    "FROM questionnaires\n",
    "WHERE treatment = 'Hip'\n",
    "\"\"\"\n",
    "\n",
    "hip_questionnaires_sql = psql.sqldf(query, globals())\n",
    "hip_questionnaires_sql.head()"
   ]
  },
  {
   "cell_type": "markdown",
   "id": "04699119",
   "metadata": {},
   "source": [
    "This shows that:\n",
    "- Only the **pre- and post-surgery EQ-5D-5L questionnaires** for hip replacements are retained.\n",
    "- Each includes the same 5 questions (IDs 1–5), which will be used to calculate health scores.\n",
    "- Any knee-related surveys have been excluded, ensuring the analysis stays focused on hip surgeries only.\n",
    "\n",
    "Now that this filter is in place, I will merge this data with patient responses so that only **hip-related answers** move forward into the analysis. "
   ]
  },
  {
   "cell_type": "markdown",
   "id": "7c375450",
   "metadata": {},
   "source": [
    "### Step 5: Merge Tables for Scoring\n",
    "\n",
    "This below SQL query combines four key tables to build the dataset required for scoring patient outcomes:\n",
    "\n",
    "| Table                | Why It’s Needed                       |\n",
    "| -------------------- | ------------------------------------- |\n",
    "| `answers`            | Patient answers to EQ-5D-5L questions |\n",
    "| `answer_options`     | Maps each answer to a numerical score |\n",
    "| `hip_questionnaires` | Filters to **hip** surgeries only     |\n",
    "| `patients`           | Links each patient to a surgeon       |\n",
    "\n",
    "\n",
    "This will give us a table where each row is one scored answer, labeled as pre/post, and tagged with a surgeon_id."
   ]
  },
  {
   "cell_type": "markdown",
   "id": "c710ad3c",
   "metadata": {},
   "source": [
    "All further logic uses SQL (`pandasql`) for transformation to reflect production-ready dbt-style workflows.\n"
   ]
  },
  {
   "cell_type": "code",
   "execution_count": 77,
   "id": "67b58599",
   "metadata": {},
   "outputs": [
    {
     "data": {
      "text/html": [
       "<div>\n",
       "<style scoped>\n",
       "    .dataframe tbody tr th:only-of-type {\n",
       "        vertical-align: middle;\n",
       "    }\n",
       "\n",
       "    .dataframe tbody tr th {\n",
       "        vertical-align: top;\n",
       "    }\n",
       "\n",
       "    .dataframe thead th {\n",
       "        text-align: right;\n",
       "    }\n",
       "</style>\n",
       "<table border=\"1\" class=\"dataframe\">\n",
       "  <thead>\n",
       "    <tr style=\"text-align: right;\">\n",
       "      <th></th>\n",
       "      <th>question_id</th>\n",
       "      <th>patient_id</th>\n",
       "      <th>questionnaire_id</th>\n",
       "      <th>answer</th>\n",
       "      <th>score</th>\n",
       "      <th>questionnaire_type</th>\n",
       "      <th>surgeon_id</th>\n",
       "    </tr>\n",
       "  </thead>\n",
       "  <tbody>\n",
       "    <tr>\n",
       "      <th>0</th>\n",
       "      <td>1</td>\n",
       "      <td>1</td>\n",
       "      <td>1</td>\n",
       "      <td>I Have Moderate Problems In Walking Around</td>\n",
       "      <td>0.076</td>\n",
       "      <td>pre</td>\n",
       "      <td>3</td>\n",
       "    </tr>\n",
       "    <tr>\n",
       "      <th>1</th>\n",
       "      <td>2</td>\n",
       "      <td>1</td>\n",
       "      <td>1</td>\n",
       "      <td>I Have Slight Problems Washing Or Dressing Myself</td>\n",
       "      <td>0.050</td>\n",
       "      <td>pre</td>\n",
       "      <td>3</td>\n",
       "    </tr>\n",
       "    <tr>\n",
       "      <th>2</th>\n",
       "      <td>3</td>\n",
       "      <td>1</td>\n",
       "      <td>1</td>\n",
       "      <td>I Have Moderate Problems Doing My Usual Activi...</td>\n",
       "      <td>0.063</td>\n",
       "      <td>pre</td>\n",
       "      <td>3</td>\n",
       "    </tr>\n",
       "    <tr>\n",
       "      <th>3</th>\n",
       "      <td>4</td>\n",
       "      <td>1</td>\n",
       "      <td>1</td>\n",
       "      <td>I Have Severe Pain Or Discomfort</td>\n",
       "      <td>0.280</td>\n",
       "      <td>pre</td>\n",
       "      <td>3</td>\n",
       "    </tr>\n",
       "    <tr>\n",
       "      <th>4</th>\n",
       "      <td>5</td>\n",
       "      <td>1</td>\n",
       "      <td>1</td>\n",
       "      <td>I Am Moderately Anxious Or Depressed</td>\n",
       "      <td>0.100</td>\n",
       "      <td>pre</td>\n",
       "      <td>3</td>\n",
       "    </tr>\n",
       "  </tbody>\n",
       "</table>\n",
       "</div>"
      ],
      "text/plain": [
       "   question_id patient_id  questionnaire_id  \\\n",
       "0            1          1                 1   \n",
       "1            2          1                 1   \n",
       "2            3          1                 1   \n",
       "3            4          1                 1   \n",
       "4            5          1                 1   \n",
       "\n",
       "                                              answer  score  \\\n",
       "0         I Have Moderate Problems In Walking Around  0.076   \n",
       "1  I Have Slight Problems Washing Or Dressing Myself  0.050   \n",
       "2  I Have Moderate Problems Doing My Usual Activi...  0.063   \n",
       "3                   I Have Severe Pain Or Discomfort  0.280   \n",
       "4               I Am Moderately Anxious Or Depressed  0.100   \n",
       "\n",
       "  questionnaire_type  surgeon_id  \n",
       "0                pre           3  \n",
       "1                pre           3  \n",
       "2                pre           3  \n",
       "3                pre           3  \n",
       "4                pre           3  "
      ]
     },
     "execution_count": 77,
     "metadata": {},
     "output_type": "execute_result"
    }
   ],
   "source": [
    "query = \"\"\"\n",
    "SELECT \n",
    "    a.question_id,\n",
    "    a.patient_id,\n",
    "    a.questionnaire_id,\n",
    "    a.answer,\n",
    "    ao.central_estimate AS score,\n",
    "    q.type AS questionnaire_type,\n",
    "    p.surgeon_id\n",
    "FROM answers a\n",
    "JOIN answer_options ao\n",
    "    ON a.question_id = ao.question_id AND a.answer = ao.answer\n",
    "JOIN hip_questionnaires q\n",
    "    ON a.questionnaire_id = q.id\n",
    "JOIN patients p\n",
    "    ON a.patient_id = p.id\n",
    "\"\"\"\n",
    "\n",
    "# Run SQL and store result\n",
    "scored_answers_sql = psql.sqldf(query, globals())\n",
    "\n",
    "# Preview the merged table\n",
    "scored_answers_sql.head()\n"
   ]
  },
  {
   "cell_type": "markdown",
   "id": "ddcf8620",
   "metadata": {},
   "source": [
    "The result is a flat table where each row contains:\n",
    "- The question answered\n",
    "- The patient and questionnaire ID\n",
    "- The text response and its numeric score\n",
    "- Whether it was a **pre** or **post** surgery response\n",
    "- The **surgeon_id** for attribution\n",
    "\n",
    "This structure sets us up to calculate **pre- and post-surgery scores per patient**, and later aggregate those improvements by surgeon."
   ]
  },
  {
   "cell_type": "markdown",
   "id": "7c76c060",
   "metadata": {},
   "source": [
    "### Step 6: Calculate Health Scores and Improvement (SQL via pandasql)\n",
    "\n",
    "Each patient answered 5 questions before and after surgery. To calculate their health score:\n",
    "\n",
    "- I group the responses by `patient_id` and `questionnaire_type` (`pre` or `post`)\n",
    "- I sum the 5 numeric scores (from `answer_options`)\n",
    "- I convert this to a health score using the formula: `health_score = 1 - SUM(score)`\n",
    "\n",
    "This formula turns the sum of severity scores into a more intuitive health score — where **higher = better condition**. Each patient should now have two rows: one for their pre-surgery score, and one for post-surgery."
   ]
  },
  {
   "cell_type": "code",
   "execution_count": 78,
   "id": "537e58c5",
   "metadata": {},
   "outputs": [
    {
     "data": {
      "text/html": [
       "<div>\n",
       "<style scoped>\n",
       "    .dataframe tbody tr th:only-of-type {\n",
       "        vertical-align: middle;\n",
       "    }\n",
       "\n",
       "    .dataframe tbody tr th {\n",
       "        vertical-align: top;\n",
       "    }\n",
       "\n",
       "    .dataframe thead th {\n",
       "        text-align: right;\n",
       "    }\n",
       "</style>\n",
       "<table border=\"1\" class=\"dataframe\">\n",
       "  <thead>\n",
       "    <tr style=\"text-align: right;\">\n",
       "      <th></th>\n",
       "      <th>patient_id</th>\n",
       "      <th>questionnaire_type</th>\n",
       "      <th>health_score</th>\n",
       "    </tr>\n",
       "  </thead>\n",
       "  <tbody>\n",
       "    <tr>\n",
       "      <th>0</th>\n",
       "      <td>1</td>\n",
       "      <td>post</td>\n",
       "      <td>0.690</td>\n",
       "    </tr>\n",
       "    <tr>\n",
       "      <th>1</th>\n",
       "      <td>1</td>\n",
       "      <td>pre</td>\n",
       "      <td>0.431</td>\n",
       "    </tr>\n",
       "    <tr>\n",
       "      <th>2</th>\n",
       "      <td>1,001</td>\n",
       "      <td>post</td>\n",
       "      <td>0.500</td>\n",
       "    </tr>\n",
       "    <tr>\n",
       "      <th>3</th>\n",
       "      <td>1,001</td>\n",
       "      <td>pre</td>\n",
       "      <td>0.526</td>\n",
       "    </tr>\n",
       "    <tr>\n",
       "      <th>4</th>\n",
       "      <td>1,006</td>\n",
       "      <td>post</td>\n",
       "      <td>0.795</td>\n",
       "    </tr>\n",
       "  </tbody>\n",
       "</table>\n",
       "</div>"
      ],
      "text/plain": [
       "  patient_id questionnaire_type  health_score\n",
       "0          1               post         0.690\n",
       "1          1                pre         0.431\n",
       "2      1,001               post         0.500\n",
       "3      1,001                pre         0.526\n",
       "4      1,006               post         0.795"
      ]
     },
     "execution_count": 78,
     "metadata": {},
     "output_type": "execute_result"
    }
   ],
   "source": [
    "# First, create a temp view to aggregate scores per patient per type\n",
    "query_scores = \"\"\"\n",
    "SELECT\n",
    "    patient_id,\n",
    "    questionnaire_type,\n",
    "    1 - SUM(score) AS health_score\n",
    "FROM scored_answers_sql\n",
    "GROUP BY patient_id, questionnaire_type\n",
    "\"\"\"\n",
    "\n",
    "patient_scores_sql = psql.sqldf(query_scores, globals())\n",
    "patient_scores_sql.head()\n"
   ]
  },
  {
   "cell_type": "markdown",
   "id": "70dfe8f1",
   "metadata": {},
   "source": [
    "Example Output:\n",
    "\n",
    "| patient_id | questionnaire_type | health_score |\n",
    "|------------|--------------------|---------------|\n",
    "| 1          | post               | 0.690         |\n",
    "| 1          | pre                | 0.431         |\n",
    "\n",
    "This shows that patient 1 improved from 0.431 to 0.690 which is a clear positive change.\n",
    "\n",
    "---\n",
    "\n",
    "Why This Matters:\n",
    "\n",
    "This step gives me exactly what I need to:\n",
    "- Compare each patient’s condition **before and after surgery**\n",
    "- Quantify their individual **improvement**\n",
    "- Attribute that improvement to a surgeon in the next step\n",
    "\n",
    "Once I have pre- and post-surgery scores, I pivot them into separate columns, and calculate improvement as:\n",
    "\n",
    "> improvement = post_score - pre_score\n",
    "\n",
    "This gives us a table where each row represents one patient and their improvement.\n"
   ]
  },
  {
   "cell_type": "markdown",
   "id": "c693fdb6",
   "metadata": {},
   "source": [
    "#### Step 7: Pivot into Pre/Post Columns (SQL-style via Pandas for now)\n",
    "\n",
    "\n",
    "Now that I have health scores for each patient both **pre-** and **post-surgery**, I pivoted the table so each patient has a single row with both scores side by side.\n",
    "\n",
    "This makes it easier to compare and calculate improvement:\n",
    "\n",
    "improvement = post_score - pre_score\n",
    "\n",
    "**Note:** Unfortunately, pandasql doesn't support pivot directly (SQL PIVOT is not implemented in SQLite, which pandasql uses). So here we switch briefly to Pandas to perform the pivot step."
   ]
  },
  {
   "cell_type": "code",
   "execution_count": 79,
   "id": "d8625713",
   "metadata": {},
   "outputs": [
    {
     "data": {
      "text/html": [
       "<div>\n",
       "<style scoped>\n",
       "    .dataframe tbody tr th:only-of-type {\n",
       "        vertical-align: middle;\n",
       "    }\n",
       "\n",
       "    .dataframe tbody tr th {\n",
       "        vertical-align: top;\n",
       "    }\n",
       "\n",
       "    .dataframe thead th {\n",
       "        text-align: right;\n",
       "    }\n",
       "</style>\n",
       "<table border=\"1\" class=\"dataframe\">\n",
       "  <thead>\n",
       "    <tr style=\"text-align: right;\">\n",
       "      <th></th>\n",
       "      <th>patient_id</th>\n",
       "      <th>post_score</th>\n",
       "      <th>pre_score</th>\n",
       "      <th>improvement</th>\n",
       "    </tr>\n",
       "  </thead>\n",
       "  <tbody>\n",
       "    <tr>\n",
       "      <th>0</th>\n",
       "      <td>1</td>\n",
       "      <td>0.690</td>\n",
       "      <td>0.431</td>\n",
       "      <td>0.259</td>\n",
       "    </tr>\n",
       "    <tr>\n",
       "      <th>1</th>\n",
       "      <td>1,001</td>\n",
       "      <td>0.500</td>\n",
       "      <td>0.526</td>\n",
       "      <td>-0.026</td>\n",
       "    </tr>\n",
       "    <tr>\n",
       "      <th>2</th>\n",
       "      <td>1,006</td>\n",
       "      <td>0.795</td>\n",
       "      <td>0.824</td>\n",
       "      <td>-0.029</td>\n",
       "    </tr>\n",
       "    <tr>\n",
       "      <th>3</th>\n",
       "      <td>1,007</td>\n",
       "      <td>0.510</td>\n",
       "      <td>0.824</td>\n",
       "      <td>-0.314</td>\n",
       "    </tr>\n",
       "    <tr>\n",
       "      <th>4</th>\n",
       "      <td>1,009</td>\n",
       "      <td>0.862</td>\n",
       "      <td>0.744</td>\n",
       "      <td>0.118</td>\n",
       "    </tr>\n",
       "  </tbody>\n",
       "</table>\n",
       "</div>"
      ],
      "text/plain": [
       "  patient_id  post_score  pre_score  improvement\n",
       "0          1       0.690      0.431        0.259\n",
       "1      1,001       0.500      0.526       -0.026\n",
       "2      1,006       0.795      0.824       -0.029\n",
       "3      1,007       0.510      0.824       -0.314\n",
       "4      1,009       0.862      0.744        0.118"
      ]
     },
     "execution_count": 79,
     "metadata": {},
     "output_type": "execute_result"
    }
   ],
   "source": [
    "# Pivot health scores to have pre and post on the same row\n",
    "patient_scores_pivot = patient_scores_sql.pivot(\n",
    "    index='patient_id',\n",
    "    columns='questionnaire_type',\n",
    "    values='health_score'\n",
    ").reset_index()\n",
    "\n",
    "# Rename columns\n",
    "patient_scores_pivot.columns.name = None\n",
    "patient_scores_pivot = patient_scores_pivot.rename(columns={\n",
    "    'pre': 'pre_score',\n",
    "    'post': 'post_score'\n",
    "})\n",
    "\n",
    "# Calculate improvement\n",
    "patient_scores_pivot['improvement'] = (\n",
    "    patient_scores_pivot['post_score'] - patient_scores_pivot['pre_score']\n",
    ")\n",
    "\n",
    "# Preview\n",
    "patient_scores_pivot.head()"
   ]
  },
  {
   "cell_type": "markdown",
   "id": "9cf3a2f9",
   "metadata": {},
   "source": [
    "Result: \n",
    "- Positive values = the patient’s condition improved  \n",
    "- Negative values = the patient felt **worse** after surgery (a flag worth tracking)\n",
    "\n",
    "\n",
    "Why This Step Is Important\n",
    "\n",
    "- This gives a **quantitative measure of recovery** for each patient\n",
    "- It's the foundation for evaluating **surgeon performance**\n",
    "- In the next step, I will merge this with surgeon IDs and begin scoring at the surgeon level\n"
   ]
  },
  {
   "cell_type": "code",
   "execution_count": 80,
   "id": "045524cb",
   "metadata": {},
   "outputs": [
    {
     "data": {
      "text/html": [
       "<div>\n",
       "<style scoped>\n",
       "    .dataframe tbody tr th:only-of-type {\n",
       "        vertical-align: middle;\n",
       "    }\n",
       "\n",
       "    .dataframe tbody tr th {\n",
       "        vertical-align: top;\n",
       "    }\n",
       "\n",
       "    .dataframe thead th {\n",
       "        text-align: right;\n",
       "    }\n",
       "</style>\n",
       "<table border=\"1\" class=\"dataframe\">\n",
       "  <thead>\n",
       "    <tr style=\"text-align: right;\">\n",
       "      <th></th>\n",
       "      <th>patient_id</th>\n",
       "      <th>post_score</th>\n",
       "      <th>pre_score</th>\n",
       "      <th>improvement</th>\n",
       "      <th>surgeon_id</th>\n",
       "    </tr>\n",
       "  </thead>\n",
       "  <tbody>\n",
       "    <tr>\n",
       "      <th>0</th>\n",
       "      <td>1</td>\n",
       "      <td>0.690</td>\n",
       "      <td>0.431</td>\n",
       "      <td>0.259</td>\n",
       "      <td>3</td>\n",
       "    </tr>\n",
       "    <tr>\n",
       "      <th>1</th>\n",
       "      <td>1,001</td>\n",
       "      <td>0.500</td>\n",
       "      <td>0.526</td>\n",
       "      <td>-0.026</td>\n",
       "      <td>4</td>\n",
       "    </tr>\n",
       "    <tr>\n",
       "      <th>2</th>\n",
       "      <td>1,006</td>\n",
       "      <td>0.795</td>\n",
       "      <td>0.824</td>\n",
       "      <td>-0.029</td>\n",
       "      <td>4</td>\n",
       "    </tr>\n",
       "    <tr>\n",
       "      <th>3</th>\n",
       "      <td>1,007</td>\n",
       "      <td>0.510</td>\n",
       "      <td>0.824</td>\n",
       "      <td>-0.314</td>\n",
       "      <td>8</td>\n",
       "    </tr>\n",
       "    <tr>\n",
       "      <th>4</th>\n",
       "      <td>1,009</td>\n",
       "      <td>0.862</td>\n",
       "      <td>0.744</td>\n",
       "      <td>0.118</td>\n",
       "      <td>4</td>\n",
       "    </tr>\n",
       "  </tbody>\n",
       "</table>\n",
       "</div>"
      ],
      "text/plain": [
       "  patient_id  post_score  pre_score  improvement  surgeon_id\n",
       "0          1       0.690      0.431        0.259           3\n",
       "1      1,001       0.500      0.526       -0.026           4\n",
       "2      1,006       0.795      0.824       -0.029           4\n",
       "3      1,007       0.510      0.824       -0.314           8\n",
       "4      1,009       0.862      0.744        0.118           4"
      ]
     },
     "execution_count": 80,
     "metadata": {},
     "output_type": "execute_result"
    }
   ],
   "source": [
    "# Merge surgeon_id (from scored_answers_sql, dropping duplicates)\n",
    "patient_surgeons = scored_answers_sql[['patient_id', 'surgeon_id']].drop_duplicates()\n",
    "\n",
    "patient_scores_pivot = patient_scores_pivot.merge(\n",
    "    patient_surgeons,\n",
    "    on='patient_id',\n",
    "    how='left'\n",
    ")\n",
    "\n",
    "patient_scores_pivot.head()\n"
   ]
  },
  {
   "cell_type": "markdown",
   "id": "00d25c06",
   "metadata": {},
   "source": [
    "To evaluate each surgeon’s performance, I needed to link each patient’s improvement score back to the surgeon who performed their operation.\n",
    "\n",
    "Since each patient has exactly one associated surgeon, I:\n",
    "- Selected `patient_id` and `surgeon_id` from the `scored_answers_sql` table\n",
    "- Used `.drop_duplicates()` to make sure each patient appears only once\n",
    "- Merged this into the `patient_scores_pivot` table on `patient_id`\n",
    "\n",
    "I used `scored_answers_sql` because, it was built after filtering to hip surgeries, it guarantees we’re only merging in **surgeons related to hip replacements**, staying true to the scope of the analysis.\n",
    "\n",
    "Each row in `patient_scores_pivot` now includes:\n",
    "- Pre- and post-surgery health scores\n",
    "- Improvement score\n",
    "- The `surgeon_id` responsible for the operation"
   ]
  },
  {
   "cell_type": "markdown",
   "id": "baa97c4d",
   "metadata": {},
   "source": [
    "\n",
    "\n",
    "### Step 8: Check for Incomplete Patient Records\n",
    "\n",
    "Before calculating surgeon performance, we need to confirm that each patient has both a pre- and post-surgery score.\n",
    "\n",
    "Patients with missing scores will have `NaN` in the `pre_score`, `post_score`, or `improvement` columns. These rows need to be excluded because we can't calculate improvement from only one side.\n",
    "\n",
    "Below, I check how many such rows exist before filtering.\n"
   ]
  },
  {
   "cell_type": "code",
   "execution_count": 81,
   "id": "b50bc006",
   "metadata": {},
   "outputs": [
    {
     "name": "stdout",
     "output_type": "stream",
     "text": [
      "Total patients: 12359\n",
      "Complete (valid) patients: 9552\n",
      "Incomplete patients removed: 2807\n",
      "% Dropped: 22.71%\n"
     ]
    }
   ],
   "source": [
    "# Total number of patients before filtering\n",
    "total_patients = patient_scores_pivot.shape[0]\n",
    "\n",
    "# Number of complete (valid) patients\n",
    "valid_patients = patient_scores_pivot.dropna(subset=['pre_score', 'post_score', 'improvement']).shape[0]\n",
    "\n",
    "# Number of incomplete patients\n",
    "incomplete_patients = total_patients - valid_patients\n",
    "\n",
    "# Display\n",
    "print(f\"Total patients: {total_patients}\")\n",
    "print(f\"Complete (valid) patients: {valid_patients}\")\n",
    "print(f\"Incomplete patients removed: {incomplete_patients}\")\n",
    "print(f\"% Dropped: {round((incomplete_patients / total_patients) * 100, 2)}%\")\n"
   ]
  },
  {
   "cell_type": "markdown",
   "id": "5f2e22cb",
   "metadata": {},
   "source": [
    "Out of `12,359` total patients, `2,807` were removed from analysis due to missing pre- or post-surgery scores.\n",
    "\n",
    "This left `9,552` patients with complete data, which is a large and reliable sample for calculating health improvement and evaluating surgeon performance.\n",
    "\n",
    "Only patients with both pre- and post-surgery responses were included to ensure fair and accurate comparisons.\n"
   ]
  },
  {
   "cell_type": "markdown",
   "id": "c6482ec6",
   "metadata": {},
   "source": [
    "### Step 9: Filter Valid Patients and Rank Surgeons\n",
    "\n",
    "Some patients may have only filled out the pre- or post-surgery survey, but not both. These will show up as missing (`NaN`) values in `pre_score`, `post_score`, or `improvement`.\n",
    "\n",
    "Since we can’t compute meaningful improvement without both scores, we drop those rows.\n"
   ]
  },
  {
   "cell_type": "code",
   "execution_count": 82,
   "id": "bc990009",
   "metadata": {},
   "outputs": [],
   "source": [
    "# Step 1: Drop patients with missing pre/post/improvement\n",
    "valid_scores = patient_scores_pivot.dropna(subset=['pre_score', 'post_score', 'improvement'])"
   ]
  },
  {
   "cell_type": "markdown",
   "id": "a47acd32",
   "metadata": {},
   "source": [
    "Then, we group by `surgeon_id` and calculate:\n",
    "- Average improvement per surgeon\n",
    "- Total number of patients treated\n",
    "- Standard deviation to measure consistency\n",
    "\n",
    "This gives us a performance snapshot of each surgeon."
   ]
  },
  {
   "cell_type": "code",
   "execution_count": 83,
   "id": "d12a23ab",
   "metadata": {},
   "outputs": [
    {
     "data": {
      "text/html": [
       "<div>\n",
       "<style scoped>\n",
       "    .dataframe tbody tr th:only-of-type {\n",
       "        vertical-align: middle;\n",
       "    }\n",
       "\n",
       "    .dataframe tbody tr th {\n",
       "        vertical-align: top;\n",
       "    }\n",
       "\n",
       "    .dataframe thead th {\n",
       "        text-align: right;\n",
       "    }\n",
       "</style>\n",
       "<table border=\"1\" class=\"dataframe\">\n",
       "  <thead>\n",
       "    <tr style=\"text-align: right;\">\n",
       "      <th></th>\n",
       "      <th>surgeon_id</th>\n",
       "      <th>avg_improvement</th>\n",
       "      <th>num_patients</th>\n",
       "      <th>std_improvement</th>\n",
       "      <th>surgeon_name</th>\n",
       "    </tr>\n",
       "  </thead>\n",
       "  <tbody>\n",
       "    <tr>\n",
       "      <th>4</th>\n",
       "      <td>5</td>\n",
       "      <td>0.121311</td>\n",
       "      <td>973</td>\n",
       "      <td>0.253740</td>\n",
       "      <td>Obi-Wan Kenobi</td>\n",
       "    </tr>\n",
       "    <tr>\n",
       "      <th>8</th>\n",
       "      <td>9</td>\n",
       "      <td>0.120326</td>\n",
       "      <td>958</td>\n",
       "      <td>0.255119</td>\n",
       "      <td>Luke Skywalker</td>\n",
       "    </tr>\n",
       "    <tr>\n",
       "      <th>6</th>\n",
       "      <td>7</td>\n",
       "      <td>0.120231</td>\n",
       "      <td>954</td>\n",
       "      <td>0.263165</td>\n",
       "      <td>Mon Mothma</td>\n",
       "    </tr>\n",
       "    <tr>\n",
       "      <th>2</th>\n",
       "      <td>3</td>\n",
       "      <td>0.117801</td>\n",
       "      <td>944</td>\n",
       "      <td>0.260637</td>\n",
       "      <td>Yoda</td>\n",
       "    </tr>\n",
       "    <tr>\n",
       "      <th>5</th>\n",
       "      <td>6</td>\n",
       "      <td>0.113151</td>\n",
       "      <td>963</td>\n",
       "      <td>0.257487</td>\n",
       "      <td>Darth Vader</td>\n",
       "    </tr>\n",
       "  </tbody>\n",
       "</table>\n",
       "</div>"
      ],
      "text/plain": [
       "   surgeon_id  avg_improvement  num_patients  std_improvement    surgeon_name\n",
       "4           5         0.121311           973         0.253740  Obi-Wan Kenobi\n",
       "8           9         0.120326           958         0.255119  Luke Skywalker\n",
       "6           7         0.120231           954         0.263165      Mon Mothma\n",
       "2           3         0.117801           944         0.260637            Yoda\n",
       "5           6         0.113151           963         0.257487     Darth Vader"
      ]
     },
     "execution_count": 83,
     "metadata": {},
     "output_type": "execute_result"
    }
   ],
   "source": [
    "# Step 2: Group by surgeon and calculate stats\n",
    "surgeon_summary = valid_scores.groupby('surgeon_id').agg(\n",
    "    avg_improvement=('improvement', 'mean'),\n",
    "    num_patients=('patient_id', 'count'),\n",
    "    std_improvement=('improvement', 'std')\n",
    ").reset_index()\n",
    "\n",
    "# Step 3: Merge with surgeon names\n",
    "surgeon_summary = surgeon_summary.merge(\n",
    "    surgeons.rename(columns={'id': 'surgeon_id', 'name': 'surgeon_name'}),\n",
    "    on='surgeon_id',\n",
    "    how='left'\n",
    ")\n",
    "\n",
    "# Step 4: Sort by improvement\n",
    "surgeon_summary = surgeon_summary.sort_values(by='avg_improvement', ascending=False)\n",
    "\n",
    "# Preview\n",
    "surgeon_summary.head()\n"
   ]
  },
  {
   "cell_type": "markdown",
   "id": "373d9a02",
   "metadata": {},
   "source": [
    "\n",
    "\n",
    "-> The `avg_improvement` column represents the average change in health score across all patients treated by a surgeon — higher values indicate better overall outcomes.\n",
    "\n",
    "\n",
    "-> The `std_improvement` column shows how consistent each surgeon's outcomes are — lower values indicate more consistent (less variable) patient improvement, while higher values suggest greater variability.\n"
   ]
  },
  {
   "cell_type": "markdown",
   "id": "58393e3d",
   "metadata": {},
   "source": [
    "Results: \n",
    "\n",
    "- Merged in the surgeon names using the `surgeons` table. I kept the names exactly as provided — no titles like \"Dr.\" were included in the original data, so I've preserved that format.\n",
    "\n",
    "- Sorted the results by `avg_improvement` in descending order to highlight the highest-performing surgeons first.\n",
    "\n",
    "- The above result gives us a clean, aggregated view of surgeon performance based on real patient outcomes.\n"
   ]
  },
  {
   "cell_type": "markdown",
   "id": "77cfb24d",
   "metadata": {},
   "source": [
    "### Step 10: Calculating weighted score\n",
    "\n",
    "To rank surgeons more fairly, I calculated a **weighted score** that considers both:\n",
    "\n",
    "- **How effective** a surgeon is (average improvement)\n",
    "- **How experienced** they are (number of patients treated)\n",
    "\n",
    "The formula used is:\n",
    "\n",
    "> weighted_score = avg_improvement × log(1 + num_patients)\n",
    "\n",
    "\n",
    "This ensures that surgeons who consistently deliver strong outcomes at scale are ranked higher, while avoiding overvaluing small sample sizes. The log function gives diminishing returns for volume, so large patient counts don’t overpower the improvement metric."
   ]
  },
  {
   "cell_type": "code",
   "execution_count": 84,
   "id": "1bae9160",
   "metadata": {},
   "outputs": [],
   "source": [
    "#Add Weighted Score (Effectiveness × Experience)\n",
    "import numpy as np\n",
    "\n",
    "surgeon_summary['weighted_score'] = (\n",
    "    surgeon_summary['avg_improvement'] * np.log1p(surgeon_summary['num_patients'])\n",
    ")"
   ]
  },
  {
   "cell_type": "markdown",
   "id": "22477c28",
   "metadata": {},
   "source": [
    "\n",
    "SELECT\n",
    "  surgeon_id,\n",
    "  AVG(post_score - pre_score) AS avg_improvement,\n",
    "  COUNT(*) AS num_patients,\n",
    "  STDDEV(post_score - pre_score) AS std_improvement\n",
    "FROM patient_scores_pivot\n",
    "WHERE pre_score IS NOT NULL AND post_score IS NOT NULL\n",
    "GROUP BY surgeon_id \n",
    "\n",
    "*Note:* This is a conceptual SQL equivalent. In practice, I used Pandas to pivot and calculate improvements, since `pandasql` (SQLite) does not support `PIVOT` or `STDDEV()` functions."
   ]
  },
  {
   "cell_type": "markdown",
   "id": "c77afdf8",
   "metadata": {},
   "source": [
    "\n",
    "Now that we have patient-level improvements, we aggregate results at the surgeon level.\n",
    "\n",
    "For each `surgeon_id`, I calculated:\n",
    "- `avg_improvement`: Average improvement across their patients\n",
    "- `std_improvement`: Standard deviation (consistency of outcomes)\n",
    "- `num_patients`: Number of patients treated\n",
    "- `weighted_score`: A composite metric = avg_improvement × log(num_patients), which balances effectiveness and experience\n",
    "\n",
    "This final table gives a ranked snapshot of surgeon performance across all hip replacement surgeries.\n"
   ]
  },
  {
   "cell_type": "markdown",
   "id": "327d2628",
   "metadata": {},
   "source": [
    "### Step 11: Final Surgeon Performance Table\n",
    "\n",
    "This table brings together all the key metrics used to evaluate each surgeon’s performance based on patient outcomes after hip replacement surgeries.\n",
    "\n",
    "**Step 1:** I grouped the cleaned patient dataset by `surgeon_id` to calculate:\n",
    "- `avg_improvement`: Average improvement across all their patients\n",
    "- `std_improvement`: Standard deviation of those improvements (how consistent they are)\n",
    "- `num_patients`: Number of hip replacement patients treated\n",
    "\n",
    "**Step 2:** I merged in the surgeon names from the `surgeons` table.\n",
    "\n",
    "**Step 3:** I added a `weighted_score` to fairly rank surgeons by combining skill and experience:\n",
    "> weighted_score = avg_improvement × log(1 + num_patients)\n",
    "\n",
    "This gives a boost to surgeons who performed well **and** treated more patients — without letting volume overpower quality.\n",
    "\n",
    "**Step 4:** I sorted the table by `weighted_score` in descending order to highlight the top performers.\n",
    "\n",
    "\n",
    "Note: While I calculated some of these metrics earlier for exploratory purposes, this block builds the final, clean version of the surgeon performance table, with all scoring metrics combined and sorted by `weighted_score` for reporting.\n"
   ]
  },
  {
   "cell_type": "code",
   "execution_count": 85,
   "id": "57f0c2f4",
   "metadata": {},
   "outputs": [
    {
     "data": {
      "text/html": [
       "<div>\n",
       "<style scoped>\n",
       "    .dataframe tbody tr th:only-of-type {\n",
       "        vertical-align: middle;\n",
       "    }\n",
       "\n",
       "    .dataframe tbody tr th {\n",
       "        vertical-align: top;\n",
       "    }\n",
       "\n",
       "    .dataframe thead th {\n",
       "        text-align: right;\n",
       "    }\n",
       "</style>\n",
       "<table border=\"1\" class=\"dataframe\">\n",
       "  <thead>\n",
       "    <tr style=\"text-align: right;\">\n",
       "      <th></th>\n",
       "      <th>surgeon_id</th>\n",
       "      <th>avg_improvement</th>\n",
       "      <th>std_improvement</th>\n",
       "      <th>num_patients</th>\n",
       "      <th>surgeon_name</th>\n",
       "      <th>weighted_score</th>\n",
       "    </tr>\n",
       "  </thead>\n",
       "  <tbody>\n",
       "    <tr>\n",
       "      <th>4</th>\n",
       "      <td>5</td>\n",
       "      <td>0.121311</td>\n",
       "      <td>0.253740</td>\n",
       "      <td>973</td>\n",
       "      <td>Obi-Wan Kenobi</td>\n",
       "      <td>0.834794</td>\n",
       "    </tr>\n",
       "    <tr>\n",
       "      <th>8</th>\n",
       "      <td>9</td>\n",
       "      <td>0.120326</td>\n",
       "      <td>0.255119</td>\n",
       "      <td>958</td>\n",
       "      <td>Luke Skywalker</td>\n",
       "      <td>0.826143</td>\n",
       "    </tr>\n",
       "    <tr>\n",
       "      <th>6</th>\n",
       "      <td>7</td>\n",
       "      <td>0.120231</td>\n",
       "      <td>0.263165</td>\n",
       "      <td>954</td>\n",
       "      <td>Mon Mothma</td>\n",
       "      <td>0.824988</td>\n",
       "    </tr>\n",
       "    <tr>\n",
       "      <th>2</th>\n",
       "      <td>3</td>\n",
       "      <td>0.117801</td>\n",
       "      <td>0.260637</td>\n",
       "      <td>944</td>\n",
       "      <td>Yoda</td>\n",
       "      <td>0.807075</td>\n",
       "    </tr>\n",
       "    <tr>\n",
       "      <th>5</th>\n",
       "      <td>6</td>\n",
       "      <td>0.113151</td>\n",
       "      <td>0.257487</td>\n",
       "      <td>963</td>\n",
       "      <td>Darth Vader</td>\n",
       "      <td>0.777468</td>\n",
       "    </tr>\n",
       "  </tbody>\n",
       "</table>\n",
       "</div>"
      ],
      "text/plain": [
       "   surgeon_id  avg_improvement  std_improvement  num_patients    surgeon_name  \\\n",
       "4           5         0.121311         0.253740           973  Obi-Wan Kenobi   \n",
       "8           9         0.120326         0.255119           958  Luke Skywalker   \n",
       "6           7         0.120231         0.263165           954      Mon Mothma   \n",
       "2           3         0.117801         0.260637           944            Yoda   \n",
       "5           6         0.113151         0.257487           963     Darth Vader   \n",
       "\n",
       "   weighted_score  \n",
       "4        0.834794  \n",
       "8        0.826143  \n",
       "6        0.824988  \n",
       "2        0.807075  \n",
       "5        0.777468  "
      ]
     },
     "execution_count": 85,
     "metadata": {},
     "output_type": "execute_result"
    }
   ],
   "source": [
    "import numpy as np\n",
    "\n",
    "# Step 1: Group by surgeon_id and calculate key metrics\n",
    "surgeon_scores = valid_scores.groupby('surgeon_id').agg(\n",
    "    avg_improvement=('improvement', 'mean'),\n",
    "    std_improvement=('improvement', 'std'),\n",
    "    num_patients=('patient_id', 'count')\n",
    ").reset_index()\n",
    "\n",
    "# Step 2: Merge in surgeon names\n",
    "surgeon_scores = surgeon_scores.merge(\n",
    "    surgeons.rename(columns={'id': 'surgeon_id', 'name': 'surgeon_name'}),\n",
    "    on='surgeon_id',\n",
    "    how='left'\n",
    ")\n",
    "\n",
    "# Step 3: Add weighted score = avg improvement × log(num_patients)\n",
    "surgeon_scores['weighted_score'] = (\n",
    "    surgeon_scores['avg_improvement'] * np.log1p(surgeon_scores['num_patients'])\n",
    ")\n",
    "\n",
    "# Step 4: Sort by weighted_score (or avg_improvement)\n",
    "surgeon_scores = surgeon_scores.sort_values(by='weighted_score', ascending=False)\n",
    "\n",
    "# Preview the final results\n",
    "surgeon_scores.head()\n"
   ]
  },
  {
   "cell_type": "markdown",
   "id": "dbbe14cc",
   "metadata": {},
   "source": [
    "This table is the final result used to identify the **most and least skillful surgeons** based on patient-reported improvements."
   ]
  },
  {
   "cell_type": "markdown",
   "id": "9131ec17",
   "metadata": {},
   "source": [
    "# Visualization"
   ]
  },
  {
   "cell_type": "markdown",
   "id": "17461bc0",
   "metadata": {},
   "source": [
    "While the technical analysis helps validate our logic, **stakeholders typically care most about the outcome** , who is performing well, who isn't, and what should be done next.\n",
    "\n",
    "These visualizations are designed to:\n",
    "- Highlight clear rankings (best vs. worst surgeons)\n",
    "- Surface tradeoffs between experience and effectiveness\n",
    "- Reveal patterns or inconsistencies that may require follow-up\n",
    "\n",
    "This is the kind of output I would share in a presentation or report to a clinical lead, operations manager, or business stakeholder. "
   ]
  },
  {
   "cell_type": "markdown",
   "id": "1f6d5028",
   "metadata": {},
   "source": [
    "For all visualizations in this section, I used **Plotly**, a Python library that supports interactive, stakeholder-friendly charts ideal for exploring and presenting analytical results\n",
    "\n",
    "---"
   ]
  },
  {
   "cell_type": "markdown",
   "id": "2f4e4f81",
   "metadata": {},
   "source": [
    "### Bar Chart: Top 10 Surgeons by Average Improvement\n",
    "\n",
    "This chart shows the top 10 surgeons based on average patient improvement after hip replacement surgery. Higher bars represent greater average outcome improvements.\n"
   ]
  },
  {
   "cell_type": "code",
   "execution_count": 86,
   "id": "0192b291",
   "metadata": {},
   "outputs": [
    {
     "data": {
      "application/vnd.plotly.v1+json": {
       "config": {
        "plotlyServerURL": "https://plot.ly"
       },
       "data": [
        {
         "hovertemplate": "Average Improvement=%{marker.color}<br>Surgeon=%{y}<extra></extra>",
         "legendgroup": "",
         "marker": {
          "color": {
           "bdata": "dvUPskMOvz/wVwPmqc2+P4GyMeFux74/I4dFQzIovj84/4iSb/e8PyD0NH+jVrw/PGDqV1tKvD/TTWIQWDm8P/w92qjVXbs/qWUxdbXXuj8=",
           "dtype": "f8"
          },
          "coloraxis": "coloraxis",
          "pattern": {
           "shape": ""
          }
         },
         "name": "",
         "orientation": "h",
         "showlegend": false,
         "textposition": "auto",
         "type": "bar",
         "x": {
          "bdata": "dvUPskMOvz/wVwPmqc2+P4GyMeFux74/I4dFQzIovj84/4iSb/e8PyD0NH+jVrw/PGDqV1tKvD/TTWIQWDm8P/w92qjVXbs/qWUxdbXXuj8=",
          "dtype": "f8"
         },
         "xaxis": "x",
         "y": [
          "Obi-Wan Kenobi",
          "Luke Skywalker",
          "Mon Mothma",
          "Yoda",
          "Darth Vader",
          "Boba Fett",
          "Darth Maul",
          "Jar Jar Binks",
          "Princess Leia",
          "Padme Amidala"
         ],
         "yaxis": "y"
        }
       ],
       "layout": {
        "barmode": "relative",
        "coloraxis": {
         "colorbar": {
          "title": {
           "text": "Average Improvement"
          }
         },
         "colorscale": [
          [
           0,
           "rgb(176, 242, 188)"
          ],
          [
           0.16666666666666666,
           "rgb(137, 232, 172)"
          ],
          [
           0.3333333333333333,
           "rgb(103, 219, 165)"
          ],
          [
           0.5,
           "rgb(76, 200, 163)"
          ],
          [
           0.6666666666666666,
           "rgb(56, 178, 163)"
          ],
          [
           0.8333333333333334,
           "rgb(44, 152, 160)"
          ],
          [
           1,
           "rgb(37, 125, 152)"
          ]
         ]
        },
        "legend": {
         "tracegroupgap": 0
        },
        "template": {
         "data": {
          "bar": [
           {
            "error_x": {
             "color": "#2a3f5f"
            },
            "error_y": {
             "color": "#2a3f5f"
            },
            "marker": {
             "line": {
              "color": "#E5ECF6",
              "width": 0.5
             },
             "pattern": {
              "fillmode": "overlay",
              "size": 10,
              "solidity": 0.2
             }
            },
            "type": "bar"
           }
          ],
          "barpolar": [
           {
            "marker": {
             "line": {
              "color": "#E5ECF6",
              "width": 0.5
             },
             "pattern": {
              "fillmode": "overlay",
              "size": 10,
              "solidity": 0.2
             }
            },
            "type": "barpolar"
           }
          ],
          "carpet": [
           {
            "aaxis": {
             "endlinecolor": "#2a3f5f",
             "gridcolor": "white",
             "linecolor": "white",
             "minorgridcolor": "white",
             "startlinecolor": "#2a3f5f"
            },
            "baxis": {
             "endlinecolor": "#2a3f5f",
             "gridcolor": "white",
             "linecolor": "white",
             "minorgridcolor": "white",
             "startlinecolor": "#2a3f5f"
            },
            "type": "carpet"
           }
          ],
          "choropleth": [
           {
            "colorbar": {
             "outlinewidth": 0,
             "ticks": ""
            },
            "type": "choropleth"
           }
          ],
          "contour": [
           {
            "colorbar": {
             "outlinewidth": 0,
             "ticks": ""
            },
            "colorscale": [
             [
              0,
              "#0d0887"
             ],
             [
              0.1111111111111111,
              "#46039f"
             ],
             [
              0.2222222222222222,
              "#7201a8"
             ],
             [
              0.3333333333333333,
              "#9c179e"
             ],
             [
              0.4444444444444444,
              "#bd3786"
             ],
             [
              0.5555555555555556,
              "#d8576b"
             ],
             [
              0.6666666666666666,
              "#ed7953"
             ],
             [
              0.7777777777777778,
              "#fb9f3a"
             ],
             [
              0.8888888888888888,
              "#fdca26"
             ],
             [
              1,
              "#f0f921"
             ]
            ],
            "type": "contour"
           }
          ],
          "contourcarpet": [
           {
            "colorbar": {
             "outlinewidth": 0,
             "ticks": ""
            },
            "type": "contourcarpet"
           }
          ],
          "heatmap": [
           {
            "colorbar": {
             "outlinewidth": 0,
             "ticks": ""
            },
            "colorscale": [
             [
              0,
              "#0d0887"
             ],
             [
              0.1111111111111111,
              "#46039f"
             ],
             [
              0.2222222222222222,
              "#7201a8"
             ],
             [
              0.3333333333333333,
              "#9c179e"
             ],
             [
              0.4444444444444444,
              "#bd3786"
             ],
             [
              0.5555555555555556,
              "#d8576b"
             ],
             [
              0.6666666666666666,
              "#ed7953"
             ],
             [
              0.7777777777777778,
              "#fb9f3a"
             ],
             [
              0.8888888888888888,
              "#fdca26"
             ],
             [
              1,
              "#f0f921"
             ]
            ],
            "type": "heatmap"
           }
          ],
          "histogram": [
           {
            "marker": {
             "pattern": {
              "fillmode": "overlay",
              "size": 10,
              "solidity": 0.2
             }
            },
            "type": "histogram"
           }
          ],
          "histogram2d": [
           {
            "colorbar": {
             "outlinewidth": 0,
             "ticks": ""
            },
            "colorscale": [
             [
              0,
              "#0d0887"
             ],
             [
              0.1111111111111111,
              "#46039f"
             ],
             [
              0.2222222222222222,
              "#7201a8"
             ],
             [
              0.3333333333333333,
              "#9c179e"
             ],
             [
              0.4444444444444444,
              "#bd3786"
             ],
             [
              0.5555555555555556,
              "#d8576b"
             ],
             [
              0.6666666666666666,
              "#ed7953"
             ],
             [
              0.7777777777777778,
              "#fb9f3a"
             ],
             [
              0.8888888888888888,
              "#fdca26"
             ],
             [
              1,
              "#f0f921"
             ]
            ],
            "type": "histogram2d"
           }
          ],
          "histogram2dcontour": [
           {
            "colorbar": {
             "outlinewidth": 0,
             "ticks": ""
            },
            "colorscale": [
             [
              0,
              "#0d0887"
             ],
             [
              0.1111111111111111,
              "#46039f"
             ],
             [
              0.2222222222222222,
              "#7201a8"
             ],
             [
              0.3333333333333333,
              "#9c179e"
             ],
             [
              0.4444444444444444,
              "#bd3786"
             ],
             [
              0.5555555555555556,
              "#d8576b"
             ],
             [
              0.6666666666666666,
              "#ed7953"
             ],
             [
              0.7777777777777778,
              "#fb9f3a"
             ],
             [
              0.8888888888888888,
              "#fdca26"
             ],
             [
              1,
              "#f0f921"
             ]
            ],
            "type": "histogram2dcontour"
           }
          ],
          "mesh3d": [
           {
            "colorbar": {
             "outlinewidth": 0,
             "ticks": ""
            },
            "type": "mesh3d"
           }
          ],
          "parcoords": [
           {
            "line": {
             "colorbar": {
              "outlinewidth": 0,
              "ticks": ""
             }
            },
            "type": "parcoords"
           }
          ],
          "pie": [
           {
            "automargin": true,
            "type": "pie"
           }
          ],
          "scatter": [
           {
            "fillpattern": {
             "fillmode": "overlay",
             "size": 10,
             "solidity": 0.2
            },
            "type": "scatter"
           }
          ],
          "scatter3d": [
           {
            "line": {
             "colorbar": {
              "outlinewidth": 0,
              "ticks": ""
             }
            },
            "marker": {
             "colorbar": {
              "outlinewidth": 0,
              "ticks": ""
             }
            },
            "type": "scatter3d"
           }
          ],
          "scattercarpet": [
           {
            "marker": {
             "colorbar": {
              "outlinewidth": 0,
              "ticks": ""
             }
            },
            "type": "scattercarpet"
           }
          ],
          "scattergeo": [
           {
            "marker": {
             "colorbar": {
              "outlinewidth": 0,
              "ticks": ""
             }
            },
            "type": "scattergeo"
           }
          ],
          "scattergl": [
           {
            "marker": {
             "colorbar": {
              "outlinewidth": 0,
              "ticks": ""
             }
            },
            "type": "scattergl"
           }
          ],
          "scattermap": [
           {
            "marker": {
             "colorbar": {
              "outlinewidth": 0,
              "ticks": ""
             }
            },
            "type": "scattermap"
           }
          ],
          "scattermapbox": [
           {
            "marker": {
             "colorbar": {
              "outlinewidth": 0,
              "ticks": ""
             }
            },
            "type": "scattermapbox"
           }
          ],
          "scatterpolar": [
           {
            "marker": {
             "colorbar": {
              "outlinewidth": 0,
              "ticks": ""
             }
            },
            "type": "scatterpolar"
           }
          ],
          "scatterpolargl": [
           {
            "marker": {
             "colorbar": {
              "outlinewidth": 0,
              "ticks": ""
             }
            },
            "type": "scatterpolargl"
           }
          ],
          "scatterternary": [
           {
            "marker": {
             "colorbar": {
              "outlinewidth": 0,
              "ticks": ""
             }
            },
            "type": "scatterternary"
           }
          ],
          "surface": [
           {
            "colorbar": {
             "outlinewidth": 0,
             "ticks": ""
            },
            "colorscale": [
             [
              0,
              "#0d0887"
             ],
             [
              0.1111111111111111,
              "#46039f"
             ],
             [
              0.2222222222222222,
              "#7201a8"
             ],
             [
              0.3333333333333333,
              "#9c179e"
             ],
             [
              0.4444444444444444,
              "#bd3786"
             ],
             [
              0.5555555555555556,
              "#d8576b"
             ],
             [
              0.6666666666666666,
              "#ed7953"
             ],
             [
              0.7777777777777778,
              "#fb9f3a"
             ],
             [
              0.8888888888888888,
              "#fdca26"
             ],
             [
              1,
              "#f0f921"
             ]
            ],
            "type": "surface"
           }
          ],
          "table": [
           {
            "cells": {
             "fill": {
              "color": "#EBF0F8"
             },
             "line": {
              "color": "white"
             }
            },
            "header": {
             "fill": {
              "color": "#C8D4E3"
             },
             "line": {
              "color": "white"
             }
            },
            "type": "table"
           }
          ]
         },
         "layout": {
          "annotationdefaults": {
           "arrowcolor": "#2a3f5f",
           "arrowhead": 0,
           "arrowwidth": 1
          },
          "autotypenumbers": "strict",
          "coloraxis": {
           "colorbar": {
            "outlinewidth": 0,
            "ticks": ""
           }
          },
          "colorscale": {
           "diverging": [
            [
             0,
             "#8e0152"
            ],
            [
             0.1,
             "#c51b7d"
            ],
            [
             0.2,
             "#de77ae"
            ],
            [
             0.3,
             "#f1b6da"
            ],
            [
             0.4,
             "#fde0ef"
            ],
            [
             0.5,
             "#f7f7f7"
            ],
            [
             0.6,
             "#e6f5d0"
            ],
            [
             0.7,
             "#b8e186"
            ],
            [
             0.8,
             "#7fbc41"
            ],
            [
             0.9,
             "#4d9221"
            ],
            [
             1,
             "#276419"
            ]
           ],
           "sequential": [
            [
             0,
             "#0d0887"
            ],
            [
             0.1111111111111111,
             "#46039f"
            ],
            [
             0.2222222222222222,
             "#7201a8"
            ],
            [
             0.3333333333333333,
             "#9c179e"
            ],
            [
             0.4444444444444444,
             "#bd3786"
            ],
            [
             0.5555555555555556,
             "#d8576b"
            ],
            [
             0.6666666666666666,
             "#ed7953"
            ],
            [
             0.7777777777777778,
             "#fb9f3a"
            ],
            [
             0.8888888888888888,
             "#fdca26"
            ],
            [
             1,
             "#f0f921"
            ]
           ],
           "sequentialminus": [
            [
             0,
             "#0d0887"
            ],
            [
             0.1111111111111111,
             "#46039f"
            ],
            [
             0.2222222222222222,
             "#7201a8"
            ],
            [
             0.3333333333333333,
             "#9c179e"
            ],
            [
             0.4444444444444444,
             "#bd3786"
            ],
            [
             0.5555555555555556,
             "#d8576b"
            ],
            [
             0.6666666666666666,
             "#ed7953"
            ],
            [
             0.7777777777777778,
             "#fb9f3a"
            ],
            [
             0.8888888888888888,
             "#fdca26"
            ],
            [
             1,
             "#f0f921"
            ]
           ]
          },
          "colorway": [
           "#636efa",
           "#EF553B",
           "#00cc96",
           "#ab63fa",
           "#FFA15A",
           "#19d3f3",
           "#FF6692",
           "#B6E880",
           "#FF97FF",
           "#FECB52"
          ],
          "font": {
           "color": "#2a3f5f"
          },
          "geo": {
           "bgcolor": "white",
           "lakecolor": "white",
           "landcolor": "#E5ECF6",
           "showlakes": true,
           "showland": true,
           "subunitcolor": "white"
          },
          "hoverlabel": {
           "align": "left"
          },
          "hovermode": "closest",
          "mapbox": {
           "style": "light"
          },
          "paper_bgcolor": "white",
          "plot_bgcolor": "#E5ECF6",
          "polar": {
           "angularaxis": {
            "gridcolor": "white",
            "linecolor": "white",
            "ticks": ""
           },
           "bgcolor": "#E5ECF6",
           "radialaxis": {
            "gridcolor": "white",
            "linecolor": "white",
            "ticks": ""
           }
          },
          "scene": {
           "xaxis": {
            "backgroundcolor": "#E5ECF6",
            "gridcolor": "white",
            "gridwidth": 2,
            "linecolor": "white",
            "showbackground": true,
            "ticks": "",
            "zerolinecolor": "white"
           },
           "yaxis": {
            "backgroundcolor": "#E5ECF6",
            "gridcolor": "white",
            "gridwidth": 2,
            "linecolor": "white",
            "showbackground": true,
            "ticks": "",
            "zerolinecolor": "white"
           },
           "zaxis": {
            "backgroundcolor": "#E5ECF6",
            "gridcolor": "white",
            "gridwidth": 2,
            "linecolor": "white",
            "showbackground": true,
            "ticks": "",
            "zerolinecolor": "white"
           }
          },
          "shapedefaults": {
           "line": {
            "color": "#2a3f5f"
           }
          },
          "ternary": {
           "aaxis": {
            "gridcolor": "white",
            "linecolor": "white",
            "ticks": ""
           },
           "baxis": {
            "gridcolor": "white",
            "linecolor": "white",
            "ticks": ""
           },
           "bgcolor": "#E5ECF6",
           "caxis": {
            "gridcolor": "white",
            "linecolor": "white",
            "ticks": ""
           }
          },
          "title": {
           "x": 0.05
          },
          "xaxis": {
           "automargin": true,
           "gridcolor": "white",
           "linecolor": "white",
           "ticks": "",
           "title": {
            "standoff": 15
           },
           "zerolinecolor": "white",
           "zerolinewidth": 2
          },
          "yaxis": {
           "automargin": true,
           "gridcolor": "white",
           "linecolor": "white",
           "ticks": "",
           "title": {
            "standoff": 15
           },
           "zerolinecolor": "white",
           "zerolinewidth": 2
          }
         }
        },
        "title": {
         "text": "Top 10 Surgeons by Average Patient Improvement"
        },
        "xaxis": {
         "anchor": "y",
         "domain": [
          0,
          1
         ],
         "title": {
          "text": "Average Improvement"
         }
        },
        "yaxis": {
         "anchor": "x",
         "autorange": "reversed",
         "domain": [
          0,
          1
         ],
         "title": {
          "text": "Surgeon"
         }
        }
       }
      }
     },
     "metadata": {},
     "output_type": "display_data"
    }
   ],
   "source": [
    "import plotly.express as px\n",
    "\n",
    "# Top 10 by average patient improvement\n",
    "top10 = surgeon_scores.sort_values(by='avg_improvement', ascending=False).head(10)\n",
    "\n",
    "fig = px.bar(\n",
    "    top10,\n",
    "    x='avg_improvement',\n",
    "    y='surgeon_name',\n",
    "    orientation='h',\n",
    "    color='avg_improvement',\n",
    "    color_continuous_scale='Tealgrn',\n",
    "    title='Top 10 Surgeons by Average Patient Improvement',\n",
    "    labels={'avg_improvement': 'Average Improvement', 'surgeon_name': 'Surgeon'}\n",
    ")\n",
    "\n",
    "fig.update_layout(yaxis=dict(autorange='reversed'))\n",
    "fig.show()\n"
   ]
  },
  {
   "cell_type": "markdown",
   "id": "cfa54460",
   "metadata": {},
   "source": [
    "#### Interpretation: \n",
    "\n",
    "This chart ranks surgeons based on the **average improvement** reported by their patients after hip replacement surgery.\n",
    "\n",
    "- **Obi-Wan Kenobi**, \n",
    "-  **Luke Skywalker**, and \n",
    "- **Mon Mothma** stand out as the top performers based on this metric.\n",
    "\n",
    "This provides a clear, high-level view of effectiveness, but it doesn’t account for how many patients each surgeon treated or how consistent their results were. That’s where the next visualizations like the bubble and box plots, provide more context.\n",
    "\n",
    "---\n"
   ]
  },
  {
   "cell_type": "markdown",
   "id": "49fb4f60",
   "metadata": {},
   "source": [
    "### Scatter Plot: Patient Volume vs. Average Improvement\n",
    "\n",
    "This chart visualizes the relationship between a surgeon’s **effectiveness** (average improvement) and **experience** (number of patients treated).  \n",
    "Each point represents a surgeon, and while marker size reflects outcome variability (standard deviation), the values are relatively similar, so bubble size does not vary significantly."
   ]
  },
  {
   "cell_type": "code",
   "execution_count": 87,
   "id": "9b5c7bf6",
   "metadata": {},
   "outputs": [
    {
     "data": {
      "application/vnd.plotly.v1+json": {
       "config": {
        "plotlyServerURL": "https://plot.ly"
       },
       "data": [
        {
         "hovertemplate": "<b>%{hovertext}</b><br><br>num_patients=%{x}<br>avg_improvement=%{y}<br>std_improvement=%{marker.size}<br>weighted_score=%{marker.color}<extra></extra>",
         "hovertext": [
          "Obi-Wan Kenobi",
          "Luke Skywalker",
          "Mon Mothma",
          "Yoda",
          "Darth Vader",
          "Boba Fett",
          "Jar Jar Binks",
          "Darth Maul",
          "Princess Leia",
          "Padme Amidala"
         ],
         "legendgroup": "",
         "marker": {
          "color": {
           "bdata": "zVEJRKG26j/H2PZyw2/qP8sr7qhMZuo/JOH5xI/T6T8s7dJeBOHoP9nkQ2KqWug/Jq9Yqq8+6D+j8G8SkzToPyLRVxrgSuc/p7QAR0Ui5z8=",
           "dtype": "f8"
          },
          "coloraxis": "coloraxis",
          "size": {
           "bdata": "VXDsukQ90D/D3hz93FPQP/x63Rmw19A//G3sQEau0D8gCeiorHrQPyKE8S9CZ9E/dPKM2oGw0D+mSgJ+Rr7QPyTt20QjdNA/7gus29e50D8=",
           "dtype": "f8"
          },
          "sizemode": "area",
          "sizeref": 0.00016995462585672646,
          "symbol": "circle"
         },
         "mode": "markers",
         "name": "",
         "orientation": "v",
         "showlegend": false,
         "type": "scatter",
         "x": {
          "bdata": "zQO+A7oDsAPDA8cDxAOqA4kD2gM=",
          "dtype": "i2"
         },
         "xaxis": "x",
         "y": {
          "bdata": "dvUPskMOvz/wVwPmqc2+P4GyMeFux74/I4dFQzIovj84/4iSb/e8PyD0NH+jVrw/001iEFg5vD88YOpXW0q8P/w92qjVXbs/qWUxdbXXuj8=",
          "dtype": "f8"
         },
         "yaxis": "y"
        }
       ],
       "layout": {
        "coloraxis": {
         "colorbar": {
          "title": {
           "text": "weighted_score"
          }
         },
         "colorscale": [
          [
           0,
           "#440154"
          ],
          [
           0.1111111111111111,
           "#482878"
          ],
          [
           0.2222222222222222,
           "#3e4989"
          ],
          [
           0.3333333333333333,
           "#31688e"
          ],
          [
           0.4444444444444444,
           "#26828e"
          ],
          [
           0.5555555555555556,
           "#1f9e89"
          ],
          [
           0.6666666666666666,
           "#35b779"
          ],
          [
           0.7777777777777778,
           "#6ece58"
          ],
          [
           0.8888888888888888,
           "#b5de2b"
          ],
          [
           1,
           "#fde725"
          ]
         ]
        },
        "legend": {
         "itemsizing": "constant",
         "title": {
          "text": "Weighted Score"
         },
         "tracegroupgap": 0
        },
        "template": {
         "data": {
          "bar": [
           {
            "error_x": {
             "color": "#2a3f5f"
            },
            "error_y": {
             "color": "#2a3f5f"
            },
            "marker": {
             "line": {
              "color": "#E5ECF6",
              "width": 0.5
             },
             "pattern": {
              "fillmode": "overlay",
              "size": 10,
              "solidity": 0.2
             }
            },
            "type": "bar"
           }
          ],
          "barpolar": [
           {
            "marker": {
             "line": {
              "color": "#E5ECF6",
              "width": 0.5
             },
             "pattern": {
              "fillmode": "overlay",
              "size": 10,
              "solidity": 0.2
             }
            },
            "type": "barpolar"
           }
          ],
          "carpet": [
           {
            "aaxis": {
             "endlinecolor": "#2a3f5f",
             "gridcolor": "white",
             "linecolor": "white",
             "minorgridcolor": "white",
             "startlinecolor": "#2a3f5f"
            },
            "baxis": {
             "endlinecolor": "#2a3f5f",
             "gridcolor": "white",
             "linecolor": "white",
             "minorgridcolor": "white",
             "startlinecolor": "#2a3f5f"
            },
            "type": "carpet"
           }
          ],
          "choropleth": [
           {
            "colorbar": {
             "outlinewidth": 0,
             "ticks": ""
            },
            "type": "choropleth"
           }
          ],
          "contour": [
           {
            "colorbar": {
             "outlinewidth": 0,
             "ticks": ""
            },
            "colorscale": [
             [
              0,
              "#0d0887"
             ],
             [
              0.1111111111111111,
              "#46039f"
             ],
             [
              0.2222222222222222,
              "#7201a8"
             ],
             [
              0.3333333333333333,
              "#9c179e"
             ],
             [
              0.4444444444444444,
              "#bd3786"
             ],
             [
              0.5555555555555556,
              "#d8576b"
             ],
             [
              0.6666666666666666,
              "#ed7953"
             ],
             [
              0.7777777777777778,
              "#fb9f3a"
             ],
             [
              0.8888888888888888,
              "#fdca26"
             ],
             [
              1,
              "#f0f921"
             ]
            ],
            "type": "contour"
           }
          ],
          "contourcarpet": [
           {
            "colorbar": {
             "outlinewidth": 0,
             "ticks": ""
            },
            "type": "contourcarpet"
           }
          ],
          "heatmap": [
           {
            "colorbar": {
             "outlinewidth": 0,
             "ticks": ""
            },
            "colorscale": [
             [
              0,
              "#0d0887"
             ],
             [
              0.1111111111111111,
              "#46039f"
             ],
             [
              0.2222222222222222,
              "#7201a8"
             ],
             [
              0.3333333333333333,
              "#9c179e"
             ],
             [
              0.4444444444444444,
              "#bd3786"
             ],
             [
              0.5555555555555556,
              "#d8576b"
             ],
             [
              0.6666666666666666,
              "#ed7953"
             ],
             [
              0.7777777777777778,
              "#fb9f3a"
             ],
             [
              0.8888888888888888,
              "#fdca26"
             ],
             [
              1,
              "#f0f921"
             ]
            ],
            "type": "heatmap"
           }
          ],
          "histogram": [
           {
            "marker": {
             "pattern": {
              "fillmode": "overlay",
              "size": 10,
              "solidity": 0.2
             }
            },
            "type": "histogram"
           }
          ],
          "histogram2d": [
           {
            "colorbar": {
             "outlinewidth": 0,
             "ticks": ""
            },
            "colorscale": [
             [
              0,
              "#0d0887"
             ],
             [
              0.1111111111111111,
              "#46039f"
             ],
             [
              0.2222222222222222,
              "#7201a8"
             ],
             [
              0.3333333333333333,
              "#9c179e"
             ],
             [
              0.4444444444444444,
              "#bd3786"
             ],
             [
              0.5555555555555556,
              "#d8576b"
             ],
             [
              0.6666666666666666,
              "#ed7953"
             ],
             [
              0.7777777777777778,
              "#fb9f3a"
             ],
             [
              0.8888888888888888,
              "#fdca26"
             ],
             [
              1,
              "#f0f921"
             ]
            ],
            "type": "histogram2d"
           }
          ],
          "histogram2dcontour": [
           {
            "colorbar": {
             "outlinewidth": 0,
             "ticks": ""
            },
            "colorscale": [
             [
              0,
              "#0d0887"
             ],
             [
              0.1111111111111111,
              "#46039f"
             ],
             [
              0.2222222222222222,
              "#7201a8"
             ],
             [
              0.3333333333333333,
              "#9c179e"
             ],
             [
              0.4444444444444444,
              "#bd3786"
             ],
             [
              0.5555555555555556,
              "#d8576b"
             ],
             [
              0.6666666666666666,
              "#ed7953"
             ],
             [
              0.7777777777777778,
              "#fb9f3a"
             ],
             [
              0.8888888888888888,
              "#fdca26"
             ],
             [
              1,
              "#f0f921"
             ]
            ],
            "type": "histogram2dcontour"
           }
          ],
          "mesh3d": [
           {
            "colorbar": {
             "outlinewidth": 0,
             "ticks": ""
            },
            "type": "mesh3d"
           }
          ],
          "parcoords": [
           {
            "line": {
             "colorbar": {
              "outlinewidth": 0,
              "ticks": ""
             }
            },
            "type": "parcoords"
           }
          ],
          "pie": [
           {
            "automargin": true,
            "type": "pie"
           }
          ],
          "scatter": [
           {
            "fillpattern": {
             "fillmode": "overlay",
             "size": 10,
             "solidity": 0.2
            },
            "type": "scatter"
           }
          ],
          "scatter3d": [
           {
            "line": {
             "colorbar": {
              "outlinewidth": 0,
              "ticks": ""
             }
            },
            "marker": {
             "colorbar": {
              "outlinewidth": 0,
              "ticks": ""
             }
            },
            "type": "scatter3d"
           }
          ],
          "scattercarpet": [
           {
            "marker": {
             "colorbar": {
              "outlinewidth": 0,
              "ticks": ""
             }
            },
            "type": "scattercarpet"
           }
          ],
          "scattergeo": [
           {
            "marker": {
             "colorbar": {
              "outlinewidth": 0,
              "ticks": ""
             }
            },
            "type": "scattergeo"
           }
          ],
          "scattergl": [
           {
            "marker": {
             "colorbar": {
              "outlinewidth": 0,
              "ticks": ""
             }
            },
            "type": "scattergl"
           }
          ],
          "scattermap": [
           {
            "marker": {
             "colorbar": {
              "outlinewidth": 0,
              "ticks": ""
             }
            },
            "type": "scattermap"
           }
          ],
          "scattermapbox": [
           {
            "marker": {
             "colorbar": {
              "outlinewidth": 0,
              "ticks": ""
             }
            },
            "type": "scattermapbox"
           }
          ],
          "scatterpolar": [
           {
            "marker": {
             "colorbar": {
              "outlinewidth": 0,
              "ticks": ""
             }
            },
            "type": "scatterpolar"
           }
          ],
          "scatterpolargl": [
           {
            "marker": {
             "colorbar": {
              "outlinewidth": 0,
              "ticks": ""
             }
            },
            "type": "scatterpolargl"
           }
          ],
          "scatterternary": [
           {
            "marker": {
             "colorbar": {
              "outlinewidth": 0,
              "ticks": ""
             }
            },
            "type": "scatterternary"
           }
          ],
          "surface": [
           {
            "colorbar": {
             "outlinewidth": 0,
             "ticks": ""
            },
            "colorscale": [
             [
              0,
              "#0d0887"
             ],
             [
              0.1111111111111111,
              "#46039f"
             ],
             [
              0.2222222222222222,
              "#7201a8"
             ],
             [
              0.3333333333333333,
              "#9c179e"
             ],
             [
              0.4444444444444444,
              "#bd3786"
             ],
             [
              0.5555555555555556,
              "#d8576b"
             ],
             [
              0.6666666666666666,
              "#ed7953"
             ],
             [
              0.7777777777777778,
              "#fb9f3a"
             ],
             [
              0.8888888888888888,
              "#fdca26"
             ],
             [
              1,
              "#f0f921"
             ]
            ],
            "type": "surface"
           }
          ],
          "table": [
           {
            "cells": {
             "fill": {
              "color": "#EBF0F8"
             },
             "line": {
              "color": "white"
             }
            },
            "header": {
             "fill": {
              "color": "#C8D4E3"
             },
             "line": {
              "color": "white"
             }
            },
            "type": "table"
           }
          ]
         },
         "layout": {
          "annotationdefaults": {
           "arrowcolor": "#2a3f5f",
           "arrowhead": 0,
           "arrowwidth": 1
          },
          "autotypenumbers": "strict",
          "coloraxis": {
           "colorbar": {
            "outlinewidth": 0,
            "ticks": ""
           }
          },
          "colorscale": {
           "diverging": [
            [
             0,
             "#8e0152"
            ],
            [
             0.1,
             "#c51b7d"
            ],
            [
             0.2,
             "#de77ae"
            ],
            [
             0.3,
             "#f1b6da"
            ],
            [
             0.4,
             "#fde0ef"
            ],
            [
             0.5,
             "#f7f7f7"
            ],
            [
             0.6,
             "#e6f5d0"
            ],
            [
             0.7,
             "#b8e186"
            ],
            [
             0.8,
             "#7fbc41"
            ],
            [
             0.9,
             "#4d9221"
            ],
            [
             1,
             "#276419"
            ]
           ],
           "sequential": [
            [
             0,
             "#0d0887"
            ],
            [
             0.1111111111111111,
             "#46039f"
            ],
            [
             0.2222222222222222,
             "#7201a8"
            ],
            [
             0.3333333333333333,
             "#9c179e"
            ],
            [
             0.4444444444444444,
             "#bd3786"
            ],
            [
             0.5555555555555556,
             "#d8576b"
            ],
            [
             0.6666666666666666,
             "#ed7953"
            ],
            [
             0.7777777777777778,
             "#fb9f3a"
            ],
            [
             0.8888888888888888,
             "#fdca26"
            ],
            [
             1,
             "#f0f921"
            ]
           ],
           "sequentialminus": [
            [
             0,
             "#0d0887"
            ],
            [
             0.1111111111111111,
             "#46039f"
            ],
            [
             0.2222222222222222,
             "#7201a8"
            ],
            [
             0.3333333333333333,
             "#9c179e"
            ],
            [
             0.4444444444444444,
             "#bd3786"
            ],
            [
             0.5555555555555556,
             "#d8576b"
            ],
            [
             0.6666666666666666,
             "#ed7953"
            ],
            [
             0.7777777777777778,
             "#fb9f3a"
            ],
            [
             0.8888888888888888,
             "#fdca26"
            ],
            [
             1,
             "#f0f921"
            ]
           ]
          },
          "colorway": [
           "#636efa",
           "#EF553B",
           "#00cc96",
           "#ab63fa",
           "#FFA15A",
           "#19d3f3",
           "#FF6692",
           "#B6E880",
           "#FF97FF",
           "#FECB52"
          ],
          "font": {
           "color": "#2a3f5f"
          },
          "geo": {
           "bgcolor": "white",
           "lakecolor": "white",
           "landcolor": "#E5ECF6",
           "showlakes": true,
           "showland": true,
           "subunitcolor": "white"
          },
          "hoverlabel": {
           "align": "left"
          },
          "hovermode": "closest",
          "mapbox": {
           "style": "light"
          },
          "paper_bgcolor": "white",
          "plot_bgcolor": "#E5ECF6",
          "polar": {
           "angularaxis": {
            "gridcolor": "white",
            "linecolor": "white",
            "ticks": ""
           },
           "bgcolor": "#E5ECF6",
           "radialaxis": {
            "gridcolor": "white",
            "linecolor": "white",
            "ticks": ""
           }
          },
          "scene": {
           "xaxis": {
            "backgroundcolor": "#E5ECF6",
            "gridcolor": "white",
            "gridwidth": 2,
            "linecolor": "white",
            "showbackground": true,
            "ticks": "",
            "zerolinecolor": "white"
           },
           "yaxis": {
            "backgroundcolor": "#E5ECF6",
            "gridcolor": "white",
            "gridwidth": 2,
            "linecolor": "white",
            "showbackground": true,
            "ticks": "",
            "zerolinecolor": "white"
           },
           "zaxis": {
            "backgroundcolor": "#E5ECF6",
            "gridcolor": "white",
            "gridwidth": 2,
            "linecolor": "white",
            "showbackground": true,
            "ticks": "",
            "zerolinecolor": "white"
           }
          },
          "shapedefaults": {
           "line": {
            "color": "#2a3f5f"
           }
          },
          "ternary": {
           "aaxis": {
            "gridcolor": "white",
            "linecolor": "white",
            "ticks": ""
           },
           "baxis": {
            "gridcolor": "white",
            "linecolor": "white",
            "ticks": ""
           },
           "bgcolor": "#E5ECF6",
           "caxis": {
            "gridcolor": "white",
            "linecolor": "white",
            "ticks": ""
           }
          },
          "title": {
           "x": 0.05
          },
          "xaxis": {
           "automargin": true,
           "gridcolor": "white",
           "linecolor": "white",
           "ticks": "",
           "title": {
            "standoff": 15
           },
           "zerolinecolor": "white",
           "zerolinewidth": 2
          },
          "yaxis": {
           "automargin": true,
           "gridcolor": "white",
           "linecolor": "white",
           "ticks": "",
           "title": {
            "standoff": 15
           },
           "zerolinecolor": "white",
           "zerolinewidth": 2
          }
         }
        },
        "title": {
         "text": "Surgeon Performance: Patient Volume vs. Average Improvement"
        },
        "xaxis": {
         "anchor": "y",
         "domain": [
          0,
          1
         ],
         "title": {
          "text": "Number of Patients"
         }
        },
        "yaxis": {
         "anchor": "x",
         "domain": [
          0,
          1
         ],
         "title": {
          "text": "Average Improvement"
         }
        }
       }
      }
     },
     "metadata": {},
     "output_type": "display_data"
    }
   ],
   "source": [
    "fig = px.scatter(\n",
    "    surgeon_scores,\n",
    "    x='num_patients',\n",
    "    y='avg_improvement',\n",
    "    size='std_improvement',\n",
    "    color='weighted_score',\n",
    "    hover_name='surgeon_name',\n",
    "    color_continuous_scale='Viridis',\n",
    "    size_max=40,\n",
    "    title='Surgeon Performance: Patient Volume vs. Average Improvement'\n",
    ")\n",
    "\n",
    "fig.update_layout(\n",
    "    xaxis_title='Number of Patients',\n",
    "    yaxis_title='Average Improvement',\n",
    "    legend_title='Weighted Score'\n",
    ")\n",
    "\n",
    "fig.show()\n"
   ]
  },
  {
   "cell_type": "markdown",
   "id": "e54f56dc",
   "metadata": {},
   "source": [
    "#### Interpretation: \n",
    "\n",
    "- This chart highlights which surgeons deliver strong results **at scale** \n",
    "\n",
    "- Surgeons in the **top-right quadrant** like **Obi-Wan Kenobi** and **Luke Skywalker** performed well across a large number of patients, showing strong, scalable effectiveness.\n",
    "\n",
    "- Since most surgeons had similar outcome consistency (standard deviation), the **bubble size is visually less impactful** here but it’s included for completeness.\n",
    "\n",
    "---\n"
   ]
  },
  {
   "cell_type": "markdown",
   "id": "09b29117",
   "metadata": {},
   "source": [
    "### Box Plot: Distribution of Patient Improvement per Surgeon\n",
    "\n",
    "This box plot shows the **spread of improvement scores** for the top 6 surgeons (by patient volume). \n",
    "\n",
    "Each box represents the **distribution of patient improvements** for a single surgeon, allowing us to assess not just their average performance, but also their **consistency**.\n",
    "\n",
    "- The **median line** shows the typical improvement for each surgeon.\n",
    "- The **box height** represents the interquartile range (IQR), the middle 50% of outcomes.\n",
    "- **Whiskers and outliers** show the range and variability.\n",
    "\n",
    "A narrow box with fewer outliers suggests **consistent performance**, while a wide box or high spread indicates more **variation** in patient outcomes.\n",
    "\n",
    "This visualization helps identify surgeons who not only perform well on average, but also deliver stable results across many patients.\n"
   ]
  },
  {
   "cell_type": "code",
   "execution_count": 88,
   "id": "b998a8df",
   "metadata": {},
   "outputs": [
    {
     "data": {
      "application/vnd.plotly.v1+json": {
       "config": {
        "plotlyServerURL": "https://plot.ly"
       },
       "data": [
        {
         "alignmentgroup": "True",
         "hovertemplate": "Surgeon=%{x}<br>Improvement Score=%{y}<extra></extra>",
         "legendgroup": "Boba Fett",
         "marker": {
          "color": "#636efa"
         },
         "name": "Boba Fett",
         "notched": false,
         "offsetgroup": "Boba Fett",
         "orientation": "v",
         "showlegend": true,
         "type": "box",
         "x": [
          "Boba Fett",
          "Boba Fett",
          "Boba Fett",
          "Boba Fett",
          "Boba Fett",
          "Boba Fett",
          "Boba Fett",
          "Boba Fett",
          "Boba Fett",
          "Boba Fett",
          "Boba Fett",
          "Boba Fett",
          "Boba Fett",
          "Boba Fett",
          "Boba Fett",
          "Boba Fett",
          "Boba Fett",
          "Boba Fett",
          "Boba Fett",
          "Boba Fett",
          "Boba Fett",
          "Boba Fett",
          "Boba Fett",
          "Boba Fett",
          "Boba Fett",
          "Boba Fett",
          "Boba Fett",
          "Boba Fett",
          "Boba Fett",
          "Boba Fett",
          "Boba Fett",
          "Boba Fett",
          "Boba Fett",
          "Boba Fett",
          "Boba Fett",
          "Boba Fett",
          "Boba Fett",
          "Boba Fett",
          "Boba Fett",
          "Boba Fett",
          "Boba Fett",
          "Boba Fett",
          "Boba Fett",
          "Boba Fett",
          "Boba Fett",
          "Boba Fett",
          "Boba Fett",
          "Boba Fett",
          "Boba Fett",
          "Boba Fett",
          "Boba Fett",
          "Boba Fett",
          "Boba Fett",
          "Boba Fett",
          "Boba Fett",
          "Boba Fett",
          "Boba Fett",
          "Boba Fett",
          "Boba Fett",
          "Boba Fett",
          "Boba Fett",
          "Boba Fett",
          "Boba Fett",
          "Boba Fett",
          "Boba Fett",
          "Boba Fett",
          "Boba Fett",
          "Boba Fett",
          "Boba Fett",
          "Boba Fett",
          "Boba Fett",
          "Boba Fett",
          "Boba Fett",
          "Boba Fett",
          "Boba Fett",
          "Boba Fett",
          "Boba Fett",
          "Boba Fett",
          "Boba Fett",
          "Boba Fett",
          "Boba Fett",
          "Boba Fett",
          "Boba Fett",
          "Boba Fett",
          "Boba Fett",
          "Boba Fett",
          "Boba Fett",
          "Boba Fett",
          "Boba Fett",
          "Boba Fett",
          "Boba Fett",
          "Boba Fett",
          "Boba Fett",
          "Boba Fett",
          "Boba Fett",
          "Boba Fett",
          "Boba Fett",
          "Boba Fett",
          "Boba Fett",
          "Boba Fett",
          "Boba Fett",
          "Boba Fett",
          "Boba Fett",
          "Boba Fett",
          "Boba Fett",
          "Boba Fett",
          "Boba Fett",
          "Boba Fett",
          "Boba Fett",
          "Boba Fett",
          "Boba Fett",
          "Boba Fett",
          "Boba Fett",
          "Boba Fett",
          "Boba Fett",
          "Boba Fett",
          "Boba Fett",
          "Boba Fett",
          "Boba Fett",
          "Boba Fett",
          "Boba Fett",
          "Boba Fett",
          "Boba Fett",
          "Boba Fett",
          "Boba Fett",
          "Boba Fett",
          "Boba Fett",
          "Boba Fett",
          "Boba Fett",
          "Boba Fett",
          "Boba Fett",
          "Boba Fett",
          "Boba Fett",
          "Boba Fett",
          "Boba Fett",
          "Boba Fett",
          "Boba Fett",
          "Boba Fett",
          "Boba Fett",
          "Boba Fett",
          "Boba Fett",
          "Boba Fett",
          "Boba Fett",
          "Boba Fett",
          "Boba Fett",
          "Boba Fett",
          "Boba Fett",
          "Boba Fett",
          "Boba Fett",
          "Boba Fett",
          "Boba Fett",
          "Boba Fett",
          "Boba Fett",
          "Boba Fett",
          "Boba Fett",
          "Boba Fett",
          "Boba Fett",
          "Boba Fett",
          "Boba Fett",
          "Boba Fett",
          "Boba Fett",
          "Boba Fett",
          "Boba Fett",
          "Boba Fett",
          "Boba Fett",
          "Boba Fett",
          "Boba Fett",
          "Boba Fett",
          "Boba Fett",
          "Boba Fett",
          "Boba Fett",
          "Boba Fett",
          "Boba Fett",
          "Boba Fett",
          "Boba Fett",
          "Boba Fett",
          "Boba Fett",
          "Boba Fett",
          "Boba Fett",
          "Boba Fett",
          "Boba Fett",
          "Boba Fett",
          "Boba Fett",
          "Boba Fett",
          "Boba Fett",
          "Boba Fett",
          "Boba Fett",
          "Boba Fett",
          "Boba Fett",
          "Boba Fett",
          "Boba Fett",
          "Boba Fett",
          "Boba Fett",
          "Boba Fett",
          "Boba Fett",
          "Boba Fett",
          "Boba Fett",
          "Boba Fett",
          "Boba Fett",
          "Boba Fett",
          "Boba Fett",
          "Boba Fett",
          "Boba Fett",
          "Boba Fett",
          "Boba Fett",
          "Boba Fett",
          "Boba Fett",
          "Boba Fett",
          "Boba Fett",
          "Boba Fett",
          "Boba Fett",
          "Boba Fett",
          "Boba Fett",
          "Boba Fett",
          "Boba Fett",
          "Boba Fett",
          "Boba Fett",
          "Boba Fett",
          "Boba Fett",
          "Boba Fett",
          "Boba Fett",
          "Boba Fett",
          "Boba Fett",
          "Boba Fett",
          "Boba Fett",
          "Boba Fett",
          "Boba Fett",
          "Boba Fett",
          "Boba Fett",
          "Boba Fett",
          "Boba Fett",
          "Boba Fett",
          "Boba Fett",
          "Boba Fett",
          "Boba Fett",
          "Boba Fett",
          "Boba Fett",
          "Boba Fett",
          "Boba Fett",
          "Boba Fett",
          "Boba Fett",
          "Boba Fett",
          "Boba Fett",
          "Boba Fett",
          "Boba Fett",
          "Boba Fett",
          "Boba Fett",
          "Boba Fett",
          "Boba Fett",
          "Boba Fett",
          "Boba Fett",
          "Boba Fett",
          "Boba Fett",
          "Boba Fett",
          "Boba Fett",
          "Boba Fett",
          "Boba Fett",
          "Boba Fett",
          "Boba Fett",
          "Boba Fett",
          "Boba Fett",
          "Boba Fett",
          "Boba Fett",
          "Boba Fett",
          "Boba Fett",
          "Boba Fett",
          "Boba Fett",
          "Boba Fett",
          "Boba Fett",
          "Boba Fett",
          "Boba Fett",
          "Boba Fett",
          "Boba Fett",
          "Boba Fett",
          "Boba Fett",
          "Boba Fett",
          "Boba Fett",
          "Boba Fett",
          "Boba Fett",
          "Boba Fett",
          "Boba Fett",
          "Boba Fett",
          "Boba Fett",
          "Boba Fett",
          "Boba Fett",
          "Boba Fett",
          "Boba Fett",
          "Boba Fett",
          "Boba Fett",
          "Boba Fett",
          "Boba Fett",
          "Boba Fett",
          "Boba Fett",
          "Boba Fett",
          "Boba Fett",
          "Boba Fett",
          "Boba Fett",
          "Boba Fett",
          "Boba Fett",
          "Boba Fett",
          "Boba Fett",
          "Boba Fett",
          "Boba Fett",
          "Boba Fett",
          "Boba Fett",
          "Boba Fett",
          "Boba Fett",
          "Boba Fett",
          "Boba Fett",
          "Boba Fett",
          "Boba Fett",
          "Boba Fett",
          "Boba Fett",
          "Boba Fett",
          "Boba Fett",
          "Boba Fett",
          "Boba Fett",
          "Boba Fett",
          "Boba Fett",
          "Boba Fett",
          "Boba Fett",
          "Boba Fett",
          "Boba Fett",
          "Boba Fett",
          "Boba Fett",
          "Boba Fett",
          "Boba Fett",
          "Boba Fett",
          "Boba Fett",
          "Boba Fett",
          "Boba Fett",
          "Boba Fett",
          "Boba Fett",
          "Boba Fett",
          "Boba Fett",
          "Boba Fett",
          "Boba Fett",
          "Boba Fett",
          "Boba Fett",
          "Boba Fett",
          "Boba Fett",
          "Boba Fett",
          "Boba Fett",
          "Boba Fett",
          "Boba Fett",
          "Boba Fett",
          "Boba Fett",
          "Boba Fett",
          "Boba Fett",
          "Boba Fett",
          "Boba Fett",
          "Boba Fett",
          "Boba Fett",
          "Boba Fett",
          "Boba Fett",
          "Boba Fett",
          "Boba Fett",
          "Boba Fett",
          "Boba Fett",
          "Boba Fett",
          "Boba Fett",
          "Boba Fett",
          "Boba Fett",
          "Boba Fett",
          "Boba Fett",
          "Boba Fett",
          "Boba Fett",
          "Boba Fett",
          "Boba Fett",
          "Boba Fett",
          "Boba Fett",
          "Boba Fett",
          "Boba Fett",
          "Boba Fett",
          "Boba Fett",
          "Boba Fett",
          "Boba Fett",
          "Boba Fett",
          "Boba Fett",
          "Boba Fett",
          "Boba Fett",
          "Boba Fett",
          "Boba Fett",
          "Boba Fett",
          "Boba Fett",
          "Boba Fett",
          "Boba Fett",
          "Boba Fett",
          "Boba Fett",
          "Boba Fett",
          "Boba Fett",
          "Boba Fett",
          "Boba Fett",
          "Boba Fett",
          "Boba Fett",
          "Boba Fett",
          "Boba Fett",
          "Boba Fett",
          "Boba Fett",
          "Boba Fett",
          "Boba Fett",
          "Boba Fett",
          "Boba Fett",
          "Boba Fett",
          "Boba Fett",
          "Boba Fett",
          "Boba Fett",
          "Boba Fett",
          "Boba Fett",
          "Boba Fett",
          "Boba Fett",
          "Boba Fett",
          "Boba Fett",
          "Boba Fett",
          "Boba Fett",
          "Boba Fett",
          "Boba Fett",
          "Boba Fett",
          "Boba Fett",
          "Boba Fett",
          "Boba Fett",
          "Boba Fett",
          "Boba Fett",
          "Boba Fett",
          "Boba Fett",
          "Boba Fett",
          "Boba Fett",
          "Boba Fett",
          "Boba Fett",
          "Boba Fett",
          "Boba Fett",
          "Boba Fett",
          "Boba Fett",
          "Boba Fett",
          "Boba Fett",
          "Boba Fett",
          "Boba Fett",
          "Boba Fett",
          "Boba Fett",
          "Boba Fett",
          "Boba Fett",
          "Boba Fett",
          "Boba Fett",
          "Boba Fett",
          "Boba Fett",
          "Boba Fett",
          "Boba Fett",
          "Boba Fett",
          "Boba Fett",
          "Boba Fett",
          "Boba Fett",
          "Boba Fett",
          "Boba Fett",
          "Boba Fett",
          "Boba Fett",
          "Boba Fett",
          "Boba Fett",
          "Boba Fett",
          "Boba Fett",
          "Boba Fett",
          "Boba Fett",
          "Boba Fett",
          "Boba Fett",
          "Boba Fett",
          "Boba Fett",
          "Boba Fett",
          "Boba Fett",
          "Boba Fett",
          "Boba Fett",
          "Boba Fett",
          "Boba Fett",
          "Boba Fett",
          "Boba Fett",
          "Boba Fett",
          "Boba Fett",
          "Boba Fett",
          "Boba Fett",
          "Boba Fett",
          "Boba Fett",
          "Boba Fett",
          "Boba Fett",
          "Boba Fett",
          "Boba Fett",
          "Boba Fett",
          "Boba Fett",
          "Boba Fett",
          "Boba Fett",
          "Boba Fett",
          "Boba Fett",
          "Boba Fett",
          "Boba Fett",
          "Boba Fett",
          "Boba Fett",
          "Boba Fett",
          "Boba Fett",
          "Boba Fett",
          "Boba Fett",
          "Boba Fett",
          "Boba Fett",
          "Boba Fett",
          "Boba Fett",
          "Boba Fett",
          "Boba Fett",
          "Boba Fett",
          "Boba Fett",
          "Boba Fett",
          "Boba Fett",
          "Boba Fett",
          "Boba Fett",
          "Boba Fett",
          "Boba Fett",
          "Boba Fett",
          "Boba Fett",
          "Boba Fett",
          "Boba Fett",
          "Boba Fett",
          "Boba Fett",
          "Boba Fett",
          "Boba Fett",
          "Boba Fett",
          "Boba Fett",
          "Boba Fett",
          "Boba Fett",
          "Boba Fett",
          "Boba Fett",
          "Boba Fett",
          "Boba Fett",
          "Boba Fett",
          "Boba Fett",
          "Boba Fett",
          "Boba Fett",
          "Boba Fett",
          "Boba Fett",
          "Boba Fett",
          "Boba Fett",
          "Boba Fett",
          "Boba Fett",
          "Boba Fett",
          "Boba Fett",
          "Boba Fett",
          "Boba Fett",
          "Boba Fett",
          "Boba Fett",
          "Boba Fett",
          "Boba Fett",
          "Boba Fett",
          "Boba Fett",
          "Boba Fett",
          "Boba Fett",
          "Boba Fett",
          "Boba Fett",
          "Boba Fett",
          "Boba Fett",
          "Boba Fett",
          "Boba Fett",
          "Boba Fett",
          "Boba Fett",
          "Boba Fett",
          "Boba Fett",
          "Boba Fett",
          "Boba Fett",
          "Boba Fett",
          "Boba Fett",
          "Boba Fett",
          "Boba Fett",
          "Boba Fett",
          "Boba Fett",
          "Boba Fett",
          "Boba Fett",
          "Boba Fett",
          "Boba Fett",
          "Boba Fett",
          "Boba Fett",
          "Boba Fett",
          "Boba Fett",
          "Boba Fett",
          "Boba Fett",
          "Boba Fett",
          "Boba Fett",
          "Boba Fett",
          "Boba Fett",
          "Boba Fett",
          "Boba Fett",
          "Boba Fett",
          "Boba Fett",
          "Boba Fett",
          "Boba Fett",
          "Boba Fett",
          "Boba Fett",
          "Boba Fett",
          "Boba Fett",
          "Boba Fett",
          "Boba Fett",
          "Boba Fett",
          "Boba Fett",
          "Boba Fett",
          "Boba Fett",
          "Boba Fett",
          "Boba Fett",
          "Boba Fett",
          "Boba Fett",
          "Boba Fett",
          "Boba Fett",
          "Boba Fett",
          "Boba Fett",
          "Boba Fett",
          "Boba Fett",
          "Boba Fett",
          "Boba Fett",
          "Boba Fett",
          "Boba Fett",
          "Boba Fett",
          "Boba Fett",
          "Boba Fett",
          "Boba Fett",
          "Boba Fett",
          "Boba Fett",
          "Boba Fett",
          "Boba Fett",
          "Boba Fett",
          "Boba Fett",
          "Boba Fett",
          "Boba Fett",
          "Boba Fett",
          "Boba Fett",
          "Boba Fett",
          "Boba Fett",
          "Boba Fett",
          "Boba Fett",
          "Boba Fett",
          "Boba Fett",
          "Boba Fett",
          "Boba Fett",
          "Boba Fett",
          "Boba Fett",
          "Boba Fett",
          "Boba Fett",
          "Boba Fett",
          "Boba Fett",
          "Boba Fett",
          "Boba Fett",
          "Boba Fett",
          "Boba Fett",
          "Boba Fett",
          "Boba Fett",
          "Boba Fett",
          "Boba Fett",
          "Boba Fett",
          "Boba Fett",
          "Boba Fett",
          "Boba Fett",
          "Boba Fett",
          "Boba Fett",
          "Boba Fett",
          "Boba Fett",
          "Boba Fett",
          "Boba Fett",
          "Boba Fett",
          "Boba Fett",
          "Boba Fett",
          "Boba Fett",
          "Boba Fett",
          "Boba Fett",
          "Boba Fett",
          "Boba Fett",
          "Boba Fett",
          "Boba Fett",
          "Boba Fett",
          "Boba Fett",
          "Boba Fett",
          "Boba Fett",
          "Boba Fett",
          "Boba Fett",
          "Boba Fett",
          "Boba Fett",
          "Boba Fett",
          "Boba Fett",
          "Boba Fett",
          "Boba Fett",
          "Boba Fett",
          "Boba Fett",
          "Boba Fett",
          "Boba Fett",
          "Boba Fett",
          "Boba Fett",
          "Boba Fett",
          "Boba Fett",
          "Boba Fett",
          "Boba Fett",
          "Boba Fett",
          "Boba Fett",
          "Boba Fett",
          "Boba Fett",
          "Boba Fett",
          "Boba Fett",
          "Boba Fett",
          "Boba Fett",
          "Boba Fett",
          "Boba Fett",
          "Boba Fett",
          "Boba Fett",
          "Boba Fett",
          "Boba Fett",
          "Boba Fett",
          "Boba Fett",
          "Boba Fett",
          "Boba Fett",
          "Boba Fett",
          "Boba Fett",
          "Boba Fett",
          "Boba Fett",
          "Boba Fett",
          "Boba Fett",
          "Boba Fett",
          "Boba Fett",
          "Boba Fett",
          "Boba Fett",
          "Boba Fett",
          "Boba Fett",
          "Boba Fett",
          "Boba Fett",
          "Boba Fett",
          "Boba Fett",
          "Boba Fett",
          "Boba Fett",
          "Boba Fett",
          "Boba Fett",
          "Boba Fett",
          "Boba Fett",
          "Boba Fett",
          "Boba Fett",
          "Boba Fett",
          "Boba Fett",
          "Boba Fett",
          "Boba Fett",
          "Boba Fett",
          "Boba Fett",
          "Boba Fett",
          "Boba Fett",
          "Boba Fett",
          "Boba Fett",
          "Boba Fett",
          "Boba Fett",
          "Boba Fett",
          "Boba Fett",
          "Boba Fett",
          "Boba Fett",
          "Boba Fett",
          "Boba Fett",
          "Boba Fett",
          "Boba Fett",
          "Boba Fett",
          "Boba Fett",
          "Boba Fett",
          "Boba Fett",
          "Boba Fett",
          "Boba Fett",
          "Boba Fett",
          "Boba Fett",
          "Boba Fett",
          "Boba Fett",
          "Boba Fett",
          "Boba Fett",
          "Boba Fett",
          "Boba Fett",
          "Boba Fett",
          "Boba Fett",
          "Boba Fett",
          "Boba Fett",
          "Boba Fett",
          "Boba Fett",
          "Boba Fett",
          "Boba Fett",
          "Boba Fett",
          "Boba Fett",
          "Boba Fett",
          "Boba Fett",
          "Boba Fett",
          "Boba Fett",
          "Boba Fett",
          "Boba Fett",
          "Boba Fett",
          "Boba Fett",
          "Boba Fett",
          "Boba Fett",
          "Boba Fett",
          "Boba Fett",
          "Boba Fett",
          "Boba Fett",
          "Boba Fett",
          "Boba Fett",
          "Boba Fett",
          "Boba Fett",
          "Boba Fett",
          "Boba Fett",
          "Boba Fett",
          "Boba Fett",
          "Boba Fett",
          "Boba Fett",
          "Boba Fett",
          "Boba Fett",
          "Boba Fett",
          "Boba Fett",
          "Boba Fett",
          "Boba Fett",
          "Boba Fett",
          "Boba Fett",
          "Boba Fett",
          "Boba Fett",
          "Boba Fett",
          "Boba Fett",
          "Boba Fett",
          "Boba Fett",
          "Boba Fett",
          "Boba Fett",
          "Boba Fett",
          "Boba Fett",
          "Boba Fett",
          "Boba Fett",
          "Boba Fett",
          "Boba Fett",
          "Boba Fett",
          "Boba Fett",
          "Boba Fett",
          "Boba Fett",
          "Boba Fett",
          "Boba Fett",
          "Boba Fett",
          "Boba Fett",
          "Boba Fett",
          "Boba Fett",
          "Boba Fett",
          "Boba Fett",
          "Boba Fett",
          "Boba Fett",
          "Boba Fett",
          "Boba Fett",
          "Boba Fett",
          "Boba Fett",
          "Boba Fett",
          "Boba Fett",
          "Boba Fett",
          "Boba Fett",
          "Boba Fett",
          "Boba Fett",
          "Boba Fett",
          "Boba Fett",
          "Boba Fett",
          "Boba Fett",
          "Boba Fett",
          "Boba Fett",
          "Boba Fett",
          "Boba Fett",
          "Boba Fett",
          "Boba Fett",
          "Boba Fett",
          "Boba Fett",
          "Boba Fett",
          "Boba Fett",
          "Boba Fett",
          "Boba Fett",
          "Boba Fett",
          "Boba Fett",
          "Boba Fett",
          "Boba Fett",
          "Boba Fett",
          "Boba Fett",
          "Boba Fett",
          "Boba Fett",
          "Boba Fett",
          "Boba Fett",
          "Boba Fett",
          "Boba Fett",
          "Boba Fett",
          "Boba Fett",
          "Boba Fett",
          "Boba Fett",
          "Boba Fett",
          "Boba Fett",
          "Boba Fett",
          "Boba Fett",
          "Boba Fett",
          "Boba Fett",
          "Boba Fett",
          "Boba Fett",
          "Boba Fett",
          "Boba Fett",
          "Boba Fett",
          "Boba Fett",
          "Boba Fett",
          "Boba Fett",
          "Boba Fett",
          "Boba Fett",
          "Boba Fett",
          "Boba Fett",
          "Boba Fett",
          "Boba Fett",
          "Boba Fett",
          "Boba Fett",
          "Boba Fett",
          "Boba Fett",
          "Boba Fett",
          "Boba Fett",
          "Boba Fett",
          "Boba Fett",
          "Boba Fett",
          "Boba Fett",
          "Boba Fett",
          "Boba Fett",
          "Boba Fett",
          "Boba Fett",
          "Boba Fett",
          "Boba Fett",
          "Boba Fett",
          "Boba Fett",
          "Boba Fett",
          "Boba Fett",
          "Boba Fett",
          "Boba Fett",
          "Boba Fett",
          "Boba Fett",
          "Boba Fett",
          "Boba Fett",
          "Boba Fett",
          "Boba Fett",
          "Boba Fett",
          "Boba Fett",
          "Boba Fett",
          "Boba Fett",
          "Boba Fett",
          "Boba Fett",
          "Boba Fett",
          "Boba Fett",
          "Boba Fett",
          "Boba Fett",
          "Boba Fett",
          "Boba Fett",
          "Boba Fett",
          "Boba Fett",
          "Boba Fett",
          "Boba Fett",
          "Boba Fett",
          "Boba Fett",
          "Boba Fett",
          "Boba Fett",
          "Boba Fett",
          "Boba Fett",
          "Boba Fett",
          "Boba Fett",
          "Boba Fett",
          "Boba Fett",
          "Boba Fett",
          "Boba Fett",
          "Boba Fett",
          "Boba Fett",
          "Boba Fett",
          "Boba Fett",
          "Boba Fett",
          "Boba Fett",
          "Boba Fett",
          "Boba Fett",
          "Boba Fett",
          "Boba Fett",
          "Boba Fett",
          "Boba Fett",
          "Boba Fett",
          "Boba Fett"
         ],
         "x0": " ",
         "xaxis": "x",
         "y": {
          "bdata": "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",
          "dtype": "f8"
         },
         "y0": " ",
         "yaxis": "y"
        },
        {
         "alignmentgroup": "True",
         "hovertemplate": "Surgeon=%{x}<br>Improvement Score=%{y}<extra></extra>",
         "legendgroup": "Jar Jar Binks",
         "marker": {
          "color": "#EF553B"
         },
         "name": "Jar Jar Binks",
         "notched": false,
         "offsetgroup": "Jar Jar Binks",
         "orientation": "v",
         "showlegend": true,
         "type": "box",
         "x": [
          "Jar Jar Binks",
          "Jar Jar Binks",
          "Jar Jar Binks",
          "Jar Jar Binks",
          "Jar Jar Binks",
          "Jar Jar Binks",
          "Jar Jar Binks",
          "Jar Jar Binks",
          "Jar Jar Binks",
          "Jar Jar Binks",
          "Jar Jar Binks",
          "Jar Jar Binks",
          "Jar Jar Binks",
          "Jar Jar Binks",
          "Jar Jar Binks",
          "Jar Jar Binks",
          "Jar Jar Binks",
          "Jar Jar Binks",
          "Jar Jar Binks",
          "Jar Jar Binks",
          "Jar Jar Binks",
          "Jar Jar Binks",
          "Jar Jar Binks",
          "Jar Jar Binks",
          "Jar Jar Binks",
          "Jar Jar Binks",
          "Jar Jar Binks",
          "Jar Jar Binks",
          "Jar Jar Binks",
          "Jar Jar Binks",
          "Jar Jar Binks",
          "Jar Jar Binks",
          "Jar Jar Binks",
          "Jar Jar Binks",
          "Jar Jar Binks",
          "Jar Jar Binks",
          "Jar Jar Binks",
          "Jar Jar Binks",
          "Jar Jar Binks",
          "Jar Jar Binks",
          "Jar Jar Binks",
          "Jar Jar Binks",
          "Jar Jar Binks",
          "Jar Jar Binks",
          "Jar Jar Binks",
          "Jar Jar Binks",
          "Jar Jar Binks",
          "Jar Jar Binks",
          "Jar Jar Binks",
          "Jar Jar Binks",
          "Jar Jar Binks",
          "Jar Jar Binks",
          "Jar Jar Binks",
          "Jar Jar Binks",
          "Jar Jar Binks",
          "Jar Jar Binks",
          "Jar Jar Binks",
          "Jar Jar Binks",
          "Jar Jar Binks",
          "Jar Jar Binks",
          "Jar Jar Binks",
          "Jar Jar Binks",
          "Jar Jar Binks",
          "Jar Jar Binks",
          "Jar Jar Binks",
          "Jar Jar Binks",
          "Jar Jar Binks",
          "Jar Jar Binks",
          "Jar Jar Binks",
          "Jar Jar Binks",
          "Jar Jar Binks",
          "Jar Jar Binks",
          "Jar Jar Binks",
          "Jar Jar Binks",
          "Jar Jar Binks",
          "Jar Jar Binks",
          "Jar Jar Binks",
          "Jar Jar Binks",
          "Jar Jar Binks",
          "Jar Jar Binks",
          "Jar Jar Binks",
          "Jar Jar Binks",
          "Jar Jar Binks",
          "Jar Jar Binks",
          "Jar Jar Binks",
          "Jar Jar Binks",
          "Jar Jar Binks",
          "Jar Jar Binks",
          "Jar Jar Binks",
          "Jar Jar Binks",
          "Jar Jar Binks",
          "Jar Jar Binks",
          "Jar Jar Binks",
          "Jar Jar Binks",
          "Jar Jar Binks",
          "Jar Jar Binks",
          "Jar Jar Binks",
          "Jar Jar Binks",
          "Jar Jar Binks",
          "Jar Jar Binks",
          "Jar Jar Binks",
          "Jar Jar Binks",
          "Jar Jar Binks",
          "Jar Jar Binks",
          "Jar Jar Binks",
          "Jar Jar Binks",
          "Jar Jar Binks",
          "Jar Jar Binks",
          "Jar Jar Binks",
          "Jar Jar Binks",
          "Jar Jar Binks",
          "Jar Jar Binks",
          "Jar Jar Binks",
          "Jar Jar Binks",
          "Jar Jar Binks",
          "Jar Jar Binks",
          "Jar Jar Binks",
          "Jar Jar Binks",
          "Jar Jar Binks",
          "Jar Jar Binks",
          "Jar Jar Binks",
          "Jar Jar Binks",
          "Jar Jar Binks",
          "Jar Jar Binks",
          "Jar Jar Binks",
          "Jar Jar Binks",
          "Jar Jar Binks",
          "Jar Jar Binks",
          "Jar Jar Binks",
          "Jar Jar Binks",
          "Jar Jar Binks",
          "Jar Jar Binks",
          "Jar Jar Binks",
          "Jar Jar Binks",
          "Jar Jar Binks",
          "Jar Jar Binks",
          "Jar Jar Binks",
          "Jar Jar Binks",
          "Jar Jar Binks",
          "Jar Jar Binks",
          "Jar Jar Binks",
          "Jar Jar Binks",
          "Jar Jar Binks",
          "Jar Jar Binks",
          "Jar Jar Binks",
          "Jar Jar Binks",
          "Jar Jar Binks",
          "Jar Jar Binks",
          "Jar Jar Binks",
          "Jar Jar Binks",
          "Jar Jar Binks",
          "Jar Jar Binks",
          "Jar Jar Binks",
          "Jar Jar Binks",
          "Jar Jar Binks",
          "Jar Jar Binks",
          "Jar Jar Binks",
          "Jar Jar Binks",
          "Jar Jar Binks",
          "Jar Jar Binks",
          "Jar Jar Binks",
          "Jar Jar Binks",
          "Jar Jar Binks",
          "Jar Jar Binks",
          "Jar Jar Binks",
          "Jar Jar Binks",
          "Jar Jar Binks",
          "Jar Jar Binks",
          "Jar Jar Binks",
          "Jar Jar Binks",
          "Jar Jar Binks",
          "Jar Jar Binks",
          "Jar Jar Binks",
          "Jar Jar Binks",
          "Jar Jar Binks",
          "Jar Jar Binks",
          "Jar Jar Binks",
          "Jar Jar Binks",
          "Jar Jar Binks",
          "Jar Jar Binks",
          "Jar Jar Binks",
          "Jar Jar Binks",
          "Jar Jar Binks",
          "Jar Jar Binks",
          "Jar Jar Binks",
          "Jar Jar Binks",
          "Jar Jar Binks",
          "Jar Jar Binks",
          "Jar Jar Binks",
          "Jar Jar Binks",
          "Jar Jar Binks",
          "Jar Jar Binks",
          "Jar Jar Binks",
          "Jar Jar Binks",
          "Jar Jar Binks",
          "Jar Jar Binks",
          "Jar Jar Binks",
          "Jar Jar Binks",
          "Jar Jar Binks",
          "Jar Jar Binks",
          "Jar Jar Binks",
          "Jar Jar Binks",
          "Jar Jar Binks",
          "Jar Jar Binks",
          "Jar Jar Binks",
          "Jar Jar Binks",
          "Jar Jar Binks",
          "Jar Jar Binks",
          "Jar Jar Binks",
          "Jar Jar Binks",
          "Jar Jar Binks",
          "Jar Jar Binks",
          "Jar Jar Binks",
          "Jar Jar Binks",
          "Jar Jar Binks",
          "Jar Jar Binks",
          "Jar Jar Binks",
          "Jar Jar Binks",
          "Jar Jar Binks",
          "Jar Jar Binks",
          "Jar Jar Binks",
          "Jar Jar Binks",
          "Jar Jar Binks",
          "Jar Jar Binks",
          "Jar Jar Binks",
          "Jar Jar Binks",
          "Jar Jar Binks",
          "Jar Jar Binks",
          "Jar Jar Binks",
          "Jar Jar Binks",
          "Jar Jar Binks",
          "Jar Jar Binks",
          "Jar Jar Binks",
          "Jar Jar Binks",
          "Jar Jar Binks",
          "Jar Jar Binks",
          "Jar Jar Binks",
          "Jar Jar Binks",
          "Jar Jar Binks",
          "Jar Jar Binks",
          "Jar Jar Binks",
          "Jar Jar Binks",
          "Jar Jar Binks",
          "Jar Jar Binks",
          "Jar Jar Binks",
          "Jar Jar Binks",
          "Jar Jar Binks",
          "Jar Jar Binks",
          "Jar Jar Binks",
          "Jar Jar Binks",
          "Jar Jar Binks",
          "Jar Jar Binks",
          "Jar Jar Binks",
          "Jar Jar Binks",
          "Jar Jar Binks",
          "Jar Jar Binks",
          "Jar Jar Binks",
          "Jar Jar Binks",
          "Jar Jar Binks",
          "Jar Jar Binks",
          "Jar Jar Binks",
          "Jar Jar Binks",
          "Jar Jar Binks",
          "Jar Jar Binks",
          "Jar Jar Binks",
          "Jar Jar Binks",
          "Jar Jar Binks",
          "Jar Jar Binks",
          "Jar Jar Binks",
          "Jar Jar Binks",
          "Jar Jar Binks",
          "Jar Jar Binks",
          "Jar Jar Binks",
          "Jar Jar Binks",
          "Jar Jar Binks",
          "Jar Jar Binks",
          "Jar Jar Binks",
          "Jar Jar Binks",
          "Jar Jar Binks",
          "Jar Jar Binks",
          "Jar Jar Binks",
          "Jar Jar Binks",
          "Jar Jar Binks",
          "Jar Jar Binks",
          "Jar Jar Binks",
          "Jar Jar Binks",
          "Jar Jar Binks",
          "Jar Jar Binks",
          "Jar Jar Binks",
          "Jar Jar Binks",
          "Jar Jar Binks",
          "Jar Jar Binks",
          "Jar Jar Binks",
          "Jar Jar Binks",
          "Jar Jar Binks",
          "Jar Jar Binks",
          "Jar Jar Binks",
          "Jar Jar Binks",
          "Jar Jar Binks",
          "Jar Jar Binks",
          "Jar Jar Binks",
          "Jar Jar Binks",
          "Jar Jar Binks",
          "Jar Jar Binks",
          "Jar Jar Binks",
          "Jar Jar Binks",
          "Jar Jar Binks",
          "Jar Jar Binks",
          "Jar Jar Binks",
          "Jar Jar Binks",
          "Jar Jar Binks",
          "Jar Jar Binks",
          "Jar Jar Binks",
          "Jar Jar Binks",
          "Jar Jar Binks",
          "Jar Jar Binks",
          "Jar Jar Binks",
          "Jar Jar Binks",
          "Jar Jar Binks",
          "Jar Jar Binks",
          "Jar Jar Binks",
          "Jar Jar Binks",
          "Jar Jar Binks",
          "Jar Jar Binks",
          "Jar Jar Binks",
          "Jar Jar Binks",
          "Jar Jar Binks",
          "Jar Jar Binks",
          "Jar Jar Binks",
          "Jar Jar Binks",
          "Jar Jar Binks",
          "Jar Jar Binks",
          "Jar Jar Binks",
          "Jar Jar Binks",
          "Jar Jar Binks",
          "Jar Jar Binks",
          "Jar Jar Binks",
          "Jar Jar Binks",
          "Jar Jar Binks",
          "Jar Jar Binks",
          "Jar Jar Binks",
          "Jar Jar Binks",
          "Jar Jar Binks",
          "Jar Jar Binks",
          "Jar Jar Binks",
          "Jar Jar Binks",
          "Jar Jar Binks",
          "Jar Jar Binks",
          "Jar Jar Binks",
          "Jar Jar Binks",
          "Jar Jar Binks",
          "Jar Jar Binks",
          "Jar Jar Binks",
          "Jar Jar Binks",
          "Jar Jar Binks",
          "Jar Jar Binks",
          "Jar Jar Binks",
          "Jar Jar Binks",
          "Jar Jar Binks",
          "Jar Jar Binks",
          "Jar Jar Binks",
          "Jar Jar Binks",
          "Jar Jar Binks",
          "Jar Jar Binks",
          "Jar Jar Binks",
          "Jar Jar Binks",
          "Jar Jar Binks",
          "Jar Jar Binks",
          "Jar Jar Binks",
          "Jar Jar Binks",
          "Jar Jar Binks",
          "Jar Jar Binks",
          "Jar Jar Binks",
          "Jar Jar Binks",
          "Jar Jar Binks",
          "Jar Jar Binks",
          "Jar Jar Binks",
          "Jar Jar Binks",
          "Jar Jar Binks",
          "Jar Jar Binks",
          "Jar Jar Binks",
          "Jar Jar Binks",
          "Jar Jar Binks",
          "Jar Jar Binks",
          "Jar Jar Binks",
          "Jar Jar Binks",
          "Jar Jar Binks",
          "Jar Jar Binks",
          "Jar Jar Binks",
          "Jar Jar Binks",
          "Jar Jar Binks",
          "Jar Jar Binks",
          "Jar Jar Binks",
          "Jar Jar Binks",
          "Jar Jar Binks",
          "Jar Jar Binks",
          "Jar Jar Binks",
          "Jar Jar Binks",
          "Jar Jar Binks",
          "Jar Jar Binks",
          "Jar Jar Binks",
          "Jar Jar Binks",
          "Jar Jar Binks",
          "Jar Jar Binks",
          "Jar Jar Binks",
          "Jar Jar Binks",
          "Jar Jar Binks",
          "Jar Jar Binks",
          "Jar Jar Binks",
          "Jar Jar Binks",
          "Jar Jar Binks",
          "Jar Jar Binks",
          "Jar Jar Binks",
          "Jar Jar Binks",
          "Jar Jar Binks",
          "Jar Jar Binks",
          "Jar Jar Binks",
          "Jar Jar Binks",
          "Jar Jar Binks",
          "Jar Jar Binks",
          "Jar Jar Binks",
          "Jar Jar Binks",
          "Jar Jar Binks",
          "Jar Jar Binks",
          "Jar Jar Binks",
          "Jar Jar Binks",
          "Jar Jar Binks",
          "Jar Jar Binks",
          "Jar Jar Binks",
          "Jar Jar Binks",
          "Jar Jar Binks",
          "Jar Jar Binks",
          "Jar Jar Binks",
          "Jar Jar Binks",
          "Jar Jar Binks",
          "Jar Jar Binks",
          "Jar Jar Binks",
          "Jar Jar Binks",
          "Jar Jar Binks",
          "Jar Jar Binks",
          "Jar Jar Binks",
          "Jar Jar Binks",
          "Jar Jar Binks",
          "Jar Jar Binks",
          "Jar Jar Binks",
          "Jar Jar Binks",
          "Jar Jar Binks",
          "Jar Jar Binks",
          "Jar Jar Binks",
          "Jar Jar Binks",
          "Jar Jar Binks",
          "Jar Jar Binks",
          "Jar Jar Binks",
          "Jar Jar Binks",
          "Jar Jar Binks",
          "Jar Jar Binks",
          "Jar Jar Binks",
          "Jar Jar Binks",
          "Jar Jar Binks",
          "Jar Jar Binks",
          "Jar Jar Binks",
          "Jar Jar Binks",
          "Jar Jar Binks",
          "Jar Jar Binks",
          "Jar Jar Binks",
          "Jar Jar Binks",
          "Jar Jar Binks",
          "Jar Jar Binks",
          "Jar Jar Binks",
          "Jar Jar Binks",
          "Jar Jar Binks",
          "Jar Jar Binks",
          "Jar Jar Binks",
          "Jar Jar Binks",
          "Jar Jar Binks",
          "Jar Jar Binks",
          "Jar Jar Binks",
          "Jar Jar Binks",
          "Jar Jar Binks",
          "Jar Jar Binks",
          "Jar Jar Binks",
          "Jar Jar Binks",
          "Jar Jar Binks",
          "Jar Jar Binks",
          "Jar Jar Binks",
          "Jar Jar Binks",
          "Jar Jar Binks",
          "Jar Jar Binks",
          "Jar Jar Binks",
          "Jar Jar Binks",
          "Jar Jar Binks",
          "Jar Jar Binks",
          "Jar Jar Binks",
          "Jar Jar Binks",
          "Jar Jar Binks",
          "Jar Jar Binks",
          "Jar Jar Binks",
          "Jar Jar Binks",
          "Jar Jar Binks",
          "Jar Jar Binks",
          "Jar Jar Binks",
          "Jar Jar Binks",
          "Jar Jar Binks",
          "Jar Jar Binks",
          "Jar Jar Binks",
          "Jar Jar Binks",
          "Jar Jar Binks",
          "Jar Jar Binks",
          "Jar Jar Binks",
          "Jar Jar Binks",
          "Jar Jar Binks",
          "Jar Jar Binks",
          "Jar Jar Binks",
          "Jar Jar Binks",
          "Jar Jar Binks",
          "Jar Jar Binks",
          "Jar Jar Binks",
          "Jar Jar Binks",
          "Jar Jar Binks",
          "Jar Jar Binks",
          "Jar Jar Binks",
          "Jar Jar Binks",
          "Jar Jar Binks",
          "Jar Jar Binks",
          "Jar Jar Binks",
          "Jar Jar Binks",
          "Jar Jar Binks",
          "Jar Jar Binks",
          "Jar Jar Binks",
          "Jar Jar Binks",
          "Jar Jar Binks",
          "Jar Jar Binks",
          "Jar Jar Binks",
          "Jar Jar Binks",
          "Jar Jar Binks",
          "Jar Jar Binks",
          "Jar Jar Binks",
          "Jar Jar Binks",
          "Jar Jar Binks",
          "Jar Jar Binks",
          "Jar Jar Binks",
          "Jar Jar Binks",
          "Jar Jar Binks",
          "Jar Jar Binks",
          "Jar Jar Binks",
          "Jar Jar Binks",
          "Jar Jar Binks",
          "Jar Jar Binks",
          "Jar Jar Binks",
          "Jar Jar Binks",
          "Jar Jar Binks",
          "Jar Jar Binks",
          "Jar Jar Binks",
          "Jar Jar Binks",
          "Jar Jar Binks",
          "Jar Jar Binks",
          "Jar Jar Binks",
          "Jar Jar Binks",
          "Jar Jar Binks",
          "Jar Jar Binks",
          "Jar Jar Binks",
          "Jar Jar Binks",
          "Jar Jar Binks",
          "Jar Jar Binks",
          "Jar Jar Binks",
          "Jar Jar Binks",
          "Jar Jar Binks",
          "Jar Jar Binks",
          "Jar Jar Binks",
          "Jar Jar Binks",
          "Jar Jar Binks",
          "Jar Jar Binks",
          "Jar Jar Binks",
          "Jar Jar Binks",
          "Jar Jar Binks",
          "Jar Jar Binks",
          "Jar Jar Binks",
          "Jar Jar Binks",
          "Jar Jar Binks",
          "Jar Jar Binks",
          "Jar Jar Binks",
          "Jar Jar Binks",
          "Jar Jar Binks",
          "Jar Jar Binks",
          "Jar Jar Binks",
          "Jar Jar Binks",
          "Jar Jar Binks",
          "Jar Jar Binks",
          "Jar Jar Binks",
          "Jar Jar Binks",
          "Jar Jar Binks",
          "Jar Jar Binks",
          "Jar Jar Binks",
          "Jar Jar Binks",
          "Jar Jar Binks",
          "Jar Jar Binks",
          "Jar Jar Binks",
          "Jar Jar Binks",
          "Jar Jar Binks",
          "Jar Jar Binks",
          "Jar Jar Binks",
          "Jar Jar Binks",
          "Jar Jar Binks",
          "Jar Jar Binks",
          "Jar Jar Binks",
          "Jar Jar Binks",
          "Jar Jar Binks",
          "Jar Jar Binks",
          "Jar Jar Binks",
          "Jar Jar Binks",
          "Jar Jar Binks",
          "Jar Jar Binks",
          "Jar Jar Binks",
          "Jar Jar Binks",
          "Jar Jar Binks",
          "Jar Jar Binks",
          "Jar Jar Binks",
          "Jar Jar Binks",
          "Jar Jar Binks",
          "Jar Jar Binks",
          "Jar Jar Binks",
          "Jar Jar Binks",
          "Jar Jar Binks",
          "Jar Jar Binks",
          "Jar Jar Binks",
          "Jar Jar Binks",
          "Jar Jar Binks",
          "Jar Jar Binks",
          "Jar Jar Binks",
          "Jar Jar Binks",
          "Jar Jar Binks",
          "Jar Jar Binks",
          "Jar Jar Binks",
          "Jar Jar Binks",
          "Jar Jar Binks",
          "Jar Jar Binks",
          "Jar Jar Binks",
          "Jar Jar Binks",
          "Jar Jar Binks",
          "Jar Jar Binks",
          "Jar Jar Binks",
          "Jar Jar Binks",
          "Jar Jar Binks",
          "Jar Jar Binks",
          "Jar Jar Binks",
          "Jar Jar Binks",
          "Jar Jar Binks",
          "Jar Jar Binks",
          "Jar Jar Binks",
          "Jar Jar Binks",
          "Jar Jar Binks",
          "Jar Jar Binks",
          "Jar Jar Binks",
          "Jar Jar Binks",
          "Jar Jar Binks",
          "Jar Jar Binks",
          "Jar Jar Binks",
          "Jar Jar Binks",
          "Jar Jar Binks",
          "Jar Jar Binks",
          "Jar Jar Binks",
          "Jar Jar Binks",
          "Jar Jar Binks",
          "Jar Jar Binks",
          "Jar Jar Binks",
          "Jar Jar Binks",
          "Jar Jar Binks",
          "Jar Jar Binks",
          "Jar Jar Binks",
          "Jar Jar Binks",
          "Jar Jar Binks",
          "Jar Jar Binks",
          "Jar Jar Binks",
          "Jar Jar Binks",
          "Jar Jar Binks",
          "Jar Jar Binks",
          "Jar Jar Binks",
          "Jar Jar Binks",
          "Jar Jar Binks",
          "Jar Jar Binks",
          "Jar Jar Binks",
          "Jar Jar Binks",
          "Jar Jar Binks",
          "Jar Jar Binks",
          "Jar Jar Binks",
          "Jar Jar Binks",
          "Jar Jar Binks",
          "Jar Jar Binks",
          "Jar Jar Binks",
          "Jar Jar Binks",
          "Jar Jar Binks",
          "Jar Jar Binks",
          "Jar Jar Binks",
          "Jar Jar Binks",
          "Jar Jar Binks",
          "Jar Jar Binks",
          "Jar Jar Binks",
          "Jar Jar Binks",
          "Jar Jar Binks",
          "Jar Jar Binks",
          "Jar Jar Binks",
          "Jar Jar Binks",
          "Jar Jar Binks",
          "Jar Jar Binks",
          "Jar Jar Binks",
          "Jar Jar Binks",
          "Jar Jar Binks",
          "Jar Jar Binks",
          "Jar Jar Binks",
          "Jar Jar Binks",
          "Jar Jar Binks",
          "Jar Jar Binks",
          "Jar Jar Binks",
          "Jar Jar Binks",
          "Jar Jar Binks",
          "Jar Jar Binks",
          "Jar Jar Binks",
          "Jar Jar Binks",
          "Jar Jar Binks",
          "Jar Jar Binks",
          "Jar Jar Binks",
          "Jar Jar Binks",
          "Jar Jar Binks",
          "Jar Jar Binks",
          "Jar Jar Binks",
          "Jar Jar Binks",
          "Jar Jar Binks",
          "Jar Jar Binks",
          "Jar Jar Binks",
          "Jar Jar Binks",
          "Jar Jar Binks",
          "Jar Jar Binks",
          "Jar Jar Binks",
          "Jar Jar Binks",
          "Jar Jar Binks",
          "Jar Jar Binks",
          "Jar Jar Binks",
          "Jar Jar Binks",
          "Jar Jar Binks",
          "Jar Jar Binks",
          "Jar Jar Binks",
          "Jar Jar Binks",
          "Jar Jar Binks",
          "Jar Jar Binks",
          "Jar Jar Binks",
          "Jar Jar Binks",
          "Jar Jar Binks",
          "Jar Jar Binks",
          "Jar Jar Binks",
          "Jar Jar Binks",
          "Jar Jar Binks",
          "Jar Jar Binks",
          "Jar Jar Binks",
          "Jar Jar Binks",
          "Jar Jar Binks",
          "Jar Jar Binks",
          "Jar Jar Binks",
          "Jar Jar Binks",
          "Jar Jar Binks",
          "Jar Jar Binks",
          "Jar Jar Binks",
          "Jar Jar Binks",
          "Jar Jar Binks",
          "Jar Jar Binks",
          "Jar Jar Binks",
          "Jar Jar Binks",
          "Jar Jar Binks",
          "Jar Jar Binks",
          "Jar Jar Binks",
          "Jar Jar Binks",
          "Jar Jar Binks",
          "Jar Jar Binks",
          "Jar Jar Binks",
          "Jar Jar Binks",
          "Jar Jar Binks",
          "Jar Jar Binks",
          "Jar Jar Binks",
          "Jar Jar Binks",
          "Jar Jar Binks",
          "Jar Jar Binks",
          "Jar Jar Binks",
          "Jar Jar Binks",
          "Jar Jar Binks",
          "Jar Jar Binks",
          "Jar Jar Binks",
          "Jar Jar Binks",
          "Jar Jar Binks",
          "Jar Jar Binks",
          "Jar Jar Binks",
          "Jar Jar Binks",
          "Jar Jar Binks",
          "Jar Jar Binks",
          "Jar Jar Binks",
          "Jar Jar Binks",
          "Jar Jar Binks",
          "Jar Jar Binks",
          "Jar Jar Binks",
          "Jar Jar Binks",
          "Jar Jar Binks",
          "Jar Jar Binks",
          "Jar Jar Binks",
          "Jar Jar Binks",
          "Jar Jar Binks",
          "Jar Jar Binks",
          "Jar Jar Binks",
          "Jar Jar Binks",
          "Jar Jar Binks",
          "Jar Jar Binks",
          "Jar Jar Binks",
          "Jar Jar Binks",
          "Jar Jar Binks",
          "Jar Jar Binks",
          "Jar Jar Binks",
          "Jar Jar Binks",
          "Jar Jar Binks",
          "Jar Jar Binks",
          "Jar Jar Binks",
          "Jar Jar Binks",
          "Jar Jar Binks",
          "Jar Jar Binks",
          "Jar Jar Binks",
          "Jar Jar Binks",
          "Jar Jar Binks",
          "Jar Jar Binks",
          "Jar Jar Binks",
          "Jar Jar Binks",
          "Jar Jar Binks",
          "Jar Jar Binks",
          "Jar Jar Binks",
          "Jar Jar Binks",
          "Jar Jar Binks",
          "Jar Jar Binks",
          "Jar Jar Binks",
          "Jar Jar Binks",
          "Jar Jar Binks",
          "Jar Jar Binks",
          "Jar Jar Binks",
          "Jar Jar Binks",
          "Jar Jar Binks",
          "Jar Jar Binks",
          "Jar Jar Binks",
          "Jar Jar Binks",
          "Jar Jar Binks",
          "Jar Jar Binks",
          "Jar Jar Binks",
          "Jar Jar Binks",
          "Jar Jar Binks",
          "Jar Jar Binks",
          "Jar Jar Binks",
          "Jar Jar Binks",
          "Jar Jar Binks",
          "Jar Jar Binks",
          "Jar Jar Binks",
          "Jar Jar Binks",
          "Jar Jar Binks",
          "Jar Jar Binks",
          "Jar Jar Binks",
          "Jar Jar Binks",
          "Jar Jar Binks",
          "Jar Jar Binks",
          "Jar Jar Binks",
          "Jar Jar Binks",
          "Jar Jar Binks",
          "Jar Jar Binks",
          "Jar Jar Binks",
          "Jar Jar Binks",
          "Jar Jar Binks",
          "Jar Jar Binks",
          "Jar Jar Binks",
          "Jar Jar Binks",
          "Jar Jar Binks",
          "Jar Jar Binks",
          "Jar Jar Binks",
          "Jar Jar Binks",
          "Jar Jar Binks",
          "Jar Jar Binks",
          "Jar Jar Binks",
          "Jar Jar Binks",
          "Jar Jar Binks",
          "Jar Jar Binks",
          "Jar Jar Binks",
          "Jar Jar Binks",
          "Jar Jar Binks",
          "Jar Jar Binks",
          "Jar Jar Binks",
          "Jar Jar Binks",
          "Jar Jar Binks",
          "Jar Jar Binks",
          "Jar Jar Binks",
          "Jar Jar Binks",
          "Jar Jar Binks",
          "Jar Jar Binks",
          "Jar Jar Binks",
          "Jar Jar Binks",
          "Jar Jar Binks",
          "Jar Jar Binks",
          "Jar Jar Binks",
          "Jar Jar Binks",
          "Jar Jar Binks",
          "Jar Jar Binks",
          "Jar Jar Binks",
          "Jar Jar Binks",
          "Jar Jar Binks",
          "Jar Jar Binks",
          "Jar Jar Binks",
          "Jar Jar Binks",
          "Jar Jar Binks",
          "Jar Jar Binks",
          "Jar Jar Binks",
          "Jar Jar Binks",
          "Jar Jar Binks",
          "Jar Jar Binks",
          "Jar Jar Binks",
          "Jar Jar Binks",
          "Jar Jar Binks",
          "Jar Jar Binks",
          "Jar Jar Binks",
          "Jar Jar Binks",
          "Jar Jar Binks",
          "Jar Jar Binks",
          "Jar Jar Binks",
          "Jar Jar Binks",
          "Jar Jar Binks",
          "Jar Jar Binks",
          "Jar Jar Binks",
          "Jar Jar Binks",
          "Jar Jar Binks",
          "Jar Jar Binks",
          "Jar Jar Binks",
          "Jar Jar Binks",
          "Jar Jar Binks",
          "Jar Jar Binks",
          "Jar Jar Binks",
          "Jar Jar Binks",
          "Jar Jar Binks",
          "Jar Jar Binks",
          "Jar Jar Binks",
          "Jar Jar Binks",
          "Jar Jar Binks",
          "Jar Jar Binks",
          "Jar Jar Binks",
          "Jar Jar Binks",
          "Jar Jar Binks",
          "Jar Jar Binks",
          "Jar Jar Binks",
          "Jar Jar Binks",
          "Jar Jar Binks",
          "Jar Jar Binks",
          "Jar Jar Binks",
          "Jar Jar Binks",
          "Jar Jar Binks",
          "Jar Jar Binks",
          "Jar Jar Binks",
          "Jar Jar Binks",
          "Jar Jar Binks",
          "Jar Jar Binks",
          "Jar Jar Binks",
          "Jar Jar Binks",
          "Jar Jar Binks",
          "Jar Jar Binks",
          "Jar Jar Binks",
          "Jar Jar Binks",
          "Jar Jar Binks",
          "Jar Jar Binks"
         ],
         "x0": " ",
         "xaxis": "x",
         "y": {
          "bdata": "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",
          "dtype": "f8"
         },
         "y0": " ",
         "yaxis": "y"
        },
        {
         "alignmentgroup": "True",
         "hovertemplate": "Surgeon=%{x}<br>Improvement Score=%{y}<extra></extra>",
         "legendgroup": "Darth Vader",
         "marker": {
          "color": "#00cc96"
         },
         "name": "Darth Vader",
         "notched": false,
         "offsetgroup": "Darth Vader",
         "orientation": "v",
         "showlegend": true,
         "type": "box",
         "x": [
          "Darth Vader",
          "Darth Vader",
          "Darth Vader",
          "Darth Vader",
          "Darth Vader",
          "Darth Vader",
          "Darth Vader",
          "Darth Vader",
          "Darth Vader",
          "Darth Vader",
          "Darth Vader",
          "Darth Vader",
          "Darth Vader",
          "Darth Vader",
          "Darth Vader",
          "Darth Vader",
          "Darth Vader",
          "Darth Vader",
          "Darth Vader",
          "Darth Vader",
          "Darth Vader",
          "Darth Vader",
          "Darth Vader",
          "Darth Vader",
          "Darth Vader",
          "Darth Vader",
          "Darth Vader",
          "Darth Vader",
          "Darth Vader",
          "Darth Vader",
          "Darth Vader",
          "Darth Vader",
          "Darth Vader",
          "Darth Vader",
          "Darth Vader",
          "Darth Vader",
          "Darth Vader",
          "Darth Vader",
          "Darth Vader",
          "Darth Vader",
          "Darth Vader",
          "Darth Vader",
          "Darth Vader",
          "Darth Vader",
          "Darth Vader",
          "Darth Vader",
          "Darth Vader",
          "Darth Vader",
          "Darth Vader",
          "Darth Vader",
          "Darth Vader",
          "Darth Vader",
          "Darth Vader",
          "Darth Vader",
          "Darth Vader",
          "Darth Vader",
          "Darth Vader",
          "Darth Vader",
          "Darth Vader",
          "Darth Vader",
          "Darth Vader",
          "Darth Vader",
          "Darth Vader",
          "Darth Vader",
          "Darth Vader",
          "Darth Vader",
          "Darth Vader",
          "Darth Vader",
          "Darth Vader",
          "Darth Vader",
          "Darth Vader",
          "Darth Vader",
          "Darth Vader",
          "Darth Vader",
          "Darth Vader",
          "Darth Vader",
          "Darth Vader",
          "Darth Vader",
          "Darth Vader",
          "Darth Vader",
          "Darth Vader",
          "Darth Vader",
          "Darth Vader",
          "Darth Vader",
          "Darth Vader",
          "Darth Vader",
          "Darth Vader",
          "Darth Vader",
          "Darth Vader",
          "Darth Vader",
          "Darth Vader",
          "Darth Vader",
          "Darth Vader",
          "Darth Vader",
          "Darth Vader",
          "Darth Vader",
          "Darth Vader",
          "Darth Vader",
          "Darth Vader",
          "Darth Vader",
          "Darth Vader",
          "Darth Vader",
          "Darth Vader",
          "Darth Vader",
          "Darth Vader",
          "Darth Vader",
          "Darth Vader",
          "Darth Vader",
          "Darth Vader",
          "Darth Vader",
          "Darth Vader",
          "Darth Vader",
          "Darth Vader",
          "Darth Vader",
          "Darth Vader",
          "Darth Vader",
          "Darth Vader",
          "Darth Vader",
          "Darth Vader",
          "Darth Vader",
          "Darth Vader",
          "Darth Vader",
          "Darth Vader",
          "Darth Vader",
          "Darth Vader",
          "Darth Vader",
          "Darth Vader",
          "Darth Vader",
          "Darth Vader",
          "Darth Vader",
          "Darth Vader",
          "Darth Vader",
          "Darth Vader",
          "Darth Vader",
          "Darth Vader",
          "Darth Vader",
          "Darth Vader",
          "Darth Vader",
          "Darth Vader",
          "Darth Vader",
          "Darth Vader",
          "Darth Vader",
          "Darth Vader",
          "Darth Vader",
          "Darth Vader",
          "Darth Vader",
          "Darth Vader",
          "Darth Vader",
          "Darth Vader",
          "Darth Vader",
          "Darth Vader",
          "Darth Vader",
          "Darth Vader",
          "Darth Vader",
          "Darth Vader",
          "Darth Vader",
          "Darth Vader",
          "Darth Vader",
          "Darth Vader",
          "Darth Vader",
          "Darth Vader",
          "Darth Vader",
          "Darth Vader",
          "Darth Vader",
          "Darth Vader",
          "Darth Vader",
          "Darth Vader",
          "Darth Vader",
          "Darth Vader",
          "Darth Vader",
          "Darth Vader",
          "Darth Vader",
          "Darth Vader",
          "Darth Vader",
          "Darth Vader",
          "Darth Vader",
          "Darth Vader",
          "Darth Vader",
          "Darth Vader",
          "Darth Vader",
          "Darth Vader",
          "Darth Vader",
          "Darth Vader",
          "Darth Vader",
          "Darth Vader",
          "Darth Vader",
          "Darth Vader",
          "Darth Vader",
          "Darth Vader",
          "Darth Vader",
          "Darth Vader",
          "Darth Vader",
          "Darth Vader",
          "Darth Vader",
          "Darth Vader",
          "Darth Vader",
          "Darth Vader",
          "Darth Vader",
          "Darth Vader",
          "Darth Vader",
          "Darth Vader",
          "Darth Vader",
          "Darth Vader",
          "Darth Vader",
          "Darth Vader",
          "Darth Vader",
          "Darth Vader",
          "Darth Vader",
          "Darth Vader",
          "Darth Vader",
          "Darth Vader",
          "Darth Vader",
          "Darth Vader",
          "Darth Vader",
          "Darth Vader",
          "Darth Vader",
          "Darth Vader",
          "Darth Vader",
          "Darth Vader",
          "Darth Vader",
          "Darth Vader",
          "Darth Vader",
          "Darth Vader",
          "Darth Vader",
          "Darth Vader",
          "Darth Vader",
          "Darth Vader",
          "Darth Vader",
          "Darth Vader",
          "Darth Vader",
          "Darth Vader",
          "Darth Vader",
          "Darth Vader",
          "Darth Vader",
          "Darth Vader",
          "Darth Vader",
          "Darth Vader",
          "Darth Vader",
          "Darth Vader",
          "Darth Vader",
          "Darth Vader",
          "Darth Vader",
          "Darth Vader",
          "Darth Vader",
          "Darth Vader",
          "Darth Vader",
          "Darth Vader",
          "Darth Vader",
          "Darth Vader",
          "Darth Vader",
          "Darth Vader",
          "Darth Vader",
          "Darth Vader",
          "Darth Vader",
          "Darth Vader",
          "Darth Vader",
          "Darth Vader",
          "Darth Vader",
          "Darth Vader",
          "Darth Vader",
          "Darth Vader",
          "Darth Vader",
          "Darth Vader",
          "Darth Vader",
          "Darth Vader",
          "Darth Vader",
          "Darth Vader",
          "Darth Vader",
          "Darth Vader",
          "Darth Vader",
          "Darth Vader",
          "Darth Vader",
          "Darth Vader",
          "Darth Vader",
          "Darth Vader",
          "Darth Vader",
          "Darth Vader",
          "Darth Vader",
          "Darth Vader",
          "Darth Vader",
          "Darth Vader",
          "Darth Vader",
          "Darth Vader",
          "Darth Vader",
          "Darth Vader",
          "Darth Vader",
          "Darth Vader",
          "Darth Vader",
          "Darth Vader",
          "Darth Vader",
          "Darth Vader",
          "Darth Vader",
          "Darth Vader",
          "Darth Vader",
          "Darth Vader",
          "Darth Vader",
          "Darth Vader",
          "Darth Vader",
          "Darth Vader",
          "Darth Vader",
          "Darth Vader",
          "Darth Vader",
          "Darth Vader",
          "Darth Vader",
          "Darth Vader",
          "Darth Vader",
          "Darth Vader",
          "Darth Vader",
          "Darth Vader",
          "Darth Vader",
          "Darth Vader",
          "Darth Vader",
          "Darth Vader",
          "Darth Vader",
          "Darth Vader",
          "Darth Vader",
          "Darth Vader",
          "Darth Vader",
          "Darth Vader",
          "Darth Vader",
          "Darth Vader",
          "Darth Vader",
          "Darth Vader",
          "Darth Vader",
          "Darth Vader",
          "Darth Vader",
          "Darth Vader",
          "Darth Vader",
          "Darth Vader",
          "Darth Vader",
          "Darth Vader",
          "Darth Vader",
          "Darth Vader",
          "Darth Vader",
          "Darth Vader",
          "Darth Vader",
          "Darth Vader",
          "Darth Vader",
          "Darth Vader",
          "Darth Vader",
          "Darth Vader",
          "Darth Vader",
          "Darth Vader",
          "Darth Vader",
          "Darth Vader",
          "Darth Vader",
          "Darth Vader",
          "Darth Vader",
          "Darth Vader",
          "Darth Vader",
          "Darth Vader",
          "Darth Vader",
          "Darth Vader",
          "Darth Vader",
          "Darth Vader",
          "Darth Vader",
          "Darth Vader",
          "Darth Vader",
          "Darth Vader",
          "Darth Vader",
          "Darth Vader",
          "Darth Vader",
          "Darth Vader",
          "Darth Vader",
          "Darth Vader",
          "Darth Vader",
          "Darth Vader",
          "Darth Vader",
          "Darth Vader",
          "Darth Vader",
          "Darth Vader",
          "Darth Vader",
          "Darth Vader",
          "Darth Vader",
          "Darth Vader",
          "Darth Vader",
          "Darth Vader",
          "Darth Vader",
          "Darth Vader",
          "Darth Vader",
          "Darth Vader",
          "Darth Vader",
          "Darth Vader",
          "Darth Vader",
          "Darth Vader",
          "Darth Vader",
          "Darth Vader",
          "Darth Vader",
          "Darth Vader",
          "Darth Vader",
          "Darth Vader",
          "Darth Vader",
          "Darth Vader",
          "Darth Vader",
          "Darth Vader",
          "Darth Vader",
          "Darth Vader",
          "Darth Vader",
          "Darth Vader",
          "Darth Vader",
          "Darth Vader",
          "Darth Vader",
          "Darth Vader",
          "Darth Vader",
          "Darth Vader",
          "Darth Vader",
          "Darth Vader",
          "Darth Vader",
          "Darth Vader",
          "Darth Vader",
          "Darth Vader",
          "Darth Vader",
          "Darth Vader",
          "Darth Vader",
          "Darth Vader",
          "Darth Vader",
          "Darth Vader",
          "Darth Vader",
          "Darth Vader",
          "Darth Vader",
          "Darth Vader",
          "Darth Vader",
          "Darth Vader",
          "Darth Vader",
          "Darth Vader",
          "Darth Vader",
          "Darth Vader",
          "Darth Vader",
          "Darth Vader",
          "Darth Vader",
          "Darth Vader",
          "Darth Vader",
          "Darth Vader",
          "Darth Vader",
          "Darth Vader",
          "Darth Vader",
          "Darth Vader",
          "Darth Vader",
          "Darth Vader",
          "Darth Vader",
          "Darth Vader",
          "Darth Vader",
          "Darth Vader",
          "Darth Vader",
          "Darth Vader",
          "Darth Vader",
          "Darth Vader",
          "Darth Vader",
          "Darth Vader",
          "Darth Vader",
          "Darth Vader",
          "Darth Vader",
          "Darth Vader",
          "Darth Vader",
          "Darth Vader",
          "Darth Vader",
          "Darth Vader",
          "Darth Vader",
          "Darth Vader",
          "Darth Vader",
          "Darth Vader",
          "Darth Vader",
          "Darth Vader",
          "Darth Vader",
          "Darth Vader",
          "Darth Vader",
          "Darth Vader",
          "Darth Vader",
          "Darth Vader",
          "Darth Vader",
          "Darth Vader",
          "Darth Vader",
          "Darth Vader",
          "Darth Vader",
          "Darth Vader",
          "Darth Vader",
          "Darth Vader",
          "Darth Vader",
          "Darth Vader",
          "Darth Vader",
          "Darth Vader",
          "Darth Vader",
          "Darth Vader",
          "Darth Vader",
          "Darth Vader",
          "Darth Vader",
          "Darth Vader",
          "Darth Vader",
          "Darth Vader",
          "Darth Vader",
          "Darth Vader",
          "Darth Vader",
          "Darth Vader",
          "Darth Vader",
          "Darth Vader",
          "Darth Vader",
          "Darth Vader",
          "Darth Vader",
          "Darth Vader",
          "Darth Vader",
          "Darth Vader",
          "Darth Vader",
          "Darth Vader",
          "Darth Vader",
          "Darth Vader",
          "Darth Vader",
          "Darth Vader",
          "Darth Vader",
          "Darth Vader",
          "Darth Vader",
          "Darth Vader",
          "Darth Vader",
          "Darth Vader",
          "Darth Vader",
          "Darth Vader",
          "Darth Vader",
          "Darth Vader",
          "Darth Vader",
          "Darth Vader",
          "Darth Vader",
          "Darth Vader",
          "Darth Vader",
          "Darth Vader",
          "Darth Vader",
          "Darth Vader",
          "Darth Vader",
          "Darth Vader",
          "Darth Vader",
          "Darth Vader",
          "Darth Vader",
          "Darth Vader",
          "Darth Vader",
          "Darth Vader",
          "Darth Vader",
          "Darth Vader",
          "Darth Vader",
          "Darth Vader",
          "Darth Vader",
          "Darth Vader",
          "Darth Vader",
          "Darth Vader",
          "Darth Vader",
          "Darth Vader",
          "Darth Vader",
          "Darth Vader",
          "Darth Vader",
          "Darth Vader",
          "Darth Vader",
          "Darth Vader",
          "Darth Vader",
          "Darth Vader",
          "Darth Vader",
          "Darth Vader",
          "Darth Vader",
          "Darth Vader",
          "Darth Vader",
          "Darth Vader",
          "Darth Vader",
          "Darth Vader",
          "Darth Vader",
          "Darth Vader",
          "Darth Vader",
          "Darth Vader",
          "Darth Vader",
          "Darth Vader",
          "Darth Vader",
          "Darth Vader",
          "Darth Vader",
          "Darth Vader",
          "Darth Vader",
          "Darth Vader",
          "Darth Vader",
          "Darth Vader",
          "Darth Vader",
          "Darth Vader",
          "Darth Vader",
          "Darth Vader",
          "Darth Vader",
          "Darth Vader",
          "Darth Vader",
          "Darth Vader",
          "Darth Vader",
          "Darth Vader",
          "Darth Vader",
          "Darth Vader",
          "Darth Vader",
          "Darth Vader",
          "Darth Vader",
          "Darth Vader",
          "Darth Vader",
          "Darth Vader",
          "Darth Vader",
          "Darth Vader",
          "Darth Vader",
          "Darth Vader",
          "Darth Vader",
          "Darth Vader",
          "Darth Vader",
          "Darth Vader",
          "Darth Vader",
          "Darth Vader",
          "Darth Vader",
          "Darth Vader",
          "Darth Vader",
          "Darth Vader",
          "Darth Vader",
          "Darth Vader",
          "Darth Vader",
          "Darth Vader",
          "Darth Vader",
          "Darth Vader",
          "Darth Vader",
          "Darth Vader",
          "Darth Vader",
          "Darth Vader",
          "Darth Vader",
          "Darth Vader",
          "Darth Vader",
          "Darth Vader",
          "Darth Vader",
          "Darth Vader",
          "Darth Vader",
          "Darth Vader",
          "Darth Vader",
          "Darth Vader",
          "Darth Vader",
          "Darth Vader",
          "Darth Vader",
          "Darth Vader",
          "Darth Vader",
          "Darth Vader",
          "Darth Vader",
          "Darth Vader",
          "Darth Vader",
          "Darth Vader",
          "Darth Vader",
          "Darth Vader",
          "Darth Vader",
          "Darth Vader",
          "Darth Vader",
          "Darth Vader",
          "Darth Vader",
          "Darth Vader",
          "Darth Vader",
          "Darth Vader",
          "Darth Vader",
          "Darth Vader",
          "Darth Vader",
          "Darth Vader",
          "Darth Vader",
          "Darth Vader",
          "Darth Vader",
          "Darth Vader",
          "Darth Vader",
          "Darth Vader",
          "Darth Vader",
          "Darth Vader",
          "Darth Vader",
          "Darth Vader",
          "Darth Vader",
          "Darth Vader",
          "Darth Vader",
          "Darth Vader",
          "Darth Vader",
          "Darth Vader",
          "Darth Vader",
          "Darth Vader",
          "Darth Vader",
          "Darth Vader",
          "Darth Vader",
          "Darth Vader",
          "Darth Vader",
          "Darth Vader",
          "Darth Vader",
          "Darth Vader",
          "Darth Vader",
          "Darth Vader",
          "Darth Vader",
          "Darth Vader",
          "Darth Vader",
          "Darth Vader",
          "Darth Vader",
          "Darth Vader",
          "Darth Vader",
          "Darth Vader",
          "Darth Vader",
          "Darth Vader",
          "Darth Vader",
          "Darth Vader",
          "Darth Vader",
          "Darth Vader",
          "Darth Vader",
          "Darth Vader",
          "Darth Vader",
          "Darth Vader",
          "Darth Vader",
          "Darth Vader",
          "Darth Vader",
          "Darth Vader",
          "Darth Vader",
          "Darth Vader",
          "Darth Vader",
          "Darth Vader",
          "Darth Vader",
          "Darth Vader",
          "Darth Vader",
          "Darth Vader",
          "Darth Vader",
          "Darth Vader",
          "Darth Vader",
          "Darth Vader",
          "Darth Vader",
          "Darth Vader",
          "Darth Vader",
          "Darth Vader",
          "Darth Vader",
          "Darth Vader",
          "Darth Vader",
          "Darth Vader",
          "Darth Vader",
          "Darth Vader",
          "Darth Vader",
          "Darth Vader",
          "Darth Vader",
          "Darth Vader",
          "Darth Vader",
          "Darth Vader",
          "Darth Vader",
          "Darth Vader",
          "Darth Vader",
          "Darth Vader",
          "Darth Vader",
          "Darth Vader",
          "Darth Vader",
          "Darth Vader",
          "Darth Vader",
          "Darth Vader",
          "Darth Vader",
          "Darth Vader",
          "Darth Vader",
          "Darth Vader",
          "Darth Vader",
          "Darth Vader",
          "Darth Vader",
          "Darth Vader",
          "Darth Vader",
          "Darth Vader",
          "Darth Vader",
          "Darth Vader",
          "Darth Vader",
          "Darth Vader",
          "Darth Vader",
          "Darth Vader",
          "Darth Vader",
          "Darth Vader",
          "Darth Vader",
          "Darth Vader",
          "Darth Vader",
          "Darth Vader",
          "Darth Vader",
          "Darth Vader",
          "Darth Vader",
          "Darth Vader",
          "Darth Vader",
          "Darth Vader",
          "Darth Vader",
          "Darth Vader",
          "Darth Vader",
          "Darth Vader",
          "Darth Vader",
          "Darth Vader",
          "Darth Vader",
          "Darth Vader",
          "Darth Vader",
          "Darth Vader",
          "Darth Vader",
          "Darth Vader",
          "Darth Vader",
          "Darth Vader",
          "Darth Vader",
          "Darth Vader",
          "Darth Vader",
          "Darth Vader",
          "Darth Vader",
          "Darth Vader",
          "Darth Vader",
          "Darth Vader",
          "Darth Vader",
          "Darth Vader",
          "Darth Vader",
          "Darth Vader",
          "Darth Vader",
          "Darth Vader",
          "Darth Vader",
          "Darth Vader",
          "Darth Vader",
          "Darth Vader",
          "Darth Vader",
          "Darth Vader",
          "Darth Vader",
          "Darth Vader",
          "Darth Vader",
          "Darth Vader",
          "Darth Vader",
          "Darth Vader",
          "Darth Vader",
          "Darth Vader",
          "Darth Vader",
          "Darth Vader",
          "Darth Vader",
          "Darth Vader",
          "Darth Vader",
          "Darth Vader",
          "Darth Vader",
          "Darth Vader",
          "Darth Vader",
          "Darth Vader",
          "Darth Vader",
          "Darth Vader",
          "Darth Vader",
          "Darth Vader",
          "Darth Vader",
          "Darth Vader",
          "Darth Vader",
          "Darth Vader",
          "Darth Vader",
          "Darth Vader",
          "Darth Vader",
          "Darth Vader",
          "Darth Vader",
          "Darth Vader",
          "Darth Vader",
          "Darth Vader",
          "Darth Vader",
          "Darth Vader",
          "Darth Vader",
          "Darth Vader",
          "Darth Vader",
          "Darth Vader",
          "Darth Vader",
          "Darth Vader",
          "Darth Vader",
          "Darth Vader",
          "Darth Vader",
          "Darth Vader",
          "Darth Vader",
          "Darth Vader",
          "Darth Vader",
          "Darth Vader",
          "Darth Vader",
          "Darth Vader",
          "Darth Vader",
          "Darth Vader",
          "Darth Vader",
          "Darth Vader",
          "Darth Vader",
          "Darth Vader",
          "Darth Vader",
          "Darth Vader",
          "Darth Vader",
          "Darth Vader",
          "Darth Vader",
          "Darth Vader",
          "Darth Vader",
          "Darth Vader",
          "Darth Vader",
          "Darth Vader",
          "Darth Vader",
          "Darth Vader",
          "Darth Vader",
          "Darth Vader",
          "Darth Vader",
          "Darth Vader",
          "Darth Vader",
          "Darth Vader",
          "Darth Vader",
          "Darth Vader",
          "Darth Vader",
          "Darth Vader",
          "Darth Vader",
          "Darth Vader",
          "Darth Vader",
          "Darth Vader",
          "Darth Vader",
          "Darth Vader",
          "Darth Vader",
          "Darth Vader",
          "Darth Vader",
          "Darth Vader",
          "Darth Vader",
          "Darth Vader",
          "Darth Vader",
          "Darth Vader",
          "Darth Vader",
          "Darth Vader",
          "Darth Vader",
          "Darth Vader",
          "Darth Vader",
          "Darth Vader",
          "Darth Vader",
          "Darth Vader",
          "Darth Vader",
          "Darth Vader",
          "Darth Vader",
          "Darth Vader",
          "Darth Vader",
          "Darth Vader",
          "Darth Vader",
          "Darth Vader",
          "Darth Vader",
          "Darth Vader",
          "Darth Vader",
          "Darth Vader",
          "Darth Vader",
          "Darth Vader",
          "Darth Vader",
          "Darth Vader",
          "Darth Vader",
          "Darth Vader",
          "Darth Vader",
          "Darth Vader",
          "Darth Vader",
          "Darth Vader",
          "Darth Vader",
          "Darth Vader",
          "Darth Vader",
          "Darth Vader",
          "Darth Vader",
          "Darth Vader",
          "Darth Vader",
          "Darth Vader",
          "Darth Vader",
          "Darth Vader",
          "Darth Vader",
          "Darth Vader",
          "Darth Vader",
          "Darth Vader",
          "Darth Vader",
          "Darth Vader",
          "Darth Vader",
          "Darth Vader",
          "Darth Vader",
          "Darth Vader",
          "Darth Vader",
          "Darth Vader",
          "Darth Vader",
          "Darth Vader",
          "Darth Vader",
          "Darth Vader",
          "Darth Vader",
          "Darth Vader",
          "Darth Vader",
          "Darth Vader",
          "Darth Vader",
          "Darth Vader",
          "Darth Vader",
          "Darth Vader",
          "Darth Vader",
          "Darth Vader",
          "Darth Vader",
          "Darth Vader",
          "Darth Vader",
          "Darth Vader"
         ],
         "x0": " ",
         "xaxis": "x",
         "y": {
          "bdata": "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",
          "dtype": "f8"
         },
         "y0": " ",
         "yaxis": "y"
        },
        {
         "alignmentgroup": "True",
         "hovertemplate": "Surgeon=%{x}<br>Improvement Score=%{y}<extra></extra>",
         "legendgroup": "Obi-Wan Kenobi",
         "marker": {
          "color": "#ab63fa"
         },
         "name": "Obi-Wan Kenobi",
         "notched": false,
         "offsetgroup": "Obi-Wan Kenobi",
         "orientation": "v",
         "showlegend": true,
         "type": "box",
         "x": [
          "Obi-Wan Kenobi",
          "Obi-Wan Kenobi",
          "Obi-Wan Kenobi",
          "Obi-Wan Kenobi",
          "Obi-Wan Kenobi",
          "Obi-Wan Kenobi",
          "Obi-Wan Kenobi",
          "Obi-Wan Kenobi",
          "Obi-Wan Kenobi",
          "Obi-Wan Kenobi",
          "Obi-Wan Kenobi",
          "Obi-Wan Kenobi",
          "Obi-Wan Kenobi",
          "Obi-Wan Kenobi",
          "Obi-Wan Kenobi",
          "Obi-Wan Kenobi",
          "Obi-Wan Kenobi",
          "Obi-Wan Kenobi",
          "Obi-Wan Kenobi",
          "Obi-Wan Kenobi",
          "Obi-Wan Kenobi",
          "Obi-Wan Kenobi",
          "Obi-Wan Kenobi",
          "Obi-Wan Kenobi",
          "Obi-Wan Kenobi",
          "Obi-Wan Kenobi",
          "Obi-Wan Kenobi",
          "Obi-Wan Kenobi",
          "Obi-Wan Kenobi",
          "Obi-Wan Kenobi",
          "Obi-Wan Kenobi",
          "Obi-Wan Kenobi",
          "Obi-Wan Kenobi",
          "Obi-Wan Kenobi",
          "Obi-Wan Kenobi",
          "Obi-Wan Kenobi",
          "Obi-Wan Kenobi",
          "Obi-Wan Kenobi",
          "Obi-Wan Kenobi",
          "Obi-Wan Kenobi",
          "Obi-Wan Kenobi",
          "Obi-Wan Kenobi",
          "Obi-Wan Kenobi",
          "Obi-Wan Kenobi",
          "Obi-Wan Kenobi",
          "Obi-Wan Kenobi",
          "Obi-Wan Kenobi",
          "Obi-Wan Kenobi",
          "Obi-Wan Kenobi",
          "Obi-Wan Kenobi",
          "Obi-Wan Kenobi",
          "Obi-Wan Kenobi",
          "Obi-Wan Kenobi",
          "Obi-Wan Kenobi",
          "Obi-Wan Kenobi",
          "Obi-Wan Kenobi",
          "Obi-Wan Kenobi",
          "Obi-Wan Kenobi",
          "Obi-Wan Kenobi",
          "Obi-Wan Kenobi",
          "Obi-Wan Kenobi",
          "Obi-Wan Kenobi",
          "Obi-Wan Kenobi",
          "Obi-Wan Kenobi",
          "Obi-Wan Kenobi",
          "Obi-Wan Kenobi",
          "Obi-Wan Kenobi",
          "Obi-Wan Kenobi",
          "Obi-Wan Kenobi",
          "Obi-Wan Kenobi",
          "Obi-Wan Kenobi",
          "Obi-Wan Kenobi",
          "Obi-Wan Kenobi",
          "Obi-Wan Kenobi",
          "Obi-Wan Kenobi",
          "Obi-Wan Kenobi",
          "Obi-Wan Kenobi",
          "Obi-Wan Kenobi",
          "Obi-Wan Kenobi",
          "Obi-Wan Kenobi",
          "Obi-Wan Kenobi",
          "Obi-Wan Kenobi",
          "Obi-Wan Kenobi",
          "Obi-Wan Kenobi",
          "Obi-Wan Kenobi",
          "Obi-Wan Kenobi",
          "Obi-Wan Kenobi",
          "Obi-Wan Kenobi",
          "Obi-Wan Kenobi",
          "Obi-Wan Kenobi",
          "Obi-Wan Kenobi",
          "Obi-Wan Kenobi",
          "Obi-Wan Kenobi",
          "Obi-Wan Kenobi",
          "Obi-Wan Kenobi",
          "Obi-Wan Kenobi",
          "Obi-Wan Kenobi",
          "Obi-Wan Kenobi",
          "Obi-Wan Kenobi",
          "Obi-Wan Kenobi",
          "Obi-Wan Kenobi",
          "Obi-Wan Kenobi",
          "Obi-Wan Kenobi",
          "Obi-Wan Kenobi",
          "Obi-Wan Kenobi",
          "Obi-Wan Kenobi",
          "Obi-Wan Kenobi",
          "Obi-Wan Kenobi",
          "Obi-Wan Kenobi",
          "Obi-Wan Kenobi",
          "Obi-Wan Kenobi",
          "Obi-Wan Kenobi",
          "Obi-Wan Kenobi",
          "Obi-Wan Kenobi",
          "Obi-Wan Kenobi",
          "Obi-Wan Kenobi",
          "Obi-Wan Kenobi",
          "Obi-Wan Kenobi",
          "Obi-Wan Kenobi",
          "Obi-Wan Kenobi",
          "Obi-Wan Kenobi",
          "Obi-Wan Kenobi",
          "Obi-Wan Kenobi",
          "Obi-Wan Kenobi",
          "Obi-Wan Kenobi",
          "Obi-Wan Kenobi",
          "Obi-Wan Kenobi",
          "Obi-Wan Kenobi",
          "Obi-Wan Kenobi",
          "Obi-Wan Kenobi",
          "Obi-Wan Kenobi",
          "Obi-Wan Kenobi",
          "Obi-Wan Kenobi",
          "Obi-Wan Kenobi",
          "Obi-Wan Kenobi",
          "Obi-Wan Kenobi",
          "Obi-Wan Kenobi",
          "Obi-Wan Kenobi",
          "Obi-Wan Kenobi",
          "Obi-Wan Kenobi",
          "Obi-Wan Kenobi",
          "Obi-Wan Kenobi",
          "Obi-Wan Kenobi",
          "Obi-Wan Kenobi",
          "Obi-Wan Kenobi",
          "Obi-Wan Kenobi",
          "Obi-Wan Kenobi",
          "Obi-Wan Kenobi",
          "Obi-Wan Kenobi",
          "Obi-Wan Kenobi",
          "Obi-Wan Kenobi",
          "Obi-Wan Kenobi",
          "Obi-Wan Kenobi",
          "Obi-Wan Kenobi",
          "Obi-Wan Kenobi",
          "Obi-Wan Kenobi",
          "Obi-Wan Kenobi",
          "Obi-Wan Kenobi",
          "Obi-Wan Kenobi",
          "Obi-Wan Kenobi",
          "Obi-Wan Kenobi",
          "Obi-Wan Kenobi",
          "Obi-Wan Kenobi",
          "Obi-Wan Kenobi",
          "Obi-Wan Kenobi",
          "Obi-Wan Kenobi",
          "Obi-Wan Kenobi",
          "Obi-Wan Kenobi",
          "Obi-Wan Kenobi",
          "Obi-Wan Kenobi",
          "Obi-Wan Kenobi",
          "Obi-Wan Kenobi",
          "Obi-Wan Kenobi",
          "Obi-Wan Kenobi",
          "Obi-Wan Kenobi",
          "Obi-Wan Kenobi",
          "Obi-Wan Kenobi",
          "Obi-Wan Kenobi",
          "Obi-Wan Kenobi",
          "Obi-Wan Kenobi",
          "Obi-Wan Kenobi",
          "Obi-Wan Kenobi",
          "Obi-Wan Kenobi",
          "Obi-Wan Kenobi",
          "Obi-Wan Kenobi",
          "Obi-Wan Kenobi",
          "Obi-Wan Kenobi",
          "Obi-Wan Kenobi",
          "Obi-Wan Kenobi",
          "Obi-Wan Kenobi",
          "Obi-Wan Kenobi",
          "Obi-Wan Kenobi",
          "Obi-Wan Kenobi",
          "Obi-Wan Kenobi",
          "Obi-Wan Kenobi",
          "Obi-Wan Kenobi",
          "Obi-Wan Kenobi",
          "Obi-Wan Kenobi",
          "Obi-Wan Kenobi",
          "Obi-Wan Kenobi",
          "Obi-Wan Kenobi",
          "Obi-Wan Kenobi",
          "Obi-Wan Kenobi",
          "Obi-Wan Kenobi",
          "Obi-Wan Kenobi",
          "Obi-Wan Kenobi",
          "Obi-Wan Kenobi",
          "Obi-Wan Kenobi",
          "Obi-Wan Kenobi",
          "Obi-Wan Kenobi",
          "Obi-Wan Kenobi",
          "Obi-Wan Kenobi",
          "Obi-Wan Kenobi",
          "Obi-Wan Kenobi",
          "Obi-Wan Kenobi",
          "Obi-Wan Kenobi",
          "Obi-Wan Kenobi",
          "Obi-Wan Kenobi",
          "Obi-Wan Kenobi",
          "Obi-Wan Kenobi",
          "Obi-Wan Kenobi",
          "Obi-Wan Kenobi",
          "Obi-Wan Kenobi",
          "Obi-Wan Kenobi",
          "Obi-Wan Kenobi",
          "Obi-Wan Kenobi",
          "Obi-Wan Kenobi",
          "Obi-Wan Kenobi",
          "Obi-Wan Kenobi",
          "Obi-Wan Kenobi",
          "Obi-Wan Kenobi",
          "Obi-Wan Kenobi",
          "Obi-Wan Kenobi",
          "Obi-Wan Kenobi",
          "Obi-Wan Kenobi",
          "Obi-Wan Kenobi",
          "Obi-Wan Kenobi",
          "Obi-Wan Kenobi",
          "Obi-Wan Kenobi",
          "Obi-Wan Kenobi",
          "Obi-Wan Kenobi",
          "Obi-Wan Kenobi",
          "Obi-Wan Kenobi",
          "Obi-Wan Kenobi",
          "Obi-Wan Kenobi",
          "Obi-Wan Kenobi",
          "Obi-Wan Kenobi",
          "Obi-Wan Kenobi",
          "Obi-Wan Kenobi",
          "Obi-Wan Kenobi",
          "Obi-Wan Kenobi",
          "Obi-Wan Kenobi",
          "Obi-Wan Kenobi",
          "Obi-Wan Kenobi",
          "Obi-Wan Kenobi",
          "Obi-Wan Kenobi",
          "Obi-Wan Kenobi",
          "Obi-Wan Kenobi",
          "Obi-Wan Kenobi",
          "Obi-Wan Kenobi",
          "Obi-Wan Kenobi",
          "Obi-Wan Kenobi",
          "Obi-Wan Kenobi",
          "Obi-Wan Kenobi",
          "Obi-Wan Kenobi",
          "Obi-Wan Kenobi",
          "Obi-Wan Kenobi",
          "Obi-Wan Kenobi",
          "Obi-Wan Kenobi",
          "Obi-Wan Kenobi",
          "Obi-Wan Kenobi",
          "Obi-Wan Kenobi",
          "Obi-Wan Kenobi",
          "Obi-Wan Kenobi",
          "Obi-Wan Kenobi",
          "Obi-Wan Kenobi",
          "Obi-Wan Kenobi",
          "Obi-Wan Kenobi",
          "Obi-Wan Kenobi",
          "Obi-Wan Kenobi",
          "Obi-Wan Kenobi",
          "Obi-Wan Kenobi",
          "Obi-Wan Kenobi",
          "Obi-Wan Kenobi",
          "Obi-Wan Kenobi",
          "Obi-Wan Kenobi",
          "Obi-Wan Kenobi",
          "Obi-Wan Kenobi",
          "Obi-Wan Kenobi",
          "Obi-Wan Kenobi",
          "Obi-Wan Kenobi",
          "Obi-Wan Kenobi",
          "Obi-Wan Kenobi",
          "Obi-Wan Kenobi",
          "Obi-Wan Kenobi",
          "Obi-Wan Kenobi",
          "Obi-Wan Kenobi",
          "Obi-Wan Kenobi",
          "Obi-Wan Kenobi",
          "Obi-Wan Kenobi",
          "Obi-Wan Kenobi",
          "Obi-Wan Kenobi",
          "Obi-Wan Kenobi",
          "Obi-Wan Kenobi",
          "Obi-Wan Kenobi",
          "Obi-Wan Kenobi",
          "Obi-Wan Kenobi",
          "Obi-Wan Kenobi",
          "Obi-Wan Kenobi",
          "Obi-Wan Kenobi",
          "Obi-Wan Kenobi",
          "Obi-Wan Kenobi",
          "Obi-Wan Kenobi",
          "Obi-Wan Kenobi",
          "Obi-Wan Kenobi",
          "Obi-Wan Kenobi",
          "Obi-Wan Kenobi",
          "Obi-Wan Kenobi",
          "Obi-Wan Kenobi",
          "Obi-Wan Kenobi",
          "Obi-Wan Kenobi",
          "Obi-Wan Kenobi",
          "Obi-Wan Kenobi",
          "Obi-Wan Kenobi",
          "Obi-Wan Kenobi",
          "Obi-Wan Kenobi",
          "Obi-Wan Kenobi",
          "Obi-Wan Kenobi",
          "Obi-Wan Kenobi",
          "Obi-Wan Kenobi",
          "Obi-Wan Kenobi",
          "Obi-Wan Kenobi",
          "Obi-Wan Kenobi",
          "Obi-Wan Kenobi",
          "Obi-Wan Kenobi",
          "Obi-Wan Kenobi",
          "Obi-Wan Kenobi",
          "Obi-Wan Kenobi",
          "Obi-Wan Kenobi",
          "Obi-Wan Kenobi",
          "Obi-Wan Kenobi",
          "Obi-Wan Kenobi",
          "Obi-Wan Kenobi",
          "Obi-Wan Kenobi",
          "Obi-Wan Kenobi",
          "Obi-Wan Kenobi",
          "Obi-Wan Kenobi",
          "Obi-Wan Kenobi",
          "Obi-Wan Kenobi",
          "Obi-Wan Kenobi",
          "Obi-Wan Kenobi",
          "Obi-Wan Kenobi",
          "Obi-Wan Kenobi",
          "Obi-Wan Kenobi",
          "Obi-Wan Kenobi",
          "Obi-Wan Kenobi",
          "Obi-Wan Kenobi",
          "Obi-Wan Kenobi",
          "Obi-Wan Kenobi",
          "Obi-Wan Kenobi",
          "Obi-Wan Kenobi",
          "Obi-Wan Kenobi",
          "Obi-Wan Kenobi",
          "Obi-Wan Kenobi",
          "Obi-Wan Kenobi",
          "Obi-Wan Kenobi",
          "Obi-Wan Kenobi",
          "Obi-Wan Kenobi",
          "Obi-Wan Kenobi",
          "Obi-Wan Kenobi",
          "Obi-Wan Kenobi",
          "Obi-Wan Kenobi",
          "Obi-Wan Kenobi",
          "Obi-Wan Kenobi",
          "Obi-Wan Kenobi",
          "Obi-Wan Kenobi",
          "Obi-Wan Kenobi",
          "Obi-Wan Kenobi",
          "Obi-Wan Kenobi",
          "Obi-Wan Kenobi",
          "Obi-Wan Kenobi",
          "Obi-Wan Kenobi",
          "Obi-Wan Kenobi",
          "Obi-Wan Kenobi",
          "Obi-Wan Kenobi",
          "Obi-Wan Kenobi",
          "Obi-Wan Kenobi",
          "Obi-Wan Kenobi",
          "Obi-Wan Kenobi",
          "Obi-Wan Kenobi",
          "Obi-Wan Kenobi",
          "Obi-Wan Kenobi",
          "Obi-Wan Kenobi",
          "Obi-Wan Kenobi",
          "Obi-Wan Kenobi",
          "Obi-Wan Kenobi",
          "Obi-Wan Kenobi",
          "Obi-Wan Kenobi",
          "Obi-Wan Kenobi",
          "Obi-Wan Kenobi",
          "Obi-Wan Kenobi",
          "Obi-Wan Kenobi",
          "Obi-Wan Kenobi",
          "Obi-Wan Kenobi",
          "Obi-Wan Kenobi",
          "Obi-Wan Kenobi",
          "Obi-Wan Kenobi",
          "Obi-Wan Kenobi",
          "Obi-Wan Kenobi",
          "Obi-Wan Kenobi",
          "Obi-Wan Kenobi",
          "Obi-Wan Kenobi",
          "Obi-Wan Kenobi",
          "Obi-Wan Kenobi",
          "Obi-Wan Kenobi",
          "Obi-Wan Kenobi",
          "Obi-Wan Kenobi",
          "Obi-Wan Kenobi",
          "Obi-Wan Kenobi",
          "Obi-Wan Kenobi",
          "Obi-Wan Kenobi",
          "Obi-Wan Kenobi",
          "Obi-Wan Kenobi",
          "Obi-Wan Kenobi",
          "Obi-Wan Kenobi",
          "Obi-Wan Kenobi",
          "Obi-Wan Kenobi",
          "Obi-Wan Kenobi",
          "Obi-Wan Kenobi",
          "Obi-Wan Kenobi",
          "Obi-Wan Kenobi",
          "Obi-Wan Kenobi",
          "Obi-Wan Kenobi",
          "Obi-Wan Kenobi",
          "Obi-Wan Kenobi",
          "Obi-Wan Kenobi",
          "Obi-Wan Kenobi",
          "Obi-Wan Kenobi",
          "Obi-Wan Kenobi",
          "Obi-Wan Kenobi",
          "Obi-Wan Kenobi",
          "Obi-Wan Kenobi",
          "Obi-Wan Kenobi",
          "Obi-Wan Kenobi",
          "Obi-Wan Kenobi",
          "Obi-Wan Kenobi",
          "Obi-Wan Kenobi",
          "Obi-Wan Kenobi",
          "Obi-Wan Kenobi",
          "Obi-Wan Kenobi",
          "Obi-Wan Kenobi",
          "Obi-Wan Kenobi",
          "Obi-Wan Kenobi",
          "Obi-Wan Kenobi",
          "Obi-Wan Kenobi",
          "Obi-Wan Kenobi",
          "Obi-Wan Kenobi",
          "Obi-Wan Kenobi",
          "Obi-Wan Kenobi",
          "Obi-Wan Kenobi",
          "Obi-Wan Kenobi",
          "Obi-Wan Kenobi",
          "Obi-Wan Kenobi",
          "Obi-Wan Kenobi",
          "Obi-Wan Kenobi",
          "Obi-Wan Kenobi",
          "Obi-Wan Kenobi",
          "Obi-Wan Kenobi",
          "Obi-Wan Kenobi",
          "Obi-Wan Kenobi",
          "Obi-Wan Kenobi",
          "Obi-Wan Kenobi",
          "Obi-Wan Kenobi",
          "Obi-Wan Kenobi",
          "Obi-Wan Kenobi",
          "Obi-Wan Kenobi",
          "Obi-Wan Kenobi",
          "Obi-Wan Kenobi",
          "Obi-Wan Kenobi",
          "Obi-Wan Kenobi",
          "Obi-Wan Kenobi",
          "Obi-Wan Kenobi",
          "Obi-Wan Kenobi",
          "Obi-Wan Kenobi",
          "Obi-Wan Kenobi",
          "Obi-Wan Kenobi",
          "Obi-Wan Kenobi",
          "Obi-Wan Kenobi",
          "Obi-Wan Kenobi",
          "Obi-Wan Kenobi",
          "Obi-Wan Kenobi",
          "Obi-Wan Kenobi",
          "Obi-Wan Kenobi",
          "Obi-Wan Kenobi",
          "Obi-Wan Kenobi",
          "Obi-Wan Kenobi",
          "Obi-Wan Kenobi",
          "Obi-Wan Kenobi",
          "Obi-Wan Kenobi",
          "Obi-Wan Kenobi",
          "Obi-Wan Kenobi",
          "Obi-Wan Kenobi",
          "Obi-Wan Kenobi",
          "Obi-Wan Kenobi",
          "Obi-Wan Kenobi",
          "Obi-Wan Kenobi",
          "Obi-Wan Kenobi",
          "Obi-Wan Kenobi",
          "Obi-Wan Kenobi",
          "Obi-Wan Kenobi",
          "Obi-Wan Kenobi",
          "Obi-Wan Kenobi",
          "Obi-Wan Kenobi",
          "Obi-Wan Kenobi",
          "Obi-Wan Kenobi",
          "Obi-Wan Kenobi",
          "Obi-Wan Kenobi",
          "Obi-Wan Kenobi",
          "Obi-Wan Kenobi",
          "Obi-Wan Kenobi",
          "Obi-Wan Kenobi",
          "Obi-Wan Kenobi",
          "Obi-Wan Kenobi",
          "Obi-Wan Kenobi",
          "Obi-Wan Kenobi",
          "Obi-Wan Kenobi",
          "Obi-Wan Kenobi",
          "Obi-Wan Kenobi",
          "Obi-Wan Kenobi",
          "Obi-Wan Kenobi",
          "Obi-Wan Kenobi",
          "Obi-Wan Kenobi",
          "Obi-Wan Kenobi",
          "Obi-Wan Kenobi",
          "Obi-Wan Kenobi",
          "Obi-Wan Kenobi",
          "Obi-Wan Kenobi",
          "Obi-Wan Kenobi",
          "Obi-Wan Kenobi",
          "Obi-Wan Kenobi",
          "Obi-Wan Kenobi",
          "Obi-Wan Kenobi",
          "Obi-Wan Kenobi",
          "Obi-Wan Kenobi",
          "Obi-Wan Kenobi",
          "Obi-Wan Kenobi",
          "Obi-Wan Kenobi",
          "Obi-Wan Kenobi",
          "Obi-Wan Kenobi",
          "Obi-Wan Kenobi",
          "Obi-Wan Kenobi",
          "Obi-Wan Kenobi",
          "Obi-Wan Kenobi",
          "Obi-Wan Kenobi",
          "Obi-Wan Kenobi",
          "Obi-Wan Kenobi",
          "Obi-Wan Kenobi",
          "Obi-Wan Kenobi",
          "Obi-Wan Kenobi",
          "Obi-Wan Kenobi",
          "Obi-Wan Kenobi",
          "Obi-Wan Kenobi",
          "Obi-Wan Kenobi",
          "Obi-Wan Kenobi",
          "Obi-Wan Kenobi",
          "Obi-Wan Kenobi",
          "Obi-Wan Kenobi",
          "Obi-Wan Kenobi",
          "Obi-Wan Kenobi",
          "Obi-Wan Kenobi",
          "Obi-Wan Kenobi",
          "Obi-Wan Kenobi",
          "Obi-Wan Kenobi",
          "Obi-Wan Kenobi",
          "Obi-Wan Kenobi",
          "Obi-Wan Kenobi",
          "Obi-Wan Kenobi",
          "Obi-Wan Kenobi",
          "Obi-Wan Kenobi",
          "Obi-Wan Kenobi",
          "Obi-Wan Kenobi",
          "Obi-Wan Kenobi",
          "Obi-Wan Kenobi",
          "Obi-Wan Kenobi",
          "Obi-Wan Kenobi",
          "Obi-Wan Kenobi",
          "Obi-Wan Kenobi",
          "Obi-Wan Kenobi",
          "Obi-Wan Kenobi",
          "Obi-Wan Kenobi",
          "Obi-Wan Kenobi",
          "Obi-Wan Kenobi",
          "Obi-Wan Kenobi",
          "Obi-Wan Kenobi",
          "Obi-Wan Kenobi",
          "Obi-Wan Kenobi",
          "Obi-Wan Kenobi",
          "Obi-Wan Kenobi",
          "Obi-Wan Kenobi",
          "Obi-Wan Kenobi",
          "Obi-Wan Kenobi",
          "Obi-Wan Kenobi",
          "Obi-Wan Kenobi",
          "Obi-Wan Kenobi",
          "Obi-Wan Kenobi",
          "Obi-Wan Kenobi",
          "Obi-Wan Kenobi",
          "Obi-Wan Kenobi",
          "Obi-Wan Kenobi",
          "Obi-Wan Kenobi",
          "Obi-Wan Kenobi",
          "Obi-Wan Kenobi",
          "Obi-Wan Kenobi",
          "Obi-Wan Kenobi",
          "Obi-Wan Kenobi",
          "Obi-Wan Kenobi",
          "Obi-Wan Kenobi",
          "Obi-Wan Kenobi",
          "Obi-Wan Kenobi",
          "Obi-Wan Kenobi",
          "Obi-Wan Kenobi",
          "Obi-Wan Kenobi",
          "Obi-Wan Kenobi",
          "Obi-Wan Kenobi",
          "Obi-Wan Kenobi",
          "Obi-Wan Kenobi",
          "Obi-Wan Kenobi",
          "Obi-Wan Kenobi",
          "Obi-Wan Kenobi",
          "Obi-Wan Kenobi",
          "Obi-Wan Kenobi",
          "Obi-Wan Kenobi",
          "Obi-Wan Kenobi",
          "Obi-Wan Kenobi",
          "Obi-Wan Kenobi",
          "Obi-Wan Kenobi",
          "Obi-Wan Kenobi",
          "Obi-Wan Kenobi",
          "Obi-Wan Kenobi",
          "Obi-Wan Kenobi",
          "Obi-Wan Kenobi",
          "Obi-Wan Kenobi",
          "Obi-Wan Kenobi",
          "Obi-Wan Kenobi",
          "Obi-Wan Kenobi",
          "Obi-Wan Kenobi",
          "Obi-Wan Kenobi",
          "Obi-Wan Kenobi",
          "Obi-Wan Kenobi",
          "Obi-Wan Kenobi",
          "Obi-Wan Kenobi",
          "Obi-Wan Kenobi",
          "Obi-Wan Kenobi",
          "Obi-Wan Kenobi",
          "Obi-Wan Kenobi",
          "Obi-Wan Kenobi",
          "Obi-Wan Kenobi",
          "Obi-Wan Kenobi",
          "Obi-Wan Kenobi",
          "Obi-Wan Kenobi",
          "Obi-Wan Kenobi",
          "Obi-Wan Kenobi",
          "Obi-Wan Kenobi",
          "Obi-Wan Kenobi",
          "Obi-Wan Kenobi",
          "Obi-Wan Kenobi",
          "Obi-Wan Kenobi",
          "Obi-Wan Kenobi",
          "Obi-Wan Kenobi",
          "Obi-Wan Kenobi",
          "Obi-Wan Kenobi",
          "Obi-Wan Kenobi",
          "Obi-Wan Kenobi",
          "Obi-Wan Kenobi",
          "Obi-Wan Kenobi",
          "Obi-Wan Kenobi",
          "Obi-Wan Kenobi",
          "Obi-Wan Kenobi",
          "Obi-Wan Kenobi",
          "Obi-Wan Kenobi",
          "Obi-Wan Kenobi",
          "Obi-Wan Kenobi",
          "Obi-Wan Kenobi",
          "Obi-Wan Kenobi",
          "Obi-Wan Kenobi",
          "Obi-Wan Kenobi",
          "Obi-Wan Kenobi",
          "Obi-Wan Kenobi",
          "Obi-Wan Kenobi",
          "Obi-Wan Kenobi",
          "Obi-Wan Kenobi",
          "Obi-Wan Kenobi",
          "Obi-Wan Kenobi",
          "Obi-Wan Kenobi",
          "Obi-Wan Kenobi",
          "Obi-Wan Kenobi",
          "Obi-Wan Kenobi",
          "Obi-Wan Kenobi",
          "Obi-Wan Kenobi",
          "Obi-Wan Kenobi",
          "Obi-Wan Kenobi",
          "Obi-Wan Kenobi",
          "Obi-Wan Kenobi",
          "Obi-Wan Kenobi",
          "Obi-Wan Kenobi",
          "Obi-Wan Kenobi",
          "Obi-Wan Kenobi",
          "Obi-Wan Kenobi",
          "Obi-Wan Kenobi",
          "Obi-Wan Kenobi",
          "Obi-Wan Kenobi",
          "Obi-Wan Kenobi",
          "Obi-Wan Kenobi",
          "Obi-Wan Kenobi",
          "Obi-Wan Kenobi",
          "Obi-Wan Kenobi",
          "Obi-Wan Kenobi",
          "Obi-Wan Kenobi",
          "Obi-Wan Kenobi",
          "Obi-Wan Kenobi",
          "Obi-Wan Kenobi",
          "Obi-Wan Kenobi",
          "Obi-Wan Kenobi",
          "Obi-Wan Kenobi",
          "Obi-Wan Kenobi",
          "Obi-Wan Kenobi",
          "Obi-Wan Kenobi",
          "Obi-Wan Kenobi",
          "Obi-Wan Kenobi",
          "Obi-Wan Kenobi",
          "Obi-Wan Kenobi",
          "Obi-Wan Kenobi",
          "Obi-Wan Kenobi",
          "Obi-Wan Kenobi",
          "Obi-Wan Kenobi",
          "Obi-Wan Kenobi",
          "Obi-Wan Kenobi",
          "Obi-Wan Kenobi",
          "Obi-Wan Kenobi",
          "Obi-Wan Kenobi",
          "Obi-Wan Kenobi",
          "Obi-Wan Kenobi",
          "Obi-Wan Kenobi",
          "Obi-Wan Kenobi",
          "Obi-Wan Kenobi",
          "Obi-Wan Kenobi",
          "Obi-Wan Kenobi",
          "Obi-Wan Kenobi",
          "Obi-Wan Kenobi",
          "Obi-Wan Kenobi",
          "Obi-Wan Kenobi",
          "Obi-Wan Kenobi",
          "Obi-Wan Kenobi",
          "Obi-Wan Kenobi",
          "Obi-Wan Kenobi",
          "Obi-Wan Kenobi",
          "Obi-Wan Kenobi",
          "Obi-Wan Kenobi",
          "Obi-Wan Kenobi",
          "Obi-Wan Kenobi",
          "Obi-Wan Kenobi",
          "Obi-Wan Kenobi",
          "Obi-Wan Kenobi",
          "Obi-Wan Kenobi",
          "Obi-Wan Kenobi",
          "Obi-Wan Kenobi",
          "Obi-Wan Kenobi",
          "Obi-Wan Kenobi",
          "Obi-Wan Kenobi",
          "Obi-Wan Kenobi",
          "Obi-Wan Kenobi",
          "Obi-Wan Kenobi",
          "Obi-Wan Kenobi",
          "Obi-Wan Kenobi",
          "Obi-Wan Kenobi",
          "Obi-Wan Kenobi",
          "Obi-Wan Kenobi",
          "Obi-Wan Kenobi",
          "Obi-Wan Kenobi",
          "Obi-Wan Kenobi",
          "Obi-Wan Kenobi",
          "Obi-Wan Kenobi",
          "Obi-Wan Kenobi",
          "Obi-Wan Kenobi",
          "Obi-Wan Kenobi",
          "Obi-Wan Kenobi",
          "Obi-Wan Kenobi",
          "Obi-Wan Kenobi",
          "Obi-Wan Kenobi",
          "Obi-Wan Kenobi",
          "Obi-Wan Kenobi",
          "Obi-Wan Kenobi",
          "Obi-Wan Kenobi",
          "Obi-Wan Kenobi",
          "Obi-Wan Kenobi",
          "Obi-Wan Kenobi",
          "Obi-Wan Kenobi",
          "Obi-Wan Kenobi",
          "Obi-Wan Kenobi",
          "Obi-Wan Kenobi",
          "Obi-Wan Kenobi",
          "Obi-Wan Kenobi",
          "Obi-Wan Kenobi",
          "Obi-Wan Kenobi",
          "Obi-Wan Kenobi",
          "Obi-Wan Kenobi",
          "Obi-Wan Kenobi",
          "Obi-Wan Kenobi",
          "Obi-Wan Kenobi",
          "Obi-Wan Kenobi",
          "Obi-Wan Kenobi",
          "Obi-Wan Kenobi",
          "Obi-Wan Kenobi",
          "Obi-Wan Kenobi",
          "Obi-Wan Kenobi",
          "Obi-Wan Kenobi",
          "Obi-Wan Kenobi",
          "Obi-Wan Kenobi",
          "Obi-Wan Kenobi",
          "Obi-Wan Kenobi",
          "Obi-Wan Kenobi",
          "Obi-Wan Kenobi",
          "Obi-Wan Kenobi",
          "Obi-Wan Kenobi",
          "Obi-Wan Kenobi",
          "Obi-Wan Kenobi",
          "Obi-Wan Kenobi",
          "Obi-Wan Kenobi",
          "Obi-Wan Kenobi",
          "Obi-Wan Kenobi",
          "Obi-Wan Kenobi",
          "Obi-Wan Kenobi",
          "Obi-Wan Kenobi",
          "Obi-Wan Kenobi",
          "Obi-Wan Kenobi",
          "Obi-Wan Kenobi",
          "Obi-Wan Kenobi",
          "Obi-Wan Kenobi",
          "Obi-Wan Kenobi",
          "Obi-Wan Kenobi",
          "Obi-Wan Kenobi",
          "Obi-Wan Kenobi",
          "Obi-Wan Kenobi",
          "Obi-Wan Kenobi",
          "Obi-Wan Kenobi",
          "Obi-Wan Kenobi",
          "Obi-Wan Kenobi",
          "Obi-Wan Kenobi",
          "Obi-Wan Kenobi",
          "Obi-Wan Kenobi",
          "Obi-Wan Kenobi",
          "Obi-Wan Kenobi",
          "Obi-Wan Kenobi",
          "Obi-Wan Kenobi",
          "Obi-Wan Kenobi",
          "Obi-Wan Kenobi",
          "Obi-Wan Kenobi",
          "Obi-Wan Kenobi",
          "Obi-Wan Kenobi",
          "Obi-Wan Kenobi",
          "Obi-Wan Kenobi",
          "Obi-Wan Kenobi",
          "Obi-Wan Kenobi",
          "Obi-Wan Kenobi",
          "Obi-Wan Kenobi",
          "Obi-Wan Kenobi",
          "Obi-Wan Kenobi",
          "Obi-Wan Kenobi",
          "Obi-Wan Kenobi",
          "Obi-Wan Kenobi",
          "Obi-Wan Kenobi",
          "Obi-Wan Kenobi",
          "Obi-Wan Kenobi",
          "Obi-Wan Kenobi",
          "Obi-Wan Kenobi",
          "Obi-Wan Kenobi",
          "Obi-Wan Kenobi",
          "Obi-Wan Kenobi",
          "Obi-Wan Kenobi",
          "Obi-Wan Kenobi",
          "Obi-Wan Kenobi",
          "Obi-Wan Kenobi",
          "Obi-Wan Kenobi",
          "Obi-Wan Kenobi",
          "Obi-Wan Kenobi",
          "Obi-Wan Kenobi",
          "Obi-Wan Kenobi",
          "Obi-Wan Kenobi",
          "Obi-Wan Kenobi",
          "Obi-Wan Kenobi",
          "Obi-Wan Kenobi",
          "Obi-Wan Kenobi",
          "Obi-Wan Kenobi",
          "Obi-Wan Kenobi",
          "Obi-Wan Kenobi",
          "Obi-Wan Kenobi",
          "Obi-Wan Kenobi",
          "Obi-Wan Kenobi",
          "Obi-Wan Kenobi",
          "Obi-Wan Kenobi",
          "Obi-Wan Kenobi",
          "Obi-Wan Kenobi",
          "Obi-Wan Kenobi",
          "Obi-Wan Kenobi",
          "Obi-Wan Kenobi",
          "Obi-Wan Kenobi",
          "Obi-Wan Kenobi",
          "Obi-Wan Kenobi",
          "Obi-Wan Kenobi",
          "Obi-Wan Kenobi",
          "Obi-Wan Kenobi",
          "Obi-Wan Kenobi",
          "Obi-Wan Kenobi",
          "Obi-Wan Kenobi",
          "Obi-Wan Kenobi",
          "Obi-Wan Kenobi",
          "Obi-Wan Kenobi",
          "Obi-Wan Kenobi",
          "Obi-Wan Kenobi",
          "Obi-Wan Kenobi",
          "Obi-Wan Kenobi",
          "Obi-Wan Kenobi",
          "Obi-Wan Kenobi",
          "Obi-Wan Kenobi",
          "Obi-Wan Kenobi",
          "Obi-Wan Kenobi",
          "Obi-Wan Kenobi",
          "Obi-Wan Kenobi",
          "Obi-Wan Kenobi",
          "Obi-Wan Kenobi",
          "Obi-Wan Kenobi",
          "Obi-Wan Kenobi",
          "Obi-Wan Kenobi",
          "Obi-Wan Kenobi",
          "Obi-Wan Kenobi",
          "Obi-Wan Kenobi",
          "Obi-Wan Kenobi",
          "Obi-Wan Kenobi",
          "Obi-Wan Kenobi",
          "Obi-Wan Kenobi",
          "Obi-Wan Kenobi",
          "Obi-Wan Kenobi",
          "Obi-Wan Kenobi",
          "Obi-Wan Kenobi",
          "Obi-Wan Kenobi",
          "Obi-Wan Kenobi",
          "Obi-Wan Kenobi",
          "Obi-Wan Kenobi",
          "Obi-Wan Kenobi",
          "Obi-Wan Kenobi",
          "Obi-Wan Kenobi",
          "Obi-Wan Kenobi",
          "Obi-Wan Kenobi",
          "Obi-Wan Kenobi",
          "Obi-Wan Kenobi",
          "Obi-Wan Kenobi",
          "Obi-Wan Kenobi",
          "Obi-Wan Kenobi",
          "Obi-Wan Kenobi",
          "Obi-Wan Kenobi",
          "Obi-Wan Kenobi",
          "Obi-Wan Kenobi",
          "Obi-Wan Kenobi",
          "Obi-Wan Kenobi",
          "Obi-Wan Kenobi",
          "Obi-Wan Kenobi",
          "Obi-Wan Kenobi",
          "Obi-Wan Kenobi",
          "Obi-Wan Kenobi",
          "Obi-Wan Kenobi",
          "Obi-Wan Kenobi",
          "Obi-Wan Kenobi",
          "Obi-Wan Kenobi"
         ],
         "x0": " ",
         "xaxis": "x",
         "y": {
          "bdata": "1E1iEFg51D/gpZvEILCyPxiDwMqhRba/CCuHFtnOtz9A30+Nl26Cv1AMAiuHFqk/PN9PjZdu0r8YBFYOLbK9P6AehetRuJ4/cD0K16Nw1T/o+6nx0k3iP+DO91PjpZu/+FPjpZvE4D+c76fGSzfJP/7UeOkmMdg/gBSuR+F6pL9Y46WbxCCwv1g5tMh2vtc/9NJNYhBY2T9I4XoUrkfBv6BwPQrXo8C/1E1iEFg5xL/wp8ZLN4nhP24Sg8DKodU/MFyPwvUorD/wJjEIrByqvzzfT42XbuI/wEkMAiuHpr91kxgEVg7hv7Sd76fGS8c/CKwcWmQ7vz80MzMzMzPDPwzXo3A9Ctc/ILByaJHtvD9MYhBYObTIP2ZmZmZmZt4/GC/dJAaBtb/Adr6fGi+tvx6F61G4HuE/gJVDi2znuz9kO99PjZfWPxCsHFpkO68/ukkMAiuH3j/ASQwCK4eGP6ZwPQrXo9C/+P3UeOkmsT9WDi2yne/nP7AcWmQ738+/TmIQWDm00L/UeOkmMQjcP0DfT42XbpI/XrpJDAIr1z8Af2q8dJN4v8D1KFyPwrU/pEW28/3UyL9gke18PzWuv0oMAiuHFtE/KDEIrBxaxD+wSQwCK4emv1gOLbKd79e/VuOlm8Qg0L9svHSTGATGP4hBYOXQIss/CIGVQ4tsxz8830+Nl27SP+B6FK5H4bq/GQRWDi2y4T8Y2c73U+PdPwDVeOkmMcg/gBSuR+F6hL/EILByaJHdP0Bg5dAi29E/MDMzMzMzwz+wne+nxku3vyBcj8L1KLw/ZmZmZmZm1j8yCKwcWmTTv7bz/dR46eo/gH5qvHSTeD/YzvdT46XbP2AUrkfhepS/ANejcD0Kpz9gukkMAivHv7gehetRuL4/gJVDi2znyz+YxCCwcmixPxCDwMqhRbY/AKrx0k1iUL+oRbbz/dS4v+DO91Pjpau/KFyPwvUozD+YbhKDwMrBv0S28/3UeMm/jZduEoPA4j+gmZmZmZmpP1pkO99Pjdc/nO+nxks3yT8KrBxaZDvXP8T1KFyPwtU/sHJoke18vz9ACtejcD3KP8B0kxgEVs6/4E+Nl24S079ovHSTGATGv+j7qfHSTdI/5KWbxCCw2j8EgZVDi2zXP+58PzVeutk//Knx0k1i2D/y0k1iEFjRPwB/arx0k6i/rkfhehSu1z8lBoGVQ4vkP5qZmZmZmdk/xMqhRbbzzb8AqvHSTWJwP4xs5/up8dI/qJvEILBy2D8oMQisHFrUP9ajcD0K19s/jGzn+6nx2r90PQrXo3DNv9JNYhBYOdw/mG4Sg8DKwb84tMh2vp+6P8QgsHJokd0/imzn+6nx0j8K16NwPQrfP8AehetRuJ6/hxbZzvdT4z85tMh2vp/mP9B2vp8aL60/CKwcWmQ7v7/QzvdT46Wrv5iZmZmZmbk/0PdT46Wb6D/6fmq8dJPQPyKwcmiR7dy/8KfGSzeJwT9UuB6F61HQv8L1KFyPwuE/PArXo3A9yj9ABFYOLbKdvzQzMzMzM8M/EKwcWmQ7vz/ipZvEILDSvwQrhxbZzsc/4E+Nl24S4z/oJjEIrBzSv7ByaJHtfOM/kJmZmZmZqT/gT42XbhLTP0DpJjEIrIw/qPHSTWIQyD+YbhKDwMrRP3e+nxov3eA/AAAAAAAAAACIFtnO91PTP1TjpZvEIMC/mJmZmZmZuT+QmZmZmZmpP/B+arx0k6g/1XjpJjEI4D8Af2q8dJOYvxgv3SQGgbU/gBSuR+F6pD/Q91PjpZvEv8CfGi/dJMa/oEW28/3UyD92vp8aL93UP8/3U+Olm+A/HIXrUbgexT9QObTIdr6/v8DKoUW2872/aBBYObTItj86tMh2vp/aP3CR7Xw/Na4//tR46SYx0D/AHoXrUbiuP3Q9CtejcN0/KDEIrBxaxD/+1HjpJjHYP0oMAiuHFtE/gOkmMQisfL8QBFYOLbKtvyuHFtnO9+M/aJHtfD81vj+4dJMYBFbOPwDXo3A9Cqe/gBSuR+F6hD+AlUOLbOe7PwAAAAAAANA/GARWDi2yvb8A6SYxCKx8vzIzMzMzM9M/gBSuR+F6lD+cxCCwcmjBv8yhRbbz/cS/FtnO91Pj1T+9dJMYBFbiP2RmZmZmZsa/+Chcj8L1yD84iUFg5dDCvxjZzvdT49U/AARWDi2ynT9ANV66SQzCP1A5tMh2vq+/7CYxCKwcyj/AHoXrUbiOv8T1KFyPwsU/wKnx0k1igL/gJAaBlUPLv5gYBFYOLcK/eBSuR+F6tD/qJjEIrBzSP3I9CtejcN0/tvP91Hjp1j/Yo3A9CtfDvyCwcmiR7cw/GC/dJAaBxT/iehSuR+HmP+D5fmq8dKM/KIcW2c73sz9IN4lBYOWwvzjfT42XbrK/EFg5tMh2zj8aL90kBoHVv5DtfD81Xro/cj0K16Nw1b/gzvdT46W7P6AaL90kBsE/1njpJjEI1L+w8dJNYhC4P0g3iUFg5bA/DNejcD0K1z/QoUW28/20P/hT46WbxNC/9v3UeOkm2T+Q7Xw/NV66P9wkBoGVQ8u/gJVDi2znu780MzMzMzPTP2Dl0CLb+b4/okW28/3U2L90aJHtfD/VP1TjpZvEIOA/Ot9PjZdu2j9gZDvfT423PyiHFtnO97M/qvHSTWIQ0D9Ei2zn+6nZP8BJDAIrh7Y/ULgehetRyL8AqvHSTWKQv3A9CtejcM0/gBSuR+F6tL/YTWIQWDnEv6abxCCwctg/9P3UeOkm0T/gehSuR+HSv5huEoPAysE/PjVeukkM0j8AqvHSTWJgP0DfT42XbpI/wMqhRbbzvT+S7Xw/NV7mP3A9CtejcN0/Nl66SQwC0z88CtejcD3Kv4DpJjEIrIy/AH5qvHSTaD8fhetRuB7lPxwv3SQGgcW/3CQGgZVDy7+QbOf7qfGyv6hFtvP91Li/aLx0kxgEtj88CtejcD3KPwAAAAAAANC/WGQ730+Ntz+UQ4ts5/vZP5huEoPAytE/dL6fGi/dxL/Xo3A9CtfnPxgv3SQGgcW/6CYxCKwcyj8kBoGVQ4vMPzQIrBxaZMs/pEW28/3UyD+AFK5H4Xq0P5ZDi2zn+9G/TDeJQWDl0D/qJjEIrBzSP2A5tMh2vr8/KFyPwvUozL8QrBxaZDuvPzAIrBxaZMs/a7x0kxgE4j+Aarx0kxjEP4AUrkfheoS/qPHSTWIQyL/oUbgeheuxP6RwPQrXo8C/LLKd76fG0z+gxCCwcmixv9DO91Pjpas/5NAi2/l+yr8gBFYOLbK9P0SLbOf7qcE/LIcW2c73w78g2/l+ary0v9B2vp8aL62/cLx0kxgExj8w3SQGgZXDP5/vp8ZLN+E/YOXQItv5zj+AlUOLbOe7v4C0yHa+n4q/AKrx0k1iYL8MAiuHFtniP1A3iUFg5bC/TGIQWDm02D8gBFYOLbKtv3w/NV66Scw/ULgehetRuD/gehSuR+G6P/hT46WbxNA/QDVeukkMwr+AFK5H4Xp0v8hLN4lBYMU/QIts5/upsT/8qfHSTWLAP0S28/3UeMk/+FPjpZvE2D9Ii2zn+6mxv0a28/3UeOU/PN9PjZdu0r8shxbZzvfDP/QoXI/C9ci/QDVeukkMwr+Aarx0kxjEP7hJDAIrh7Y/iEFg5dAiy7+IQWDl0CLLP7ByaJHtfM8/dJMYBFYOzb/40k1iEFi5vyAv3SQGgaW/EKwcWmQ7rz80XrpJDALLP46XbhKDwNo/Rrbz/dR40b9oke18PzXOv8BJDAIrh4a/UOOlm8QgwD9QjZduEoPgP4CVQ4ts59s/rPHSTWIQ0L+sHFpkO9/XP6abxCCwcuS/ULgehetRyD9Ei2zn+6nBP3i+nxov3dQ/OIlBYOXQ2j8w30+Nl26iP0oMAiuHFtk/ZDvfT42X3j8AqvHSTWKAPwCq8dJNYlC/gGq8dJMYxD+gmZmZmZm5P3hoke18P8U/wB6F61G4rj8NAiuHFtnmv2RmZmZmZtY/vB6F61G4zj9+PzVeuknUP3Dn+6nx0s0/mpmZmZmZ4T8wCKwcWmTLv+B6FK5H4bo/kEFg5dAiq7+4SQwCK4e2PwB/arx0k4i/6Pup8dJNwj8Sg8DKoUXWP6DEILByaJE/8KfGSzeJwb8830+Nl27CP3jpJjEIrLw/sJ3vp8ZLt7/EILByaJHNPzAIrBxaZNM/CKwcWmQ71z+A6SYxCKyMv0S28/3UeMk/YDm0yHa+vz/AFK5H4XqEvxSuR+F6FN4/AH9qvHSTiD/gJAaBlUPLPyQxCKwcWsQ/4E+Nl24Sw794FK5H4Xq0v9DO91Pjpau/QLTIdr6fir+s8dJNYhDYP3a+nxov3dw/Qots5/up0b+UGARWDi3av7ByaJHtfN8/lO18PzVe0j/gehSuR+G6v6AaL90kBuU/7FG4HoXr0T/ASQwCK4e2v/h+arx0k8g/FK5H4XoUzr/wp8ZLN4nRP3xqvHSTGMS/ILByaJHtzD94vp8aL93Ev4DEILByaJG/0PdT46Wb1D9QZDvfT42nP8D1KFyPwrW/gGq8dJMY3D9QDAIrhxa5P4gW2c73U8M/UOOlm8QgwL+4SQwCK4e2vzC0yHa+n6o/Nl66SQwC2z+pxks3iUHgP7Cd76fGS7c/Rots5/up0T8qXI/C9SjUP3jpJjEIrMw/bxKDwMqh4T8gL90kBoGlv+DO91Pjpbs/IIcW2c73oz9OYhBYObTYv3CR7Xw/Na6/gLTIdr6fir+G61G4HoXTP0A5tMh2vp8/Gi/dJAaB5T+AFK5H4Xp0P+Slm8QgsNK/EFg5tMh2vr82iUFg5dDSP27n+6nx0t0/dD0K16NwzT9IDAIrhxbJP4CVQ4ts59s/8KfGSzeJ4T9AtMh2vp+av+h6FK5H4bo/wHa+nxovvb8ohxbZzvezP4yXbhKDwMo/kGzn+6nxsj/D9Shcj8LlP7gehetRuOI/MN0kBoGV0z8CK4cW2c7nP1A3iUFg5aA/DC2yne+nxj+AwMqhRbazP9V46SYxCOQ/8CYxCKwcqr+MQWDl0CLLP1A3iUFg5bA/+Knx0k1isD9gukkMAivHv8uhRbbz/eA/PgrXo3A90j+wcmiR7XznP4DEILByaJG/ILByaJHtvD8AqvHSTWJwPyyHFtnO99M/XI/C9Shc3792kxgEVg7VP5huEoPAyuU/AKrx0k1ikD/Q91PjpZvEv+alm8QgsNo/wOkmMQisjL9cj8L1KFzXP+omMQisHNI/cGiR7Xw/tb9AYOXQItu5vwCsHFpkO68/SDeJQWDlsD/g+X5qvHSzPzzfT42XbtK/ANejcD0Ktz/GILByaJHVPwB/arx0k7g/4noUrkfh0j+QQWDl0CKrvyCF61G4Ht0/cD0K16Nwvb/QoUW28/2kvwB/arx0k7g/UrgehetR6D9gZDvfT42nP3e+nxov3eA/yMqhRbbzvb8YBFYOLbLNPwiBlUOLbNc/IARWDi2ynb/AyqFFtvPNP+jQItv5fsq/QH9qvHSTiL8usp3vp8bbv0Bg5dAi27k/gB6F61G4jj9QZDvfT42nPzzfT42XbtI/AC/dJAaBlb/w/dR46Saxv5jEILByaLE/tvP91Hjp1r9cZDvfT43HP/BRuB6F67G/KIcW2c73wz8ohxbZzvfDP3zpJjEIrMw/jBbZzvdTwz+YQ4ts5/vJv/DSTWIQWNk/iBbZzvdTw79waJHtfD+1PwqsHFpkO98/4Pl+arx0s78cL90kBoHFP4cW2c73U+M/oMQgsHJokT8QLbKd76fGvxSuR+F6FN4/tJ3vp8ZLxz8wMzMzMzOzvwAAAAAAANA/3Pl+arx00z9QObTIdr6vP6zx0k1iENg/RIts5/up2T8oBoGVQ4vMv/hT46WbxOA/4CQGgZVDyz88CtejcD3KP1BkO99Pjbc/gMDKoUW2sz9QjZduEoPAvyTb+X5qvNQ/AKjx0k1iUL+cxCCwcmjBv7x0kxgEVs4/wKFFtvP9tD/IyqFFtvO9v9BNYhBYOcS/iEFg5dAiyz/YzvdT46W7P/l+arx0k+C/qJvEILBy0D/4/dR46SaxP1A3iUFg5bA/rkfhehSu1z+IFtnO91PbP4BBYOXQIqs/IARWDi2ynT9SuB6F61HYPzC0yHa+n6q/JAaBlUOL1D98PzVeuknMvzIzMzMzM9M/HFpkO99P3T94vp8aL93EP3Joke18P90/wMqhRbbzzb+Aarx0kxjUPzBcj8L1KKy/QDVeukkM0j/wUbgehevBP6ibxCCwcsg/QDVeukkMwj+gGi/dJAbBv0S28/3UeMm/AKwcWmQ7r78AqvHSTWJQv3a+nxov3dQ/tPP91Hjpxj8mMQisHFrUPyjb+X5qvMS/8NJNYhBYuT/YeOkmMQjMP8h2vp8aL90/EFg5tMh2zj8wsp3vp8bLP6AaL90kBtE/aJHtfD81vj+IFtnO91PbP1CNl24Sg9A/3k+Nl24S078ArBxaZDuvP5LtfD81XtI/lBgEVg4t2j88CtejcD3SPyKwcmiR7dQ/4E+Nl24Swz+A30+Nl26Cv4BBYOXQIrs/ZBBYObTIxr/EILByaJHVPy7dJAaBlds/QIcW2c73oz+QmZmZmZmpPzAzMzMzM7O/rBxaZDvfzz90kxgEVg7VvwCp8dJNYmC/3SQGgZVD5z86tMh2vp/Sv5QYBFYOLcI/iEFg5dAiuz+AQWDl0CKrP9h46SYxCMw/kEFg5dAiu7+AFK5H4XqkP6rx0k1iENA/+H5qvHSTyL8AAAAAAADAP0DfT42XbrI//Knx0k1iwL8YBFYOLbK9v6jx0k1iEMg/MAisHFpk0z/M91PjpZvEv5iZmZmZmck/4KWbxCCwsr8gWmQ730/NPwQrhxbZzsc/vEkMAiuH1j/g+X5qvHSjv6rx0k1iEOA/MDMzMzMzs78EVg4tsp3PP5iZmZmZmbk/ke18PzVe5j/kpZvEILDSP3gUrkfhesS/BoGVQ4ts3z8AqvHSTWKgv4Bs5/up8aK/8H5qvHSTqL9oke18PzXeP1TjpZvEIMA/sHJoke1837/4fmq8dJO4P8D5fmq8dJM/rBxaZDvf1z8qhxbZzvfTP6jGSzeJQcA/zMzMzMzM3L9g5dAi2/nWP/HSTWIQWOU/iBbZzvdT0z9gEFg5tMjGP6CZmZmZmak/hOtRuB6Fyz/2KFyPwvXYP5RDi2zn+8k/gBSuR+F6lL8ghetRuB7VP8h2vp8aL9W/vEkMAiuH1j9gukkMAivHv5duEoPAyuE/gBSuR+F6hL9YObTIdr7PPwAAAAAAANg/DAIrhxbZ3j/gzvdT46W7v/7UeOkmMeC/4M73U+Olqz+IbOf7qfGyv4DfT42XboK/rkfhehSu1z9ItvP91HjJPyDfT42XbpK/oEW28/3UuL98FK5H4XrEv5DtfD81Xso/BIGVQ4tsxz9KDAIrhxbRP166SQwCK98/GK5H4XoUzr9gEFg5tMjWP9ChRbbz/aQ/RIts5/upwb+MbOf7qfHSP8h2vp8aL70//Knx0k1i2D8gL90kBoGVP/T91HjpJuG/4qWbxCCw0r+oxks3iUHQP6DEILByaJE/TmIQWDm00L8ghetRuB7dvzDfT42XbqK/0CLb+X5q1D9Ei2zn+6nZPzDdJAaBldO/SAwCK4cWyT+QxCCwcmihv0jhehSuR8G/pHA9CtejwL8WrkfhehTeP0Jg5dAi29k/Rrbz/dR40T9QZDvfT42nv7AehetRuK4/kEFg5dAiqz9KDAIrhxbZP87MzMzMzNw/RIts5/upwb8YL90kBoHFP7x0kxgEVt4/hBbZzvdTwz/A+X5qvHSTP9z5fmq8dNO/ULgehetRuD8AqvHSTWJgv9JNYhBYOdQ/+FPjpZvE0L++nxov3STWv3sUrkfheuC/KFyPwvUovL+8yqFFtvPNP5LtfD81Xu4/gJVDi2znyz/w/dR46SaxP/T91HjpJsG/dL6fGi/dxD8oMQisHFrUPxgEVg4tstU/7FG4HoXr2T+0yHa+nxrPv9Ai2/l+ary/apHtfD813j8AqvHSTWKgP0jhehSuR9E/IARWDi2ynT9Ii2zn+6mxv1g5tMh2vs8/tMh2vp8azz/wp8ZLN4nRPySwcmiR7cw/SgwCK4cW4T8QWDm0yHbOP+xRuB6F6+E/iEFg5dAiyz9I4XoUrkfBv4AUrkfherQ/XLpJDAIrx7+MbOf7qfHCPziJQWDl0MI/GC/dJAaBtT9AObTIdr6fv5zvp8ZLN8k/0CLb+X5qvL+Aarx0kxjUPzAzMzMzM7M/2s73U+Ol0z/QItv5fmq8v3A9CtejcL0/NolBYOXQ0r+0ne+nxkvHPxAtsp3vp94/4CQGgZVDy79oO99PjZfOP6bGSzeJQdg/GC/dJAaBxT9kEFg5tMjeP9Ai2/l+ary/SAwCK4cW0T8AAAAAAADgv4DpJjEIrJw/JAaBlUOLzD/opZvEILDCP4DpJjEIrHw/hhbZzvdT2z9s5/up8dLNv4cW2c73U+O/nMQgsHJo0b9uEoPAyqHlP/yp8dJNYtA/9ihcj8L14D+c76fGSzfJP4brUbgehds/aBBYObTItj+Q7Xw/NV7KP8B0kxgEVs4/gBSuR+F6lL9gukkMAivHPxxaZDvfT80/NV66SQwC579UuB6F61HIP/hT46WbxNA/gMDKoUW2sz+8dJMYBFbOP/DSTWIQWMk/QLTIdr6fqj9KDAIrhxbRP4DpJjEIrIw/MQisHFpk4z+QGARWDi2yv+AmMQisHLo/qMZLN4lBwD/q+6nx0k3Sv8l2vp8aL+E/yKFFtvP9tD/AyqFFtvO9v+Slm8QgsNq/9P3UeOkm2T9EYOXQItvJP6AaL90kBtk/eD0K16Nwvb/ASQwCK4eWv4gW2c73U9M/ILByaJHt1D8mMQisHFrUP+B6FK5H4dI/kEFg5dAiuz+IFtnO91PbP4Bs5/up8aI/QN9PjZduwj8AqvHSTWKAv7Tz/dR46ca/8NJNYhBYyT8W2c73U+Pdv+Slm8QgsOI/BFYOLbKdzz/0/dR46SbBv1jjpZvEILC/TGIQWDm0yD9QObTIdr6vP+j7qfHSTcI/0iLb+X5q3D9AN4lBYOWgv0a28/3UeNG/6FG4HoXrwT/o+6nx0k3aP0a28/3UeNE/GC/dJAaBxb+iRbbz/dTQP1hkO99Pjbe/KNv5fmq8tD9MN4lBYOXQP4xs5/up8do/mG4Sg8DKwb/UTWIQWDnUPyDfT42XbpK/KIcW2c73wz/00k1iEFjJP+BJDAIrh5Y/mJmZmZmZ0T94PQrXo3C9P8zMzMzMzMw/mJmZmZmZyT+A6SYxCKycP2hmZmZmZt4/kO18PzVeyj9YObTIdr7XP1A3iUFg5cC/8FG4HoXroT/a+X5qvHTjP2hmZmZmZsa/GC/dJAaBtT+nxks3iUHgP/ip8dJNYsA/mG4Sg8DK0b8Qg8DKoUW2P0SLbOf7qdk/sB6F61G4rj/MzMzMzMzcP8p2vp8aL90/UI2XbhKD0D96FK5H4XrUP0AMAiuHFrk/EK5H4XoUzj9ANV66SQzCv4TAyqFFtsO/LIcW2c73w7+d76fGSzfhvyTb+X5qvNS/3Pl+arx0wz8AqvHSTWKQPwQrhxbZzse/GC/dJAaBtb/4U+Olm8TQPwB/arx0k5i/gpVDi2zn4z9EtvP91HjJPxQEVg4tss0/hMDKoUW2wz/gJjEIrByqPwDpJjEIrHy/m8QgsHJo4T9dj8L1KFzjP5jtfD81Xrq/mEOLbOf70T8gL90kBoGVP/TSTWIQWMm/UDeJQWDloD+YQ4ts5/vJP2ZmZmZmZt4/4HoUrkfhuj8wXI/C9Si8v1AMAiuHFrm/ULgehetRyL8AqvHSTWKAv/B8PzVeusm/oMQgsHJooT+AFK5H4Xp0v57vp8ZLN9k/6Pup8dJN2j8AqvHSTWKgvwDVeOkmMdA/8KfGSzeJwb8YBFYOLbK9PwCq8dJNYmC/PN9PjZdu0j9cj8L1KFzPP57vp8ZLN9E/mMQgsHJowb/wp8ZLN4nhP3hoke18P7W/lkOLbOf74T90aJHtfD/FP9j5fmq8dLM/0KFFtvP9pL+gHoXrUbievz4K16NwPeI/2E1iEFg5tL8kBoGVQ4vMP8B0kxgEVs4/AKrx0k1ikD+E61G4HoXTvyqHFtnO99M/aJHtfD81vj+AxCCwcmiRPyQGgZVDi8w/+H5qvHSTuD9YDi2yne/Hv/DSTWIQWMk/6NAi2/l+yj+gHoXrUbievyCwcmiR7cw/QGDl0CLbub/Idr6fGi/NP1CNl24Sg8A/gN9PjZdugr+UGARWDi3SP/ZT46WbxNC/dL6fGi/dxD/Y+X5qvHSzv6RwPQrXo9C/CKwcWmQ7vz8=",
          "dtype": "f8"
         },
         "y0": " ",
         "yaxis": "y"
        },
        {
         "alignmentgroup": "True",
         "hovertemplate": "Surgeon=%{x}<br>Improvement Score=%{y}<extra></extra>",
         "legendgroup": "Padme Amidala",
         "marker": {
          "color": "#FFA15A"
         },
         "name": "Padme Amidala",
         "notched": false,
         "offsetgroup": "Padme Amidala",
         "orientation": "v",
         "showlegend": true,
         "type": "box",
         "x": [
          "Padme Amidala",
          "Padme Amidala",
          "Padme Amidala",
          "Padme Amidala",
          "Padme Amidala",
          "Padme Amidala",
          "Padme Amidala",
          "Padme Amidala",
          "Padme Amidala",
          "Padme Amidala",
          "Padme Amidala",
          "Padme Amidala",
          "Padme Amidala",
          "Padme Amidala",
          "Padme Amidala",
          "Padme Amidala",
          "Padme Amidala",
          "Padme Amidala",
          "Padme Amidala",
          "Padme Amidala",
          "Padme Amidala",
          "Padme Amidala",
          "Padme Amidala",
          "Padme Amidala",
          "Padme Amidala",
          "Padme Amidala",
          "Padme Amidala",
          "Padme Amidala",
          "Padme Amidala",
          "Padme Amidala",
          "Padme Amidala",
          "Padme Amidala",
          "Padme Amidala",
          "Padme Amidala",
          "Padme Amidala",
          "Padme Amidala",
          "Padme Amidala",
          "Padme Amidala",
          "Padme Amidala",
          "Padme Amidala",
          "Padme Amidala",
          "Padme Amidala",
          "Padme Amidala",
          "Padme Amidala",
          "Padme Amidala",
          "Padme Amidala",
          "Padme Amidala",
          "Padme Amidala",
          "Padme Amidala",
          "Padme Amidala",
          "Padme Amidala",
          "Padme Amidala",
          "Padme Amidala",
          "Padme Amidala",
          "Padme Amidala",
          "Padme Amidala",
          "Padme Amidala",
          "Padme Amidala",
          "Padme Amidala",
          "Padme Amidala",
          "Padme Amidala",
          "Padme Amidala",
          "Padme Amidala",
          "Padme Amidala",
          "Padme Amidala",
          "Padme Amidala",
          "Padme Amidala",
          "Padme Amidala",
          "Padme Amidala",
          "Padme Amidala",
          "Padme Amidala",
          "Padme Amidala",
          "Padme Amidala",
          "Padme Amidala",
          "Padme Amidala",
          "Padme Amidala",
          "Padme Amidala",
          "Padme Amidala",
          "Padme Amidala",
          "Padme Amidala",
          "Padme Amidala",
          "Padme Amidala",
          "Padme Amidala",
          "Padme Amidala",
          "Padme Amidala",
          "Padme Amidala",
          "Padme Amidala",
          "Padme Amidala",
          "Padme Amidala",
          "Padme Amidala",
          "Padme Amidala",
          "Padme Amidala",
          "Padme Amidala",
          "Padme Amidala",
          "Padme Amidala",
          "Padme Amidala",
          "Padme Amidala",
          "Padme Amidala",
          "Padme Amidala",
          "Padme Amidala",
          "Padme Amidala",
          "Padme Amidala",
          "Padme Amidala",
          "Padme Amidala",
          "Padme Amidala",
          "Padme Amidala",
          "Padme Amidala",
          "Padme Amidala",
          "Padme Amidala",
          "Padme Amidala",
          "Padme Amidala",
          "Padme Amidala",
          "Padme Amidala",
          "Padme Amidala",
          "Padme Amidala",
          "Padme Amidala",
          "Padme Amidala",
          "Padme Amidala",
          "Padme Amidala",
          "Padme Amidala",
          "Padme Amidala",
          "Padme Amidala",
          "Padme Amidala",
          "Padme Amidala",
          "Padme Amidala",
          "Padme Amidala",
          "Padme Amidala",
          "Padme Amidala",
          "Padme Amidala",
          "Padme Amidala",
          "Padme Amidala",
          "Padme Amidala",
          "Padme Amidala",
          "Padme Amidala",
          "Padme Amidala",
          "Padme Amidala",
          "Padme Amidala",
          "Padme Amidala",
          "Padme Amidala",
          "Padme Amidala",
          "Padme Amidala",
          "Padme Amidala",
          "Padme Amidala",
          "Padme Amidala",
          "Padme Amidala",
          "Padme Amidala",
          "Padme Amidala",
          "Padme Amidala",
          "Padme Amidala",
          "Padme Amidala",
          "Padme Amidala",
          "Padme Amidala",
          "Padme Amidala",
          "Padme Amidala",
          "Padme Amidala",
          "Padme Amidala",
          "Padme Amidala",
          "Padme Amidala",
          "Padme Amidala",
          "Padme Amidala",
          "Padme Amidala",
          "Padme Amidala",
          "Padme Amidala",
          "Padme Amidala",
          "Padme Amidala",
          "Padme Amidala",
          "Padme Amidala",
          "Padme Amidala",
          "Padme Amidala",
          "Padme Amidala",
          "Padme Amidala",
          "Padme Amidala",
          "Padme Amidala",
          "Padme Amidala",
          "Padme Amidala",
          "Padme Amidala",
          "Padme Amidala",
          "Padme Amidala",
          "Padme Amidala",
          "Padme Amidala",
          "Padme Amidala",
          "Padme Amidala",
          "Padme Amidala",
          "Padme Amidala",
          "Padme Amidala",
          "Padme Amidala",
          "Padme Amidala",
          "Padme Amidala",
          "Padme Amidala",
          "Padme Amidala",
          "Padme Amidala",
          "Padme Amidala",
          "Padme Amidala",
          "Padme Amidala",
          "Padme Amidala",
          "Padme Amidala",
          "Padme Amidala",
          "Padme Amidala",
          "Padme Amidala",
          "Padme Amidala",
          "Padme Amidala",
          "Padme Amidala",
          "Padme Amidala",
          "Padme Amidala",
          "Padme Amidala",
          "Padme Amidala",
          "Padme Amidala",
          "Padme Amidala",
          "Padme Amidala",
          "Padme Amidala",
          "Padme Amidala",
          "Padme Amidala",
          "Padme Amidala",
          "Padme Amidala",
          "Padme Amidala",
          "Padme Amidala",
          "Padme Amidala",
          "Padme Amidala",
          "Padme Amidala",
          "Padme Amidala",
          "Padme Amidala",
          "Padme Amidala",
          "Padme Amidala",
          "Padme Amidala",
          "Padme Amidala",
          "Padme Amidala",
          "Padme Amidala",
          "Padme Amidala",
          "Padme Amidala",
          "Padme Amidala",
          "Padme Amidala",
          "Padme Amidala",
          "Padme Amidala",
          "Padme Amidala",
          "Padme Amidala",
          "Padme Amidala",
          "Padme Amidala",
          "Padme Amidala",
          "Padme Amidala",
          "Padme Amidala",
          "Padme Amidala",
          "Padme Amidala",
          "Padme Amidala",
          "Padme Amidala",
          "Padme Amidala",
          "Padme Amidala",
          "Padme Amidala",
          "Padme Amidala",
          "Padme Amidala",
          "Padme Amidala",
          "Padme Amidala",
          "Padme Amidala",
          "Padme Amidala",
          "Padme Amidala",
          "Padme Amidala",
          "Padme Amidala",
          "Padme Amidala",
          "Padme Amidala",
          "Padme Amidala",
          "Padme Amidala",
          "Padme Amidala",
          "Padme Amidala",
          "Padme Amidala",
          "Padme Amidala",
          "Padme Amidala",
          "Padme Amidala",
          "Padme Amidala",
          "Padme Amidala",
          "Padme Amidala",
          "Padme Amidala",
          "Padme Amidala",
          "Padme Amidala",
          "Padme Amidala",
          "Padme Amidala",
          "Padme Amidala",
          "Padme Amidala",
          "Padme Amidala",
          "Padme Amidala",
          "Padme Amidala",
          "Padme Amidala",
          "Padme Amidala",
          "Padme Amidala",
          "Padme Amidala",
          "Padme Amidala",
          "Padme Amidala",
          "Padme Amidala",
          "Padme Amidala",
          "Padme Amidala",
          "Padme Amidala",
          "Padme Amidala",
          "Padme Amidala",
          "Padme Amidala",
          "Padme Amidala",
          "Padme Amidala",
          "Padme Amidala",
          "Padme Amidala",
          "Padme Amidala",
          "Padme Amidala",
          "Padme Amidala",
          "Padme Amidala",
          "Padme Amidala",
          "Padme Amidala",
          "Padme Amidala",
          "Padme Amidala",
          "Padme Amidala",
          "Padme Amidala",
          "Padme Amidala",
          "Padme Amidala",
          "Padme Amidala",
          "Padme Amidala",
          "Padme Amidala",
          "Padme Amidala",
          "Padme Amidala",
          "Padme Amidala",
          "Padme Amidala",
          "Padme Amidala",
          "Padme Amidala",
          "Padme Amidala",
          "Padme Amidala",
          "Padme Amidala",
          "Padme Amidala",
          "Padme Amidala",
          "Padme Amidala",
          "Padme Amidala",
          "Padme Amidala",
          "Padme Amidala",
          "Padme Amidala",
          "Padme Amidala",
          "Padme Amidala",
          "Padme Amidala",
          "Padme Amidala",
          "Padme Amidala",
          "Padme Amidala",
          "Padme Amidala",
          "Padme Amidala",
          "Padme Amidala",
          "Padme Amidala",
          "Padme Amidala",
          "Padme Amidala",
          "Padme Amidala",
          "Padme Amidala",
          "Padme Amidala",
          "Padme Amidala",
          "Padme Amidala",
          "Padme Amidala",
          "Padme Amidala",
          "Padme Amidala",
          "Padme Amidala",
          "Padme Amidala",
          "Padme Amidala",
          "Padme Amidala",
          "Padme Amidala",
          "Padme Amidala",
          "Padme Amidala",
          "Padme Amidala",
          "Padme Amidala",
          "Padme Amidala",
          "Padme Amidala",
          "Padme Amidala",
          "Padme Amidala",
          "Padme Amidala",
          "Padme Amidala",
          "Padme Amidala",
          "Padme Amidala",
          "Padme Amidala",
          "Padme Amidala",
          "Padme Amidala",
          "Padme Amidala",
          "Padme Amidala",
          "Padme Amidala",
          "Padme Amidala",
          "Padme Amidala",
          "Padme Amidala",
          "Padme Amidala",
          "Padme Amidala",
          "Padme Amidala",
          "Padme Amidala",
          "Padme Amidala",
          "Padme Amidala",
          "Padme Amidala",
          "Padme Amidala",
          "Padme Amidala",
          "Padme Amidala",
          "Padme Amidala",
          "Padme Amidala",
          "Padme Amidala",
          "Padme Amidala",
          "Padme Amidala",
          "Padme Amidala",
          "Padme Amidala",
          "Padme Amidala",
          "Padme Amidala",
          "Padme Amidala",
          "Padme Amidala",
          "Padme Amidala",
          "Padme Amidala",
          "Padme Amidala",
          "Padme Amidala",
          "Padme Amidala",
          "Padme Amidala",
          "Padme Amidala",
          "Padme Amidala",
          "Padme Amidala",
          "Padme Amidala",
          "Padme Amidala",
          "Padme Amidala",
          "Padme Amidala",
          "Padme Amidala",
          "Padme Amidala",
          "Padme Amidala",
          "Padme Amidala",
          "Padme Amidala",
          "Padme Amidala",
          "Padme Amidala",
          "Padme Amidala",
          "Padme Amidala",
          "Padme Amidala",
          "Padme Amidala",
          "Padme Amidala",
          "Padme Amidala",
          "Padme Amidala",
          "Padme Amidala",
          "Padme Amidala",
          "Padme Amidala",
          "Padme Amidala",
          "Padme Amidala",
          "Padme Amidala",
          "Padme Amidala",
          "Padme Amidala",
          "Padme Amidala",
          "Padme Amidala",
          "Padme Amidala",
          "Padme Amidala",
          "Padme Amidala",
          "Padme Amidala",
          "Padme Amidala",
          "Padme Amidala",
          "Padme Amidala",
          "Padme Amidala",
          "Padme Amidala",
          "Padme Amidala",
          "Padme Amidala",
          "Padme Amidala",
          "Padme Amidala",
          "Padme Amidala",
          "Padme Amidala",
          "Padme Amidala",
          "Padme Amidala",
          "Padme Amidala",
          "Padme Amidala",
          "Padme Amidala",
          "Padme Amidala",
          "Padme Amidala",
          "Padme Amidala",
          "Padme Amidala",
          "Padme Amidala",
          "Padme Amidala",
          "Padme Amidala",
          "Padme Amidala",
          "Padme Amidala",
          "Padme Amidala",
          "Padme Amidala",
          "Padme Amidala",
          "Padme Amidala",
          "Padme Amidala",
          "Padme Amidala",
          "Padme Amidala",
          "Padme Amidala",
          "Padme Amidala",
          "Padme Amidala",
          "Padme Amidala",
          "Padme Amidala",
          "Padme Amidala",
          "Padme Amidala",
          "Padme Amidala",
          "Padme Amidala",
          "Padme Amidala",
          "Padme Amidala",
          "Padme Amidala",
          "Padme Amidala",
          "Padme Amidala",
          "Padme Amidala",
          "Padme Amidala",
          "Padme Amidala",
          "Padme Amidala",
          "Padme Amidala",
          "Padme Amidala",
          "Padme Amidala",
          "Padme Amidala",
          "Padme Amidala",
          "Padme Amidala",
          "Padme Amidala",
          "Padme Amidala",
          "Padme Amidala",
          "Padme Amidala",
          "Padme Amidala",
          "Padme Amidala",
          "Padme Amidala",
          "Padme Amidala",
          "Padme Amidala",
          "Padme Amidala",
          "Padme Amidala",
          "Padme Amidala",
          "Padme Amidala",
          "Padme Amidala",
          "Padme Amidala",
          "Padme Amidala",
          "Padme Amidala",
          "Padme Amidala",
          "Padme Amidala",
          "Padme Amidala",
          "Padme Amidala",
          "Padme Amidala",
          "Padme Amidala",
          "Padme Amidala",
          "Padme Amidala",
          "Padme Amidala",
          "Padme Amidala",
          "Padme Amidala",
          "Padme Amidala",
          "Padme Amidala",
          "Padme Amidala",
          "Padme Amidala",
          "Padme Amidala",
          "Padme Amidala",
          "Padme Amidala",
          "Padme Amidala",
          "Padme Amidala",
          "Padme Amidala",
          "Padme Amidala",
          "Padme Amidala",
          "Padme Amidala",
          "Padme Amidala",
          "Padme Amidala",
          "Padme Amidala",
          "Padme Amidala",
          "Padme Amidala",
          "Padme Amidala",
          "Padme Amidala",
          "Padme Amidala",
          "Padme Amidala",
          "Padme Amidala",
          "Padme Amidala",
          "Padme Amidala",
          "Padme Amidala",
          "Padme Amidala",
          "Padme Amidala",
          "Padme Amidala",
          "Padme Amidala",
          "Padme Amidala",
          "Padme Amidala",
          "Padme Amidala",
          "Padme Amidala",
          "Padme Amidala",
          "Padme Amidala",
          "Padme Amidala",
          "Padme Amidala",
          "Padme Amidala",
          "Padme Amidala",
          "Padme Amidala",
          "Padme Amidala",
          "Padme Amidala",
          "Padme Amidala",
          "Padme Amidala",
          "Padme Amidala",
          "Padme Amidala",
          "Padme Amidala",
          "Padme Amidala",
          "Padme Amidala",
          "Padme Amidala",
          "Padme Amidala",
          "Padme Amidala",
          "Padme Amidala",
          "Padme Amidala",
          "Padme Amidala",
          "Padme Amidala",
          "Padme Amidala",
          "Padme Amidala",
          "Padme Amidala",
          "Padme Amidala",
          "Padme Amidala",
          "Padme Amidala",
          "Padme Amidala",
          "Padme Amidala",
          "Padme Amidala",
          "Padme Amidala",
          "Padme Amidala",
          "Padme Amidala",
          "Padme Amidala",
          "Padme Amidala",
          "Padme Amidala",
          "Padme Amidala",
          "Padme Amidala",
          "Padme Amidala",
          "Padme Amidala",
          "Padme Amidala",
          "Padme Amidala",
          "Padme Amidala",
          "Padme Amidala",
          "Padme Amidala",
          "Padme Amidala",
          "Padme Amidala",
          "Padme Amidala",
          "Padme Amidala",
          "Padme Amidala",
          "Padme Amidala",
          "Padme Amidala",
          "Padme Amidala",
          "Padme Amidala",
          "Padme Amidala",
          "Padme Amidala",
          "Padme Amidala",
          "Padme Amidala",
          "Padme Amidala",
          "Padme Amidala",
          "Padme Amidala",
          "Padme Amidala",
          "Padme Amidala",
          "Padme Amidala",
          "Padme Amidala",
          "Padme Amidala",
          "Padme Amidala",
          "Padme Amidala",
          "Padme Amidala",
          "Padme Amidala",
          "Padme Amidala",
          "Padme Amidala",
          "Padme Amidala",
          "Padme Amidala",
          "Padme Amidala",
          "Padme Amidala",
          "Padme Amidala",
          "Padme Amidala",
          "Padme Amidala",
          "Padme Amidala",
          "Padme Amidala",
          "Padme Amidala",
          "Padme Amidala",
          "Padme Amidala",
          "Padme Amidala",
          "Padme Amidala",
          "Padme Amidala",
          "Padme Amidala",
          "Padme Amidala",
          "Padme Amidala",
          "Padme Amidala",
          "Padme Amidala",
          "Padme Amidala",
          "Padme Amidala",
          "Padme Amidala",
          "Padme Amidala",
          "Padme Amidala",
          "Padme Amidala",
          "Padme Amidala",
          "Padme Amidala",
          "Padme Amidala",
          "Padme Amidala",
          "Padme Amidala",
          "Padme Amidala",
          "Padme Amidala",
          "Padme Amidala",
          "Padme Amidala",
          "Padme Amidala",
          "Padme Amidala",
          "Padme Amidala",
          "Padme Amidala",
          "Padme Amidala",
          "Padme Amidala",
          "Padme Amidala",
          "Padme Amidala",
          "Padme Amidala",
          "Padme Amidala",
          "Padme Amidala",
          "Padme Amidala",
          "Padme Amidala",
          "Padme Amidala",
          "Padme Amidala",
          "Padme Amidala",
          "Padme Amidala",
          "Padme Amidala",
          "Padme Amidala",
          "Padme Amidala",
          "Padme Amidala",
          "Padme Amidala",
          "Padme Amidala",
          "Padme Amidala",
          "Padme Amidala",
          "Padme Amidala",
          "Padme Amidala",
          "Padme Amidala",
          "Padme Amidala",
          "Padme Amidala",
          "Padme Amidala",
          "Padme Amidala",
          "Padme Amidala",
          "Padme Amidala",
          "Padme Amidala",
          "Padme Amidala",
          "Padme Amidala",
          "Padme Amidala",
          "Padme Amidala",
          "Padme Amidala",
          "Padme Amidala",
          "Padme Amidala",
          "Padme Amidala",
          "Padme Amidala",
          "Padme Amidala",
          "Padme Amidala",
          "Padme Amidala",
          "Padme Amidala",
          "Padme Amidala",
          "Padme Amidala",
          "Padme Amidala",
          "Padme Amidala",
          "Padme Amidala",
          "Padme Amidala",
          "Padme Amidala",
          "Padme Amidala",
          "Padme Amidala",
          "Padme Amidala",
          "Padme Amidala",
          "Padme Amidala",
          "Padme Amidala",
          "Padme Amidala",
          "Padme Amidala",
          "Padme Amidala",
          "Padme Amidala",
          "Padme Amidala",
          "Padme Amidala",
          "Padme Amidala",
          "Padme Amidala",
          "Padme Amidala",
          "Padme Amidala",
          "Padme Amidala",
          "Padme Amidala",
          "Padme Amidala",
          "Padme Amidala",
          "Padme Amidala",
          "Padme Amidala",
          "Padme Amidala",
          "Padme Amidala",
          "Padme Amidala",
          "Padme Amidala",
          "Padme Amidala",
          "Padme Amidala",
          "Padme Amidala",
          "Padme Amidala",
          "Padme Amidala",
          "Padme Amidala",
          "Padme Amidala",
          "Padme Amidala",
          "Padme Amidala",
          "Padme Amidala",
          "Padme Amidala",
          "Padme Amidala",
          "Padme Amidala",
          "Padme Amidala",
          "Padme Amidala",
          "Padme Amidala",
          "Padme Amidala",
          "Padme Amidala",
          "Padme Amidala",
          "Padme Amidala",
          "Padme Amidala",
          "Padme Amidala",
          "Padme Amidala",
          "Padme Amidala",
          "Padme Amidala",
          "Padme Amidala",
          "Padme Amidala",
          "Padme Amidala",
          "Padme Amidala",
          "Padme Amidala",
          "Padme Amidala",
          "Padme Amidala",
          "Padme Amidala",
          "Padme Amidala",
          "Padme Amidala",
          "Padme Amidala",
          "Padme Amidala",
          "Padme Amidala",
          "Padme Amidala",
          "Padme Amidala",
          "Padme Amidala",
          "Padme Amidala",
          "Padme Amidala",
          "Padme Amidala",
          "Padme Amidala",
          "Padme Amidala",
          "Padme Amidala",
          "Padme Amidala",
          "Padme Amidala",
          "Padme Amidala",
          "Padme Amidala",
          "Padme Amidala",
          "Padme Amidala",
          "Padme Amidala",
          "Padme Amidala",
          "Padme Amidala",
          "Padme Amidala",
          "Padme Amidala",
          "Padme Amidala",
          "Padme Amidala",
          "Padme Amidala",
          "Padme Amidala",
          "Padme Amidala",
          "Padme Amidala",
          "Padme Amidala",
          "Padme Amidala",
          "Padme Amidala",
          "Padme Amidala",
          "Padme Amidala",
          "Padme Amidala",
          "Padme Amidala",
          "Padme Amidala",
          "Padme Amidala",
          "Padme Amidala",
          "Padme Amidala",
          "Padme Amidala",
          "Padme Amidala",
          "Padme Amidala",
          "Padme Amidala",
          "Padme Amidala",
          "Padme Amidala",
          "Padme Amidala",
          "Padme Amidala",
          "Padme Amidala",
          "Padme Amidala",
          "Padme Amidala",
          "Padme Amidala",
          "Padme Amidala",
          "Padme Amidala",
          "Padme Amidala",
          "Padme Amidala",
          "Padme Amidala",
          "Padme Amidala",
          "Padme Amidala",
          "Padme Amidala",
          "Padme Amidala",
          "Padme Amidala",
          "Padme Amidala",
          "Padme Amidala",
          "Padme Amidala",
          "Padme Amidala",
          "Padme Amidala",
          "Padme Amidala",
          "Padme Amidala",
          "Padme Amidala",
          "Padme Amidala",
          "Padme Amidala",
          "Padme Amidala",
          "Padme Amidala",
          "Padme Amidala",
          "Padme Amidala",
          "Padme Amidala",
          "Padme Amidala",
          "Padme Amidala",
          "Padme Amidala",
          "Padme Amidala",
          "Padme Amidala",
          "Padme Amidala",
          "Padme Amidala",
          "Padme Amidala",
          "Padme Amidala",
          "Padme Amidala",
          "Padme Amidala",
          "Padme Amidala",
          "Padme Amidala",
          "Padme Amidala",
          "Padme Amidala",
          "Padme Amidala",
          "Padme Amidala",
          "Padme Amidala",
          "Padme Amidala",
          "Padme Amidala",
          "Padme Amidala",
          "Padme Amidala",
          "Padme Amidala",
          "Padme Amidala",
          "Padme Amidala",
          "Padme Amidala",
          "Padme Amidala",
          "Padme Amidala",
          "Padme Amidala",
          "Padme Amidala",
          "Padme Amidala",
          "Padme Amidala",
          "Padme Amidala",
          "Padme Amidala",
          "Padme Amidala",
          "Padme Amidala",
          "Padme Amidala",
          "Padme Amidala",
          "Padme Amidala",
          "Padme Amidala",
          "Padme Amidala",
          "Padme Amidala",
          "Padme Amidala",
          "Padme Amidala",
          "Padme Amidala",
          "Padme Amidala",
          "Padme Amidala",
          "Padme Amidala",
          "Padme Amidala",
          "Padme Amidala",
          "Padme Amidala",
          "Padme Amidala",
          "Padme Amidala",
          "Padme Amidala",
          "Padme Amidala",
          "Padme Amidala",
          "Padme Amidala",
          "Padme Amidala",
          "Padme Amidala",
          "Padme Amidala",
          "Padme Amidala",
          "Padme Amidala",
          "Padme Amidala",
          "Padme Amidala",
          "Padme Amidala",
          "Padme Amidala",
          "Padme Amidala",
          "Padme Amidala",
          "Padme Amidala",
          "Padme Amidala",
          "Padme Amidala",
          "Padme Amidala",
          "Padme Amidala",
          "Padme Amidala",
          "Padme Amidala",
          "Padme Amidala",
          "Padme Amidala",
          "Padme Amidala",
          "Padme Amidala",
          "Padme Amidala",
          "Padme Amidala",
          "Padme Amidala",
          "Padme Amidala",
          "Padme Amidala",
          "Padme Amidala",
          "Padme Amidala",
          "Padme Amidala",
          "Padme Amidala",
          "Padme Amidala",
          "Padme Amidala",
          "Padme Amidala",
          "Padme Amidala",
          "Padme Amidala",
          "Padme Amidala",
          "Padme Amidala",
          "Padme Amidala",
          "Padme Amidala",
          "Padme Amidala",
          "Padme Amidala",
          "Padme Amidala",
          "Padme Amidala",
          "Padme Amidala",
          "Padme Amidala",
          "Padme Amidala",
          "Padme Amidala",
          "Padme Amidala",
          "Padme Amidala",
          "Padme Amidala",
          "Padme Amidala",
          "Padme Amidala",
          "Padme Amidala",
          "Padme Amidala",
          "Padme Amidala",
          "Padme Amidala",
          "Padme Amidala",
          "Padme Amidala",
          "Padme Amidala",
          "Padme Amidala",
          "Padme Amidala",
          "Padme Amidala",
          "Padme Amidala",
          "Padme Amidala",
          "Padme Amidala",
          "Padme Amidala",
          "Padme Amidala",
          "Padme Amidala",
          "Padme Amidala",
          "Padme Amidala",
          "Padme Amidala",
          "Padme Amidala",
          "Padme Amidala"
         ],
         "x0": " ",
         "xaxis": "x",
         "y": {
          "bdata": "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",
          "dtype": "f8"
         },
         "y0": " ",
         "yaxis": "y"
        },
        {
         "alignmentgroup": "True",
         "hovertemplate": "Surgeon=%{x}<br>Improvement Score=%{y}<extra></extra>",
         "legendgroup": "Luke Skywalker",
         "marker": {
          "color": "#19d3f3"
         },
         "name": "Luke Skywalker",
         "notched": false,
         "offsetgroup": "Luke Skywalker",
         "orientation": "v",
         "showlegend": true,
         "type": "box",
         "x": [
          "Luke Skywalker",
          "Luke Skywalker",
          "Luke Skywalker",
          "Luke Skywalker",
          "Luke Skywalker",
          "Luke Skywalker",
          "Luke Skywalker",
          "Luke Skywalker",
          "Luke Skywalker",
          "Luke Skywalker",
          "Luke Skywalker",
          "Luke Skywalker",
          "Luke Skywalker",
          "Luke Skywalker",
          "Luke Skywalker",
          "Luke Skywalker",
          "Luke Skywalker",
          "Luke Skywalker",
          "Luke Skywalker",
          "Luke Skywalker",
          "Luke Skywalker",
          "Luke Skywalker",
          "Luke Skywalker",
          "Luke Skywalker",
          "Luke Skywalker",
          "Luke Skywalker",
          "Luke Skywalker",
          "Luke Skywalker",
          "Luke Skywalker",
          "Luke Skywalker",
          "Luke Skywalker",
          "Luke Skywalker",
          "Luke Skywalker",
          "Luke Skywalker",
          "Luke Skywalker",
          "Luke Skywalker",
          "Luke Skywalker",
          "Luke Skywalker",
          "Luke Skywalker",
          "Luke Skywalker",
          "Luke Skywalker",
          "Luke Skywalker",
          "Luke Skywalker",
          "Luke Skywalker",
          "Luke Skywalker",
          "Luke Skywalker",
          "Luke Skywalker",
          "Luke Skywalker",
          "Luke Skywalker",
          "Luke Skywalker",
          "Luke Skywalker",
          "Luke Skywalker",
          "Luke Skywalker",
          "Luke Skywalker",
          "Luke Skywalker",
          "Luke Skywalker",
          "Luke Skywalker",
          "Luke Skywalker",
          "Luke Skywalker",
          "Luke Skywalker",
          "Luke Skywalker",
          "Luke Skywalker",
          "Luke Skywalker",
          "Luke Skywalker",
          "Luke Skywalker",
          "Luke Skywalker",
          "Luke Skywalker",
          "Luke Skywalker",
          "Luke Skywalker",
          "Luke Skywalker",
          "Luke Skywalker",
          "Luke Skywalker",
          "Luke Skywalker",
          "Luke Skywalker",
          "Luke Skywalker",
          "Luke Skywalker",
          "Luke Skywalker",
          "Luke Skywalker",
          "Luke Skywalker",
          "Luke Skywalker",
          "Luke Skywalker",
          "Luke Skywalker",
          "Luke Skywalker",
          "Luke Skywalker",
          "Luke Skywalker",
          "Luke Skywalker",
          "Luke Skywalker",
          "Luke Skywalker",
          "Luke Skywalker",
          "Luke Skywalker",
          "Luke Skywalker",
          "Luke Skywalker",
          "Luke Skywalker",
          "Luke Skywalker",
          "Luke Skywalker",
          "Luke Skywalker",
          "Luke Skywalker",
          "Luke Skywalker",
          "Luke Skywalker",
          "Luke Skywalker",
          "Luke Skywalker",
          "Luke Skywalker",
          "Luke Skywalker",
          "Luke Skywalker",
          "Luke Skywalker",
          "Luke Skywalker",
          "Luke Skywalker",
          "Luke Skywalker",
          "Luke Skywalker",
          "Luke Skywalker",
          "Luke Skywalker",
          "Luke Skywalker",
          "Luke Skywalker",
          "Luke Skywalker",
          "Luke Skywalker",
          "Luke Skywalker",
          "Luke Skywalker",
          "Luke Skywalker",
          "Luke Skywalker",
          "Luke Skywalker",
          "Luke Skywalker",
          "Luke Skywalker",
          "Luke Skywalker",
          "Luke Skywalker",
          "Luke Skywalker",
          "Luke Skywalker",
          "Luke Skywalker",
          "Luke Skywalker",
          "Luke Skywalker",
          "Luke Skywalker",
          "Luke Skywalker",
          "Luke Skywalker",
          "Luke Skywalker",
          "Luke Skywalker",
          "Luke Skywalker",
          "Luke Skywalker",
          "Luke Skywalker",
          "Luke Skywalker",
          "Luke Skywalker",
          "Luke Skywalker",
          "Luke Skywalker",
          "Luke Skywalker",
          "Luke Skywalker",
          "Luke Skywalker",
          "Luke Skywalker",
          "Luke Skywalker",
          "Luke Skywalker",
          "Luke Skywalker",
          "Luke Skywalker",
          "Luke Skywalker",
          "Luke Skywalker",
          "Luke Skywalker",
          "Luke Skywalker",
          "Luke Skywalker",
          "Luke Skywalker",
          "Luke Skywalker",
          "Luke Skywalker",
          "Luke Skywalker",
          "Luke Skywalker",
          "Luke Skywalker",
          "Luke Skywalker",
          "Luke Skywalker",
          "Luke Skywalker",
          "Luke Skywalker",
          "Luke Skywalker",
          "Luke Skywalker",
          "Luke Skywalker",
          "Luke Skywalker",
          "Luke Skywalker",
          "Luke Skywalker",
          "Luke Skywalker",
          "Luke Skywalker",
          "Luke Skywalker",
          "Luke Skywalker",
          "Luke Skywalker",
          "Luke Skywalker",
          "Luke Skywalker",
          "Luke Skywalker",
          "Luke Skywalker",
          "Luke Skywalker",
          "Luke Skywalker",
          "Luke Skywalker",
          "Luke Skywalker",
          "Luke Skywalker",
          "Luke Skywalker",
          "Luke Skywalker",
          "Luke Skywalker",
          "Luke Skywalker",
          "Luke Skywalker",
          "Luke Skywalker",
          "Luke Skywalker",
          "Luke Skywalker",
          "Luke Skywalker",
          "Luke Skywalker",
          "Luke Skywalker",
          "Luke Skywalker",
          "Luke Skywalker",
          "Luke Skywalker",
          "Luke Skywalker",
          "Luke Skywalker",
          "Luke Skywalker",
          "Luke Skywalker",
          "Luke Skywalker",
          "Luke Skywalker",
          "Luke Skywalker",
          "Luke Skywalker",
          "Luke Skywalker",
          "Luke Skywalker",
          "Luke Skywalker",
          "Luke Skywalker",
          "Luke Skywalker",
          "Luke Skywalker",
          "Luke Skywalker",
          "Luke Skywalker",
          "Luke Skywalker",
          "Luke Skywalker",
          "Luke Skywalker",
          "Luke Skywalker",
          "Luke Skywalker",
          "Luke Skywalker",
          "Luke Skywalker",
          "Luke Skywalker",
          "Luke Skywalker",
          "Luke Skywalker",
          "Luke Skywalker",
          "Luke Skywalker",
          "Luke Skywalker",
          "Luke Skywalker",
          "Luke Skywalker",
          "Luke Skywalker",
          "Luke Skywalker",
          "Luke Skywalker",
          "Luke Skywalker",
          "Luke Skywalker",
          "Luke Skywalker",
          "Luke Skywalker",
          "Luke Skywalker",
          "Luke Skywalker",
          "Luke Skywalker",
          "Luke Skywalker",
          "Luke Skywalker",
          "Luke Skywalker",
          "Luke Skywalker",
          "Luke Skywalker",
          "Luke Skywalker",
          "Luke Skywalker",
          "Luke Skywalker",
          "Luke Skywalker",
          "Luke Skywalker",
          "Luke Skywalker",
          "Luke Skywalker",
          "Luke Skywalker",
          "Luke Skywalker",
          "Luke Skywalker",
          "Luke Skywalker",
          "Luke Skywalker",
          "Luke Skywalker",
          "Luke Skywalker",
          "Luke Skywalker",
          "Luke Skywalker",
          "Luke Skywalker",
          "Luke Skywalker",
          "Luke Skywalker",
          "Luke Skywalker",
          "Luke Skywalker",
          "Luke Skywalker",
          "Luke Skywalker",
          "Luke Skywalker",
          "Luke Skywalker",
          "Luke Skywalker",
          "Luke Skywalker",
          "Luke Skywalker",
          "Luke Skywalker",
          "Luke Skywalker",
          "Luke Skywalker",
          "Luke Skywalker",
          "Luke Skywalker",
          "Luke Skywalker",
          "Luke Skywalker",
          "Luke Skywalker",
          "Luke Skywalker",
          "Luke Skywalker",
          "Luke Skywalker",
          "Luke Skywalker",
          "Luke Skywalker",
          "Luke Skywalker",
          "Luke Skywalker",
          "Luke Skywalker",
          "Luke Skywalker",
          "Luke Skywalker",
          "Luke Skywalker",
          "Luke Skywalker",
          "Luke Skywalker",
          "Luke Skywalker",
          "Luke Skywalker",
          "Luke Skywalker",
          "Luke Skywalker",
          "Luke Skywalker",
          "Luke Skywalker",
          "Luke Skywalker",
          "Luke Skywalker",
          "Luke Skywalker",
          "Luke Skywalker",
          "Luke Skywalker",
          "Luke Skywalker",
          "Luke Skywalker",
          "Luke Skywalker",
          "Luke Skywalker",
          "Luke Skywalker",
          "Luke Skywalker",
          "Luke Skywalker",
          "Luke Skywalker",
          "Luke Skywalker",
          "Luke Skywalker",
          "Luke Skywalker",
          "Luke Skywalker",
          "Luke Skywalker",
          "Luke Skywalker",
          "Luke Skywalker",
          "Luke Skywalker",
          "Luke Skywalker",
          "Luke Skywalker",
          "Luke Skywalker",
          "Luke Skywalker",
          "Luke Skywalker",
          "Luke Skywalker",
          "Luke Skywalker",
          "Luke Skywalker",
          "Luke Skywalker",
          "Luke Skywalker",
          "Luke Skywalker",
          "Luke Skywalker",
          "Luke Skywalker",
          "Luke Skywalker",
          "Luke Skywalker",
          "Luke Skywalker",
          "Luke Skywalker",
          "Luke Skywalker",
          "Luke Skywalker",
          "Luke Skywalker",
          "Luke Skywalker",
          "Luke Skywalker",
          "Luke Skywalker",
          "Luke Skywalker",
          "Luke Skywalker",
          "Luke Skywalker",
          "Luke Skywalker",
          "Luke Skywalker",
          "Luke Skywalker",
          "Luke Skywalker",
          "Luke Skywalker",
          "Luke Skywalker",
          "Luke Skywalker",
          "Luke Skywalker",
          "Luke Skywalker",
          "Luke Skywalker",
          "Luke Skywalker",
          "Luke Skywalker",
          "Luke Skywalker",
          "Luke Skywalker",
          "Luke Skywalker",
          "Luke Skywalker",
          "Luke Skywalker",
          "Luke Skywalker",
          "Luke Skywalker",
          "Luke Skywalker",
          "Luke Skywalker",
          "Luke Skywalker",
          "Luke Skywalker",
          "Luke Skywalker",
          "Luke Skywalker",
          "Luke Skywalker",
          "Luke Skywalker",
          "Luke Skywalker",
          "Luke Skywalker",
          "Luke Skywalker",
          "Luke Skywalker",
          "Luke Skywalker",
          "Luke Skywalker",
          "Luke Skywalker",
          "Luke Skywalker",
          "Luke Skywalker",
          "Luke Skywalker",
          "Luke Skywalker",
          "Luke Skywalker",
          "Luke Skywalker",
          "Luke Skywalker",
          "Luke Skywalker",
          "Luke Skywalker",
          "Luke Skywalker",
          "Luke Skywalker",
          "Luke Skywalker",
          "Luke Skywalker",
          "Luke Skywalker",
          "Luke Skywalker",
          "Luke Skywalker",
          "Luke Skywalker",
          "Luke Skywalker",
          "Luke Skywalker",
          "Luke Skywalker",
          "Luke Skywalker",
          "Luke Skywalker",
          "Luke Skywalker",
          "Luke Skywalker",
          "Luke Skywalker",
          "Luke Skywalker",
          "Luke Skywalker",
          "Luke Skywalker",
          "Luke Skywalker",
          "Luke Skywalker",
          "Luke Skywalker",
          "Luke Skywalker",
          "Luke Skywalker",
          "Luke Skywalker",
          "Luke Skywalker",
          "Luke Skywalker",
          "Luke Skywalker",
          "Luke Skywalker",
          "Luke Skywalker",
          "Luke Skywalker",
          "Luke Skywalker",
          "Luke Skywalker",
          "Luke Skywalker",
          "Luke Skywalker",
          "Luke Skywalker",
          "Luke Skywalker",
          "Luke Skywalker",
          "Luke Skywalker",
          "Luke Skywalker",
          "Luke Skywalker",
          "Luke Skywalker",
          "Luke Skywalker",
          "Luke Skywalker",
          "Luke Skywalker",
          "Luke Skywalker",
          "Luke Skywalker",
          "Luke Skywalker",
          "Luke Skywalker",
          "Luke Skywalker",
          "Luke Skywalker",
          "Luke Skywalker",
          "Luke Skywalker",
          "Luke Skywalker",
          "Luke Skywalker",
          "Luke Skywalker",
          "Luke Skywalker",
          "Luke Skywalker",
          "Luke Skywalker",
          "Luke Skywalker",
          "Luke Skywalker",
          "Luke Skywalker",
          "Luke Skywalker",
          "Luke Skywalker",
          "Luke Skywalker",
          "Luke Skywalker",
          "Luke Skywalker",
          "Luke Skywalker",
          "Luke Skywalker",
          "Luke Skywalker",
          "Luke Skywalker",
          "Luke Skywalker",
          "Luke Skywalker",
          "Luke Skywalker",
          "Luke Skywalker",
          "Luke Skywalker",
          "Luke Skywalker",
          "Luke Skywalker",
          "Luke Skywalker",
          "Luke Skywalker",
          "Luke Skywalker",
          "Luke Skywalker",
          "Luke Skywalker",
          "Luke Skywalker",
          "Luke Skywalker",
          "Luke Skywalker",
          "Luke Skywalker",
          "Luke Skywalker",
          "Luke Skywalker",
          "Luke Skywalker",
          "Luke Skywalker",
          "Luke Skywalker",
          "Luke Skywalker",
          "Luke Skywalker",
          "Luke Skywalker",
          "Luke Skywalker",
          "Luke Skywalker",
          "Luke Skywalker",
          "Luke Skywalker",
          "Luke Skywalker",
          "Luke Skywalker",
          "Luke Skywalker",
          "Luke Skywalker",
          "Luke Skywalker",
          "Luke Skywalker",
          "Luke Skywalker",
          "Luke Skywalker",
          "Luke Skywalker",
          "Luke Skywalker",
          "Luke Skywalker",
          "Luke Skywalker",
          "Luke Skywalker",
          "Luke Skywalker",
          "Luke Skywalker",
          "Luke Skywalker",
          "Luke Skywalker",
          "Luke Skywalker",
          "Luke Skywalker",
          "Luke Skywalker",
          "Luke Skywalker",
          "Luke Skywalker",
          "Luke Skywalker",
          "Luke Skywalker",
          "Luke Skywalker",
          "Luke Skywalker",
          "Luke Skywalker",
          "Luke Skywalker",
          "Luke Skywalker",
          "Luke Skywalker",
          "Luke Skywalker",
          "Luke Skywalker",
          "Luke Skywalker",
          "Luke Skywalker",
          "Luke Skywalker",
          "Luke Skywalker",
          "Luke Skywalker",
          "Luke Skywalker",
          "Luke Skywalker",
          "Luke Skywalker",
          "Luke Skywalker",
          "Luke Skywalker",
          "Luke Skywalker",
          "Luke Skywalker",
          "Luke Skywalker",
          "Luke Skywalker",
          "Luke Skywalker",
          "Luke Skywalker",
          "Luke Skywalker",
          "Luke Skywalker",
          "Luke Skywalker",
          "Luke Skywalker",
          "Luke Skywalker",
          "Luke Skywalker",
          "Luke Skywalker",
          "Luke Skywalker",
          "Luke Skywalker",
          "Luke Skywalker",
          "Luke Skywalker",
          "Luke Skywalker",
          "Luke Skywalker",
          "Luke Skywalker",
          "Luke Skywalker",
          "Luke Skywalker",
          "Luke Skywalker",
          "Luke Skywalker",
          "Luke Skywalker",
          "Luke Skywalker",
          "Luke Skywalker",
          "Luke Skywalker",
          "Luke Skywalker",
          "Luke Skywalker",
          "Luke Skywalker",
          "Luke Skywalker",
          "Luke Skywalker",
          "Luke Skywalker",
          "Luke Skywalker",
          "Luke Skywalker",
          "Luke Skywalker",
          "Luke Skywalker",
          "Luke Skywalker",
          "Luke Skywalker",
          "Luke Skywalker",
          "Luke Skywalker",
          "Luke Skywalker",
          "Luke Skywalker",
          "Luke Skywalker",
          "Luke Skywalker",
          "Luke Skywalker",
          "Luke Skywalker",
          "Luke Skywalker",
          "Luke Skywalker",
          "Luke Skywalker",
          "Luke Skywalker",
          "Luke Skywalker",
          "Luke Skywalker",
          "Luke Skywalker",
          "Luke Skywalker",
          "Luke Skywalker",
          "Luke Skywalker",
          "Luke Skywalker",
          "Luke Skywalker",
          "Luke Skywalker",
          "Luke Skywalker",
          "Luke Skywalker",
          "Luke Skywalker",
          "Luke Skywalker",
          "Luke Skywalker",
          "Luke Skywalker",
          "Luke Skywalker",
          "Luke Skywalker",
          "Luke Skywalker",
          "Luke Skywalker",
          "Luke Skywalker",
          "Luke Skywalker",
          "Luke Skywalker",
          "Luke Skywalker",
          "Luke Skywalker",
          "Luke Skywalker",
          "Luke Skywalker",
          "Luke Skywalker",
          "Luke Skywalker",
          "Luke Skywalker",
          "Luke Skywalker",
          "Luke Skywalker",
          "Luke Skywalker",
          "Luke Skywalker",
          "Luke Skywalker",
          "Luke Skywalker",
          "Luke Skywalker",
          "Luke Skywalker",
          "Luke Skywalker",
          "Luke Skywalker",
          "Luke Skywalker",
          "Luke Skywalker",
          "Luke Skywalker",
          "Luke Skywalker",
          "Luke Skywalker",
          "Luke Skywalker",
          "Luke Skywalker",
          "Luke Skywalker",
          "Luke Skywalker",
          "Luke Skywalker",
          "Luke Skywalker",
          "Luke Skywalker",
          "Luke Skywalker",
          "Luke Skywalker",
          "Luke Skywalker",
          "Luke Skywalker",
          "Luke Skywalker",
          "Luke Skywalker",
          "Luke Skywalker",
          "Luke Skywalker",
          "Luke Skywalker",
          "Luke Skywalker",
          "Luke Skywalker",
          "Luke Skywalker",
          "Luke Skywalker",
          "Luke Skywalker",
          "Luke Skywalker",
          "Luke Skywalker",
          "Luke Skywalker",
          "Luke Skywalker",
          "Luke Skywalker",
          "Luke Skywalker",
          "Luke Skywalker",
          "Luke Skywalker",
          "Luke Skywalker",
          "Luke Skywalker",
          "Luke Skywalker",
          "Luke Skywalker",
          "Luke Skywalker",
          "Luke Skywalker",
          "Luke Skywalker",
          "Luke Skywalker",
          "Luke Skywalker",
          "Luke Skywalker",
          "Luke Skywalker",
          "Luke Skywalker",
          "Luke Skywalker",
          "Luke Skywalker",
          "Luke Skywalker",
          "Luke Skywalker",
          "Luke Skywalker",
          "Luke Skywalker",
          "Luke Skywalker",
          "Luke Skywalker",
          "Luke Skywalker",
          "Luke Skywalker",
          "Luke Skywalker",
          "Luke Skywalker",
          "Luke Skywalker",
          "Luke Skywalker",
          "Luke Skywalker",
          "Luke Skywalker",
          "Luke Skywalker",
          "Luke Skywalker",
          "Luke Skywalker",
          "Luke Skywalker",
          "Luke Skywalker",
          "Luke Skywalker",
          "Luke Skywalker",
          "Luke Skywalker",
          "Luke Skywalker",
          "Luke Skywalker",
          "Luke Skywalker",
          "Luke Skywalker",
          "Luke Skywalker",
          "Luke Skywalker",
          "Luke Skywalker",
          "Luke Skywalker",
          "Luke Skywalker",
          "Luke Skywalker",
          "Luke Skywalker",
          "Luke Skywalker",
          "Luke Skywalker",
          "Luke Skywalker",
          "Luke Skywalker",
          "Luke Skywalker",
          "Luke Skywalker",
          "Luke Skywalker",
          "Luke Skywalker",
          "Luke Skywalker",
          "Luke Skywalker",
          "Luke Skywalker",
          "Luke Skywalker",
          "Luke Skywalker",
          "Luke Skywalker",
          "Luke Skywalker",
          "Luke Skywalker",
          "Luke Skywalker",
          "Luke Skywalker",
          "Luke Skywalker",
          "Luke Skywalker",
          "Luke Skywalker",
          "Luke Skywalker",
          "Luke Skywalker",
          "Luke Skywalker",
          "Luke Skywalker",
          "Luke Skywalker",
          "Luke Skywalker",
          "Luke Skywalker",
          "Luke Skywalker",
          "Luke Skywalker",
          "Luke Skywalker",
          "Luke Skywalker",
          "Luke Skywalker",
          "Luke Skywalker",
          "Luke Skywalker",
          "Luke Skywalker",
          "Luke Skywalker",
          "Luke Skywalker",
          "Luke Skywalker",
          "Luke Skywalker",
          "Luke Skywalker",
          "Luke Skywalker",
          "Luke Skywalker",
          "Luke Skywalker",
          "Luke Skywalker",
          "Luke Skywalker",
          "Luke Skywalker",
          "Luke Skywalker",
          "Luke Skywalker",
          "Luke Skywalker",
          "Luke Skywalker",
          "Luke Skywalker",
          "Luke Skywalker",
          "Luke Skywalker",
          "Luke Skywalker",
          "Luke Skywalker",
          "Luke Skywalker",
          "Luke Skywalker",
          "Luke Skywalker",
          "Luke Skywalker",
          "Luke Skywalker",
          "Luke Skywalker",
          "Luke Skywalker",
          "Luke Skywalker",
          "Luke Skywalker",
          "Luke Skywalker",
          "Luke Skywalker",
          "Luke Skywalker",
          "Luke Skywalker",
          "Luke Skywalker",
          "Luke Skywalker",
          "Luke Skywalker",
          "Luke Skywalker",
          "Luke Skywalker",
          "Luke Skywalker",
          "Luke Skywalker",
          "Luke Skywalker",
          "Luke Skywalker",
          "Luke Skywalker",
          "Luke Skywalker",
          "Luke Skywalker",
          "Luke Skywalker",
          "Luke Skywalker",
          "Luke Skywalker",
          "Luke Skywalker",
          "Luke Skywalker",
          "Luke Skywalker",
          "Luke Skywalker",
          "Luke Skywalker",
          "Luke Skywalker",
          "Luke Skywalker",
          "Luke Skywalker",
          "Luke Skywalker",
          "Luke Skywalker",
          "Luke Skywalker",
          "Luke Skywalker",
          "Luke Skywalker",
          "Luke Skywalker",
          "Luke Skywalker",
          "Luke Skywalker",
          "Luke Skywalker",
          "Luke Skywalker",
          "Luke Skywalker",
          "Luke Skywalker",
          "Luke Skywalker",
          "Luke Skywalker",
          "Luke Skywalker",
          "Luke Skywalker",
          "Luke Skywalker",
          "Luke Skywalker",
          "Luke Skywalker",
          "Luke Skywalker",
          "Luke Skywalker",
          "Luke Skywalker",
          "Luke Skywalker",
          "Luke Skywalker",
          "Luke Skywalker",
          "Luke Skywalker",
          "Luke Skywalker",
          "Luke Skywalker",
          "Luke Skywalker",
          "Luke Skywalker",
          "Luke Skywalker",
          "Luke Skywalker",
          "Luke Skywalker",
          "Luke Skywalker",
          "Luke Skywalker",
          "Luke Skywalker",
          "Luke Skywalker",
          "Luke Skywalker",
          "Luke Skywalker",
          "Luke Skywalker",
          "Luke Skywalker",
          "Luke Skywalker",
          "Luke Skywalker",
          "Luke Skywalker",
          "Luke Skywalker",
          "Luke Skywalker",
          "Luke Skywalker",
          "Luke Skywalker",
          "Luke Skywalker",
          "Luke Skywalker",
          "Luke Skywalker",
          "Luke Skywalker",
          "Luke Skywalker",
          "Luke Skywalker",
          "Luke Skywalker",
          "Luke Skywalker",
          "Luke Skywalker",
          "Luke Skywalker",
          "Luke Skywalker",
          "Luke Skywalker",
          "Luke Skywalker",
          "Luke Skywalker",
          "Luke Skywalker",
          "Luke Skywalker",
          "Luke Skywalker",
          "Luke Skywalker",
          "Luke Skywalker",
          "Luke Skywalker",
          "Luke Skywalker",
          "Luke Skywalker",
          "Luke Skywalker",
          "Luke Skywalker",
          "Luke Skywalker",
          "Luke Skywalker",
          "Luke Skywalker",
          "Luke Skywalker",
          "Luke Skywalker",
          "Luke Skywalker",
          "Luke Skywalker",
          "Luke Skywalker",
          "Luke Skywalker",
          "Luke Skywalker",
          "Luke Skywalker",
          "Luke Skywalker",
          "Luke Skywalker",
          "Luke Skywalker",
          "Luke Skywalker",
          "Luke Skywalker",
          "Luke Skywalker",
          "Luke Skywalker",
          "Luke Skywalker",
          "Luke Skywalker",
          "Luke Skywalker",
          "Luke Skywalker",
          "Luke Skywalker",
          "Luke Skywalker",
          "Luke Skywalker",
          "Luke Skywalker",
          "Luke Skywalker",
          "Luke Skywalker",
          "Luke Skywalker",
          "Luke Skywalker",
          "Luke Skywalker",
          "Luke Skywalker",
          "Luke Skywalker",
          "Luke Skywalker",
          "Luke Skywalker",
          "Luke Skywalker",
          "Luke Skywalker",
          "Luke Skywalker",
          "Luke Skywalker",
          "Luke Skywalker",
          "Luke Skywalker",
          "Luke Skywalker",
          "Luke Skywalker",
          "Luke Skywalker",
          "Luke Skywalker",
          "Luke Skywalker",
          "Luke Skywalker",
          "Luke Skywalker",
          "Luke Skywalker",
          "Luke Skywalker",
          "Luke Skywalker",
          "Luke Skywalker",
          "Luke Skywalker",
          "Luke Skywalker",
          "Luke Skywalker",
          "Luke Skywalker",
          "Luke Skywalker",
          "Luke Skywalker",
          "Luke Skywalker",
          "Luke Skywalker",
          "Luke Skywalker",
          "Luke Skywalker",
          "Luke Skywalker",
          "Luke Skywalker",
          "Luke Skywalker",
          "Luke Skywalker",
          "Luke Skywalker",
          "Luke Skywalker",
          "Luke Skywalker",
          "Luke Skywalker",
          "Luke Skywalker",
          "Luke Skywalker",
          "Luke Skywalker",
          "Luke Skywalker",
          "Luke Skywalker",
          "Luke Skywalker",
          "Luke Skywalker",
          "Luke Skywalker",
          "Luke Skywalker",
          "Luke Skywalker",
          "Luke Skywalker",
          "Luke Skywalker",
          "Luke Skywalker",
          "Luke Skywalker",
          "Luke Skywalker",
          "Luke Skywalker",
          "Luke Skywalker",
          "Luke Skywalker",
          "Luke Skywalker",
          "Luke Skywalker",
          "Luke Skywalker",
          "Luke Skywalker"
         ],
         "x0": " ",
         "xaxis": "x",
         "y": {
          "bdata": "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",
          "dtype": "f8"
         },
         "y0": " ",
         "yaxis": "y"
        }
       ],
       "layout": {
        "boxmode": "overlay",
        "legend": {
         "title": {
          "text": "Surgeon"
         },
         "tracegroupgap": 0
        },
        "showlegend": false,
        "template": {
         "data": {
          "bar": [
           {
            "error_x": {
             "color": "#2a3f5f"
            },
            "error_y": {
             "color": "#2a3f5f"
            },
            "marker": {
             "line": {
              "color": "#E5ECF6",
              "width": 0.5
             },
             "pattern": {
              "fillmode": "overlay",
              "size": 10,
              "solidity": 0.2
             }
            },
            "type": "bar"
           }
          ],
          "barpolar": [
           {
            "marker": {
             "line": {
              "color": "#E5ECF6",
              "width": 0.5
             },
             "pattern": {
              "fillmode": "overlay",
              "size": 10,
              "solidity": 0.2
             }
            },
            "type": "barpolar"
           }
          ],
          "carpet": [
           {
            "aaxis": {
             "endlinecolor": "#2a3f5f",
             "gridcolor": "white",
             "linecolor": "white",
             "minorgridcolor": "white",
             "startlinecolor": "#2a3f5f"
            },
            "baxis": {
             "endlinecolor": "#2a3f5f",
             "gridcolor": "white",
             "linecolor": "white",
             "minorgridcolor": "white",
             "startlinecolor": "#2a3f5f"
            },
            "type": "carpet"
           }
          ],
          "choropleth": [
           {
            "colorbar": {
             "outlinewidth": 0,
             "ticks": ""
            },
            "type": "choropleth"
           }
          ],
          "contour": [
           {
            "colorbar": {
             "outlinewidth": 0,
             "ticks": ""
            },
            "colorscale": [
             [
              0,
              "#0d0887"
             ],
             [
              0.1111111111111111,
              "#46039f"
             ],
             [
              0.2222222222222222,
              "#7201a8"
             ],
             [
              0.3333333333333333,
              "#9c179e"
             ],
             [
              0.4444444444444444,
              "#bd3786"
             ],
             [
              0.5555555555555556,
              "#d8576b"
             ],
             [
              0.6666666666666666,
              "#ed7953"
             ],
             [
              0.7777777777777778,
              "#fb9f3a"
             ],
             [
              0.8888888888888888,
              "#fdca26"
             ],
             [
              1,
              "#f0f921"
             ]
            ],
            "type": "contour"
           }
          ],
          "contourcarpet": [
           {
            "colorbar": {
             "outlinewidth": 0,
             "ticks": ""
            },
            "type": "contourcarpet"
           }
          ],
          "heatmap": [
           {
            "colorbar": {
             "outlinewidth": 0,
             "ticks": ""
            },
            "colorscale": [
             [
              0,
              "#0d0887"
             ],
             [
              0.1111111111111111,
              "#46039f"
             ],
             [
              0.2222222222222222,
              "#7201a8"
             ],
             [
              0.3333333333333333,
              "#9c179e"
             ],
             [
              0.4444444444444444,
              "#bd3786"
             ],
             [
              0.5555555555555556,
              "#d8576b"
             ],
             [
              0.6666666666666666,
              "#ed7953"
             ],
             [
              0.7777777777777778,
              "#fb9f3a"
             ],
             [
              0.8888888888888888,
              "#fdca26"
             ],
             [
              1,
              "#f0f921"
             ]
            ],
            "type": "heatmap"
           }
          ],
          "histogram": [
           {
            "marker": {
             "pattern": {
              "fillmode": "overlay",
              "size": 10,
              "solidity": 0.2
             }
            },
            "type": "histogram"
           }
          ],
          "histogram2d": [
           {
            "colorbar": {
             "outlinewidth": 0,
             "ticks": ""
            },
            "colorscale": [
             [
              0,
              "#0d0887"
             ],
             [
              0.1111111111111111,
              "#46039f"
             ],
             [
              0.2222222222222222,
              "#7201a8"
             ],
             [
              0.3333333333333333,
              "#9c179e"
             ],
             [
              0.4444444444444444,
              "#bd3786"
             ],
             [
              0.5555555555555556,
              "#d8576b"
             ],
             [
              0.6666666666666666,
              "#ed7953"
             ],
             [
              0.7777777777777778,
              "#fb9f3a"
             ],
             [
              0.8888888888888888,
              "#fdca26"
             ],
             [
              1,
              "#f0f921"
             ]
            ],
            "type": "histogram2d"
           }
          ],
          "histogram2dcontour": [
           {
            "colorbar": {
             "outlinewidth": 0,
             "ticks": ""
            },
            "colorscale": [
             [
              0,
              "#0d0887"
             ],
             [
              0.1111111111111111,
              "#46039f"
             ],
             [
              0.2222222222222222,
              "#7201a8"
             ],
             [
              0.3333333333333333,
              "#9c179e"
             ],
             [
              0.4444444444444444,
              "#bd3786"
             ],
             [
              0.5555555555555556,
              "#d8576b"
             ],
             [
              0.6666666666666666,
              "#ed7953"
             ],
             [
              0.7777777777777778,
              "#fb9f3a"
             ],
             [
              0.8888888888888888,
              "#fdca26"
             ],
             [
              1,
              "#f0f921"
             ]
            ],
            "type": "histogram2dcontour"
           }
          ],
          "mesh3d": [
           {
            "colorbar": {
             "outlinewidth": 0,
             "ticks": ""
            },
            "type": "mesh3d"
           }
          ],
          "parcoords": [
           {
            "line": {
             "colorbar": {
              "outlinewidth": 0,
              "ticks": ""
             }
            },
            "type": "parcoords"
           }
          ],
          "pie": [
           {
            "automargin": true,
            "type": "pie"
           }
          ],
          "scatter": [
           {
            "fillpattern": {
             "fillmode": "overlay",
             "size": 10,
             "solidity": 0.2
            },
            "type": "scatter"
           }
          ],
          "scatter3d": [
           {
            "line": {
             "colorbar": {
              "outlinewidth": 0,
              "ticks": ""
             }
            },
            "marker": {
             "colorbar": {
              "outlinewidth": 0,
              "ticks": ""
             }
            },
            "type": "scatter3d"
           }
          ],
          "scattercarpet": [
           {
            "marker": {
             "colorbar": {
              "outlinewidth": 0,
              "ticks": ""
             }
            },
            "type": "scattercarpet"
           }
          ],
          "scattergeo": [
           {
            "marker": {
             "colorbar": {
              "outlinewidth": 0,
              "ticks": ""
             }
            },
            "type": "scattergeo"
           }
          ],
          "scattergl": [
           {
            "marker": {
             "colorbar": {
              "outlinewidth": 0,
              "ticks": ""
             }
            },
            "type": "scattergl"
           }
          ],
          "scattermap": [
           {
            "marker": {
             "colorbar": {
              "outlinewidth": 0,
              "ticks": ""
             }
            },
            "type": "scattermap"
           }
          ],
          "scattermapbox": [
           {
            "marker": {
             "colorbar": {
              "outlinewidth": 0,
              "ticks": ""
             }
            },
            "type": "scattermapbox"
           }
          ],
          "scatterpolar": [
           {
            "marker": {
             "colorbar": {
              "outlinewidth": 0,
              "ticks": ""
             }
            },
            "type": "scatterpolar"
           }
          ],
          "scatterpolargl": [
           {
            "marker": {
             "colorbar": {
              "outlinewidth": 0,
              "ticks": ""
             }
            },
            "type": "scatterpolargl"
           }
          ],
          "scatterternary": [
           {
            "marker": {
             "colorbar": {
              "outlinewidth": 0,
              "ticks": ""
             }
            },
            "type": "scatterternary"
           }
          ],
          "surface": [
           {
            "colorbar": {
             "outlinewidth": 0,
             "ticks": ""
            },
            "colorscale": [
             [
              0,
              "#0d0887"
             ],
             [
              0.1111111111111111,
              "#46039f"
             ],
             [
              0.2222222222222222,
              "#7201a8"
             ],
             [
              0.3333333333333333,
              "#9c179e"
             ],
             [
              0.4444444444444444,
              "#bd3786"
             ],
             [
              0.5555555555555556,
              "#d8576b"
             ],
             [
              0.6666666666666666,
              "#ed7953"
             ],
             [
              0.7777777777777778,
              "#fb9f3a"
             ],
             [
              0.8888888888888888,
              "#fdca26"
             ],
             [
              1,
              "#f0f921"
             ]
            ],
            "type": "surface"
           }
          ],
          "table": [
           {
            "cells": {
             "fill": {
              "color": "#EBF0F8"
             },
             "line": {
              "color": "white"
             }
            },
            "header": {
             "fill": {
              "color": "#C8D4E3"
             },
             "line": {
              "color": "white"
             }
            },
            "type": "table"
           }
          ]
         },
         "layout": {
          "annotationdefaults": {
           "arrowcolor": "#2a3f5f",
           "arrowhead": 0,
           "arrowwidth": 1
          },
          "autotypenumbers": "strict",
          "coloraxis": {
           "colorbar": {
            "outlinewidth": 0,
            "ticks": ""
           }
          },
          "colorscale": {
           "diverging": [
            [
             0,
             "#8e0152"
            ],
            [
             0.1,
             "#c51b7d"
            ],
            [
             0.2,
             "#de77ae"
            ],
            [
             0.3,
             "#f1b6da"
            ],
            [
             0.4,
             "#fde0ef"
            ],
            [
             0.5,
             "#f7f7f7"
            ],
            [
             0.6,
             "#e6f5d0"
            ],
            [
             0.7,
             "#b8e186"
            ],
            [
             0.8,
             "#7fbc41"
            ],
            [
             0.9,
             "#4d9221"
            ],
            [
             1,
             "#276419"
            ]
           ],
           "sequential": [
            [
             0,
             "#0d0887"
            ],
            [
             0.1111111111111111,
             "#46039f"
            ],
            [
             0.2222222222222222,
             "#7201a8"
            ],
            [
             0.3333333333333333,
             "#9c179e"
            ],
            [
             0.4444444444444444,
             "#bd3786"
            ],
            [
             0.5555555555555556,
             "#d8576b"
            ],
            [
             0.6666666666666666,
             "#ed7953"
            ],
            [
             0.7777777777777778,
             "#fb9f3a"
            ],
            [
             0.8888888888888888,
             "#fdca26"
            ],
            [
             1,
             "#f0f921"
            ]
           ],
           "sequentialminus": [
            [
             0,
             "#0d0887"
            ],
            [
             0.1111111111111111,
             "#46039f"
            ],
            [
             0.2222222222222222,
             "#7201a8"
            ],
            [
             0.3333333333333333,
             "#9c179e"
            ],
            [
             0.4444444444444444,
             "#bd3786"
            ],
            [
             0.5555555555555556,
             "#d8576b"
            ],
            [
             0.6666666666666666,
             "#ed7953"
            ],
            [
             0.7777777777777778,
             "#fb9f3a"
            ],
            [
             0.8888888888888888,
             "#fdca26"
            ],
            [
             1,
             "#f0f921"
            ]
           ]
          },
          "colorway": [
           "#636efa",
           "#EF553B",
           "#00cc96",
           "#ab63fa",
           "#FFA15A",
           "#19d3f3",
           "#FF6692",
           "#B6E880",
           "#FF97FF",
           "#FECB52"
          ],
          "font": {
           "color": "#2a3f5f"
          },
          "geo": {
           "bgcolor": "white",
           "lakecolor": "white",
           "landcolor": "#E5ECF6",
           "showlakes": true,
           "showland": true,
           "subunitcolor": "white"
          },
          "hoverlabel": {
           "align": "left"
          },
          "hovermode": "closest",
          "mapbox": {
           "style": "light"
          },
          "paper_bgcolor": "white",
          "plot_bgcolor": "#E5ECF6",
          "polar": {
           "angularaxis": {
            "gridcolor": "white",
            "linecolor": "white",
            "ticks": ""
           },
           "bgcolor": "#E5ECF6",
           "radialaxis": {
            "gridcolor": "white",
            "linecolor": "white",
            "ticks": ""
           }
          },
          "scene": {
           "xaxis": {
            "backgroundcolor": "#E5ECF6",
            "gridcolor": "white",
            "gridwidth": 2,
            "linecolor": "white",
            "showbackground": true,
            "ticks": "",
            "zerolinecolor": "white"
           },
           "yaxis": {
            "backgroundcolor": "#E5ECF6",
            "gridcolor": "white",
            "gridwidth": 2,
            "linecolor": "white",
            "showbackground": true,
            "ticks": "",
            "zerolinecolor": "white"
           },
           "zaxis": {
            "backgroundcolor": "#E5ECF6",
            "gridcolor": "white",
            "gridwidth": 2,
            "linecolor": "white",
            "showbackground": true,
            "ticks": "",
            "zerolinecolor": "white"
           }
          },
          "shapedefaults": {
           "line": {
            "color": "#2a3f5f"
           }
          },
          "ternary": {
           "aaxis": {
            "gridcolor": "white",
            "linecolor": "white",
            "ticks": ""
           },
           "baxis": {
            "gridcolor": "white",
            "linecolor": "white",
            "ticks": ""
           },
           "bgcolor": "#E5ECF6",
           "caxis": {
            "gridcolor": "white",
            "linecolor": "white",
            "ticks": ""
           }
          },
          "title": {
           "x": 0.05
          },
          "xaxis": {
           "automargin": true,
           "gridcolor": "white",
           "linecolor": "white",
           "ticks": "",
           "title": {
            "standoff": 15
           },
           "zerolinecolor": "white",
           "zerolinewidth": 2
          },
          "yaxis": {
           "automargin": true,
           "gridcolor": "white",
           "linecolor": "white",
           "ticks": "",
           "title": {
            "standoff": 15
           },
           "zerolinecolor": "white",
           "zerolinewidth": 2
          }
         }
        },
        "title": {
         "text": "Improvement Distribution per Surgeon (Top 6)"
        },
        "xaxis": {
         "anchor": "y",
         "categoryarray": [
          "Boba Fett",
          "Jar Jar Binks",
          "Darth Vader",
          "Obi-Wan Kenobi",
          "Padme Amidala",
          "Luke Skywalker"
         ],
         "categoryorder": "array",
         "domain": [
          0,
          1
         ],
         "title": {
          "text": "Surgeon"
         }
        },
        "yaxis": {
         "anchor": "x",
         "domain": [
          0,
          1
         ],
         "title": {
          "text": "Improvement Score"
         }
        }
       }
      }
     },
     "metadata": {},
     "output_type": "display_data"
    }
   ],
   "source": [
    "# Pick top 6 surgeons by volume or average improvement\n",
    "top_surgeons = surgeon_scores.sort_values(by='num_patients', ascending=False).head(6)['surgeon_id']\n",
    "\n",
    "box_data = valid_scores[valid_scores['surgeon_id'].isin(top_surgeons)]\n",
    "\n",
    "# Merge surgeon names\n",
    "box_data = box_data.merge(\n",
    "    surgeons.rename(columns={'id': 'surgeon_id', 'name': 'surgeon_name'}),\n",
    "    on='surgeon_id',\n",
    "    how='left'\n",
    ")\n",
    "\n",
    "fig = px.box(\n",
    "    box_data,\n",
    "    x='surgeon_name',\n",
    "    y='improvement',\n",
    "    title='Improvement Distribution per Surgeon (Top 6)',\n",
    "    labels={'surgeon_name': 'Surgeon', 'improvement': 'Improvement Score'},\n",
    "    color='surgeon_name'\n",
    ")\n",
    "\n",
    "fig.update_layout(showlegend=False)\n",
    "fig.show()\n"
   ]
  },
  {
   "cell_type": "markdown",
   "id": "636d71b0",
   "metadata": {},
   "source": [
    "#### Interpretation: \n",
    "\n",
    "This box plot shows how improvement scores vary for each of the top 6 surgeons.\n",
    "\n",
    "What to look for:\n",
    "\n",
    "- The **box height** (IQR) shows the middle 50% of patient outcomes.\n",
    "- The **line in the middle** is the median (typical outcome).\n",
    "- **Dots** are outliers — patients who had unusually high or low changes in health.\n",
    "\n",
    "Surgeon-by-surgeon observations:\n",
    "\n",
    "- **Boba Fett**  \n",
    "  - Wide spread with many negative outliers  \n",
    "  - Median slightly above zero, but variability is high  \n",
    "  → Results are inconsistent\n",
    "\n",
    "- **Jar Jar Binks**  \n",
    "  - Similar spread to Boba Fett, with low median  \n",
    "  - Several outliers below -0.5  \n",
    "  → Results lean negative and highly variable\n",
    "\n",
    "- **Darth Vader**  \n",
    "  - More centered around positive outcomes  \n",
    "  - Smaller IQR and fewer extreme outliers  \n",
    "  → More stable performance\n",
    "\n",
    "- **Obi-Wan Kenobi**  \n",
    "  - Moderate spread, median well above zero  \n",
    "  - One or two lower outliers  \n",
    "  → Consistently strong outcomes with a few exceptions\n",
    "\n",
    "- **Padme Amidala**  \n",
    "  - Lower median and wider spread  \n",
    "  - More patients saw limited or even negative improvement  \n",
    "  → Underperformance with significant variability\n",
    "\n",
    "- **Luke Skywalker**  \n",
    "  - High median and relatively tight IQR  \n",
    "  - Lower whisker extends, but outcomes are mostly positive  \n",
    "  → Strong and consistent performer\n",
    "\n",
    "\n",
    "Takeaway:\n",
    "While Obi-Wan and Luke both ranked high in earlier charts, this box plot shows **Luke Skywalker** had slightly more consistent outcomes, while **Jar Jar Binks** and **Padme Amidala** had wide variability and more patients with poor recovery.\n",
    "\n",
    "\n",
    "---\n"
   ]
  },
  {
   "cell_type": "markdown",
   "id": "e3887f18",
   "metadata": {},
   "source": [
    "### Correlation Heatmap: Surgeon Performance Metrics\n",
    "\n",
    "This heatmap shows how the key performance metrics relate to one another:\n",
    "\n",
    "- **Average Improvement**: The mean improvement across all patients for each surgeon  \n",
    "- **Standard Deviation**: Variability in outcomes, higher means less consistency  \n",
    "- **Number of Patients**: Total patients treated  \n",
    "- **Weighted Score**: A combined metric of effectiveness × experience (`avg_improvement × log(1 + num_patients)`)\n",
    "\n",
    "How to read It:\n",
    "- **Values range from -1 to +1**:\n",
    "  - `+1` means perfect positive correlation\n",
    "  - `-1` means perfect negative correlation\n",
    "  - `0` means no linear relationship\n",
    "- **Darker shades** indicate stronger relationships.\n"
   ]
  },
  {
   "cell_type": "code",
   "execution_count": 89,
   "id": "d1fc79c5",
   "metadata": {},
   "outputs": [
    {
     "data": {
      "application/vnd.plotly.v1+json": {
       "config": {
        "plotlyServerURL": "https://plot.ly"
       },
       "data": [
        {
         "colorscale": [
          [
           0,
           "#440154"
          ],
          [
           0.1111111111111111,
           "#482878"
          ],
          [
           0.2222222222222222,
           "#3e4989"
          ],
          [
           0.3333333333333333,
           "#31688e"
          ],
          [
           0.4444444444444444,
           "#26828e"
          ],
          [
           0.5555555555555556,
           "#1f9e89"
          ],
          [
           0.6666666666666666,
           "#35b779"
          ],
          [
           0.7777777777777778,
           "#6ece58"
          ],
          [
           0.8888888888888888,
           "#b5de2b"
          ],
          [
           1,
           "#fde725"
          ]
         ],
         "reversescale": false,
         "showscale": true,
         "type": "heatmap",
         "x": [
          "avg_improvement",
          "std_improvement",
          "num_patients",
          "weighted_score"
         ],
         "y": [
          "avg_improvement",
          "std_improvement",
          "num_patients",
          "weighted_score"
         ],
         "z": {
          "bdata": "AAAAAAAA8D+qCCQR9UvVvzpFUSS/gcA/z48bdYLw7z+qCCQR9UvVvwAAAAAAAPA/ol3YAUnowj91+MVx9obUvzpFUSS/gcA/ol3YAUnowj8AAAAAAADwP89SI/MHRsg/z48bdYLw7z91+MVx9obUv89SI/MHRsg/AAAAAAAA8D8=",
          "dtype": "f8",
          "shape": "4, 4"
         }
        }
       ],
       "layout": {
        "annotations": [
         {
          "font": {
           "color": "#000000"
          },
          "showarrow": false,
          "text": "1.00",
          "x": "avg_improvement",
          "xref": "x",
          "y": "avg_improvement",
          "yref": "y"
         },
         {
          "font": {
           "color": "#FFFFFF"
          },
          "showarrow": false,
          "text": "-0.33",
          "x": "std_improvement",
          "xref": "x",
          "y": "avg_improvement",
          "yref": "y"
         },
         {
          "font": {
           "color": "#FFFFFF"
          },
          "showarrow": false,
          "text": "0.13",
          "x": "num_patients",
          "xref": "x",
          "y": "avg_improvement",
          "yref": "y"
         },
         {
          "font": {
           "color": "#000000"
          },
          "showarrow": false,
          "text": "1.00",
          "x": "weighted_score",
          "xref": "x",
          "y": "avg_improvement",
          "yref": "y"
         },
         {
          "font": {
           "color": "#FFFFFF"
          },
          "showarrow": false,
          "text": "-0.33",
          "x": "avg_improvement",
          "xref": "x",
          "y": "std_improvement",
          "yref": "y"
         },
         {
          "font": {
           "color": "#000000"
          },
          "showarrow": false,
          "text": "1.00",
          "x": "std_improvement",
          "xref": "x",
          "y": "std_improvement",
          "yref": "y"
         },
         {
          "font": {
           "color": "#FFFFFF"
          },
          "showarrow": false,
          "text": "0.15",
          "x": "num_patients",
          "xref": "x",
          "y": "std_improvement",
          "yref": "y"
         },
         {
          "font": {
           "color": "#FFFFFF"
          },
          "showarrow": false,
          "text": "-0.32",
          "x": "weighted_score",
          "xref": "x",
          "y": "std_improvement",
          "yref": "y"
         },
         {
          "font": {
           "color": "#FFFFFF"
          },
          "showarrow": false,
          "text": "0.13",
          "x": "avg_improvement",
          "xref": "x",
          "y": "num_patients",
          "yref": "y"
         },
         {
          "font": {
           "color": "#FFFFFF"
          },
          "showarrow": false,
          "text": "0.15",
          "x": "std_improvement",
          "xref": "x",
          "y": "num_patients",
          "yref": "y"
         },
         {
          "font": {
           "color": "#000000"
          },
          "showarrow": false,
          "text": "1.00",
          "x": "num_patients",
          "xref": "x",
          "y": "num_patients",
          "yref": "y"
         },
         {
          "font": {
           "color": "#FFFFFF"
          },
          "showarrow": false,
          "text": "0.19",
          "x": "weighted_score",
          "xref": "x",
          "y": "num_patients",
          "yref": "y"
         },
         {
          "font": {
           "color": "#000000"
          },
          "showarrow": false,
          "text": "1.00",
          "x": "avg_improvement",
          "xref": "x",
          "y": "weighted_score",
          "yref": "y"
         },
         {
          "font": {
           "color": "#FFFFFF"
          },
          "showarrow": false,
          "text": "-0.32",
          "x": "std_improvement",
          "xref": "x",
          "y": "weighted_score",
          "yref": "y"
         },
         {
          "font": {
           "color": "#FFFFFF"
          },
          "showarrow": false,
          "text": "0.19",
          "x": "num_patients",
          "xref": "x",
          "y": "weighted_score",
          "yref": "y"
         },
         {
          "font": {
           "color": "#000000"
          },
          "showarrow": false,
          "text": "1.00",
          "x": "weighted_score",
          "xref": "x",
          "y": "weighted_score",
          "yref": "y"
         }
        ],
        "template": {
         "data": {
          "bar": [
           {
            "error_x": {
             "color": "#2a3f5f"
            },
            "error_y": {
             "color": "#2a3f5f"
            },
            "marker": {
             "line": {
              "color": "#E5ECF6",
              "width": 0.5
             },
             "pattern": {
              "fillmode": "overlay",
              "size": 10,
              "solidity": 0.2
             }
            },
            "type": "bar"
           }
          ],
          "barpolar": [
           {
            "marker": {
             "line": {
              "color": "#E5ECF6",
              "width": 0.5
             },
             "pattern": {
              "fillmode": "overlay",
              "size": 10,
              "solidity": 0.2
             }
            },
            "type": "barpolar"
           }
          ],
          "carpet": [
           {
            "aaxis": {
             "endlinecolor": "#2a3f5f",
             "gridcolor": "white",
             "linecolor": "white",
             "minorgridcolor": "white",
             "startlinecolor": "#2a3f5f"
            },
            "baxis": {
             "endlinecolor": "#2a3f5f",
             "gridcolor": "white",
             "linecolor": "white",
             "minorgridcolor": "white",
             "startlinecolor": "#2a3f5f"
            },
            "type": "carpet"
           }
          ],
          "choropleth": [
           {
            "colorbar": {
             "outlinewidth": 0,
             "ticks": ""
            },
            "type": "choropleth"
           }
          ],
          "contour": [
           {
            "colorbar": {
             "outlinewidth": 0,
             "ticks": ""
            },
            "colorscale": [
             [
              0,
              "#0d0887"
             ],
             [
              0.1111111111111111,
              "#46039f"
             ],
             [
              0.2222222222222222,
              "#7201a8"
             ],
             [
              0.3333333333333333,
              "#9c179e"
             ],
             [
              0.4444444444444444,
              "#bd3786"
             ],
             [
              0.5555555555555556,
              "#d8576b"
             ],
             [
              0.6666666666666666,
              "#ed7953"
             ],
             [
              0.7777777777777778,
              "#fb9f3a"
             ],
             [
              0.8888888888888888,
              "#fdca26"
             ],
             [
              1,
              "#f0f921"
             ]
            ],
            "type": "contour"
           }
          ],
          "contourcarpet": [
           {
            "colorbar": {
             "outlinewidth": 0,
             "ticks": ""
            },
            "type": "contourcarpet"
           }
          ],
          "heatmap": [
           {
            "colorbar": {
             "outlinewidth": 0,
             "ticks": ""
            },
            "colorscale": [
             [
              0,
              "#0d0887"
             ],
             [
              0.1111111111111111,
              "#46039f"
             ],
             [
              0.2222222222222222,
              "#7201a8"
             ],
             [
              0.3333333333333333,
              "#9c179e"
             ],
             [
              0.4444444444444444,
              "#bd3786"
             ],
             [
              0.5555555555555556,
              "#d8576b"
             ],
             [
              0.6666666666666666,
              "#ed7953"
             ],
             [
              0.7777777777777778,
              "#fb9f3a"
             ],
             [
              0.8888888888888888,
              "#fdca26"
             ],
             [
              1,
              "#f0f921"
             ]
            ],
            "type": "heatmap"
           }
          ],
          "histogram": [
           {
            "marker": {
             "pattern": {
              "fillmode": "overlay",
              "size": 10,
              "solidity": 0.2
             }
            },
            "type": "histogram"
           }
          ],
          "histogram2d": [
           {
            "colorbar": {
             "outlinewidth": 0,
             "ticks": ""
            },
            "colorscale": [
             [
              0,
              "#0d0887"
             ],
             [
              0.1111111111111111,
              "#46039f"
             ],
             [
              0.2222222222222222,
              "#7201a8"
             ],
             [
              0.3333333333333333,
              "#9c179e"
             ],
             [
              0.4444444444444444,
              "#bd3786"
             ],
             [
              0.5555555555555556,
              "#d8576b"
             ],
             [
              0.6666666666666666,
              "#ed7953"
             ],
             [
              0.7777777777777778,
              "#fb9f3a"
             ],
             [
              0.8888888888888888,
              "#fdca26"
             ],
             [
              1,
              "#f0f921"
             ]
            ],
            "type": "histogram2d"
           }
          ],
          "histogram2dcontour": [
           {
            "colorbar": {
             "outlinewidth": 0,
             "ticks": ""
            },
            "colorscale": [
             [
              0,
              "#0d0887"
             ],
             [
              0.1111111111111111,
              "#46039f"
             ],
             [
              0.2222222222222222,
              "#7201a8"
             ],
             [
              0.3333333333333333,
              "#9c179e"
             ],
             [
              0.4444444444444444,
              "#bd3786"
             ],
             [
              0.5555555555555556,
              "#d8576b"
             ],
             [
              0.6666666666666666,
              "#ed7953"
             ],
             [
              0.7777777777777778,
              "#fb9f3a"
             ],
             [
              0.8888888888888888,
              "#fdca26"
             ],
             [
              1,
              "#f0f921"
             ]
            ],
            "type": "histogram2dcontour"
           }
          ],
          "mesh3d": [
           {
            "colorbar": {
             "outlinewidth": 0,
             "ticks": ""
            },
            "type": "mesh3d"
           }
          ],
          "parcoords": [
           {
            "line": {
             "colorbar": {
              "outlinewidth": 0,
              "ticks": ""
             }
            },
            "type": "parcoords"
           }
          ],
          "pie": [
           {
            "automargin": true,
            "type": "pie"
           }
          ],
          "scatter": [
           {
            "fillpattern": {
             "fillmode": "overlay",
             "size": 10,
             "solidity": 0.2
            },
            "type": "scatter"
           }
          ],
          "scatter3d": [
           {
            "line": {
             "colorbar": {
              "outlinewidth": 0,
              "ticks": ""
             }
            },
            "marker": {
             "colorbar": {
              "outlinewidth": 0,
              "ticks": ""
             }
            },
            "type": "scatter3d"
           }
          ],
          "scattercarpet": [
           {
            "marker": {
             "colorbar": {
              "outlinewidth": 0,
              "ticks": ""
             }
            },
            "type": "scattercarpet"
           }
          ],
          "scattergeo": [
           {
            "marker": {
             "colorbar": {
              "outlinewidth": 0,
              "ticks": ""
             }
            },
            "type": "scattergeo"
           }
          ],
          "scattergl": [
           {
            "marker": {
             "colorbar": {
              "outlinewidth": 0,
              "ticks": ""
             }
            },
            "type": "scattergl"
           }
          ],
          "scattermap": [
           {
            "marker": {
             "colorbar": {
              "outlinewidth": 0,
              "ticks": ""
             }
            },
            "type": "scattermap"
           }
          ],
          "scattermapbox": [
           {
            "marker": {
             "colorbar": {
              "outlinewidth": 0,
              "ticks": ""
             }
            },
            "type": "scattermapbox"
           }
          ],
          "scatterpolar": [
           {
            "marker": {
             "colorbar": {
              "outlinewidth": 0,
              "ticks": ""
             }
            },
            "type": "scatterpolar"
           }
          ],
          "scatterpolargl": [
           {
            "marker": {
             "colorbar": {
              "outlinewidth": 0,
              "ticks": ""
             }
            },
            "type": "scatterpolargl"
           }
          ],
          "scatterternary": [
           {
            "marker": {
             "colorbar": {
              "outlinewidth": 0,
              "ticks": ""
             }
            },
            "type": "scatterternary"
           }
          ],
          "surface": [
           {
            "colorbar": {
             "outlinewidth": 0,
             "ticks": ""
            },
            "colorscale": [
             [
              0,
              "#0d0887"
             ],
             [
              0.1111111111111111,
              "#46039f"
             ],
             [
              0.2222222222222222,
              "#7201a8"
             ],
             [
              0.3333333333333333,
              "#9c179e"
             ],
             [
              0.4444444444444444,
              "#bd3786"
             ],
             [
              0.5555555555555556,
              "#d8576b"
             ],
             [
              0.6666666666666666,
              "#ed7953"
             ],
             [
              0.7777777777777778,
              "#fb9f3a"
             ],
             [
              0.8888888888888888,
              "#fdca26"
             ],
             [
              1,
              "#f0f921"
             ]
            ],
            "type": "surface"
           }
          ],
          "table": [
           {
            "cells": {
             "fill": {
              "color": "#EBF0F8"
             },
             "line": {
              "color": "white"
             }
            },
            "header": {
             "fill": {
              "color": "#C8D4E3"
             },
             "line": {
              "color": "white"
             }
            },
            "type": "table"
           }
          ]
         },
         "layout": {
          "annotationdefaults": {
           "arrowcolor": "#2a3f5f",
           "arrowhead": 0,
           "arrowwidth": 1
          },
          "autotypenumbers": "strict",
          "coloraxis": {
           "colorbar": {
            "outlinewidth": 0,
            "ticks": ""
           }
          },
          "colorscale": {
           "diverging": [
            [
             0,
             "#8e0152"
            ],
            [
             0.1,
             "#c51b7d"
            ],
            [
             0.2,
             "#de77ae"
            ],
            [
             0.3,
             "#f1b6da"
            ],
            [
             0.4,
             "#fde0ef"
            ],
            [
             0.5,
             "#f7f7f7"
            ],
            [
             0.6,
             "#e6f5d0"
            ],
            [
             0.7,
             "#b8e186"
            ],
            [
             0.8,
             "#7fbc41"
            ],
            [
             0.9,
             "#4d9221"
            ],
            [
             1,
             "#276419"
            ]
           ],
           "sequential": [
            [
             0,
             "#0d0887"
            ],
            [
             0.1111111111111111,
             "#46039f"
            ],
            [
             0.2222222222222222,
             "#7201a8"
            ],
            [
             0.3333333333333333,
             "#9c179e"
            ],
            [
             0.4444444444444444,
             "#bd3786"
            ],
            [
             0.5555555555555556,
             "#d8576b"
            ],
            [
             0.6666666666666666,
             "#ed7953"
            ],
            [
             0.7777777777777778,
             "#fb9f3a"
            ],
            [
             0.8888888888888888,
             "#fdca26"
            ],
            [
             1,
             "#f0f921"
            ]
           ],
           "sequentialminus": [
            [
             0,
             "#0d0887"
            ],
            [
             0.1111111111111111,
             "#46039f"
            ],
            [
             0.2222222222222222,
             "#7201a8"
            ],
            [
             0.3333333333333333,
             "#9c179e"
            ],
            [
             0.4444444444444444,
             "#bd3786"
            ],
            [
             0.5555555555555556,
             "#d8576b"
            ],
            [
             0.6666666666666666,
             "#ed7953"
            ],
            [
             0.7777777777777778,
             "#fb9f3a"
            ],
            [
             0.8888888888888888,
             "#fdca26"
            ],
            [
             1,
             "#f0f921"
            ]
           ]
          },
          "colorway": [
           "#636efa",
           "#EF553B",
           "#00cc96",
           "#ab63fa",
           "#FFA15A",
           "#19d3f3",
           "#FF6692",
           "#B6E880",
           "#FF97FF",
           "#FECB52"
          ],
          "font": {
           "color": "#2a3f5f"
          },
          "geo": {
           "bgcolor": "white",
           "lakecolor": "white",
           "landcolor": "#E5ECF6",
           "showlakes": true,
           "showland": true,
           "subunitcolor": "white"
          },
          "hoverlabel": {
           "align": "left"
          },
          "hovermode": "closest",
          "mapbox": {
           "style": "light"
          },
          "paper_bgcolor": "white",
          "plot_bgcolor": "#E5ECF6",
          "polar": {
           "angularaxis": {
            "gridcolor": "white",
            "linecolor": "white",
            "ticks": ""
           },
           "bgcolor": "#E5ECF6",
           "radialaxis": {
            "gridcolor": "white",
            "linecolor": "white",
            "ticks": ""
           }
          },
          "scene": {
           "xaxis": {
            "backgroundcolor": "#E5ECF6",
            "gridcolor": "white",
            "gridwidth": 2,
            "linecolor": "white",
            "showbackground": true,
            "ticks": "",
            "zerolinecolor": "white"
           },
           "yaxis": {
            "backgroundcolor": "#E5ECF6",
            "gridcolor": "white",
            "gridwidth": 2,
            "linecolor": "white",
            "showbackground": true,
            "ticks": "",
            "zerolinecolor": "white"
           },
           "zaxis": {
            "backgroundcolor": "#E5ECF6",
            "gridcolor": "white",
            "gridwidth": 2,
            "linecolor": "white",
            "showbackground": true,
            "ticks": "",
            "zerolinecolor": "white"
           }
          },
          "shapedefaults": {
           "line": {
            "color": "#2a3f5f"
           }
          },
          "ternary": {
           "aaxis": {
            "gridcolor": "white",
            "linecolor": "white",
            "ticks": ""
           },
           "baxis": {
            "gridcolor": "white",
            "linecolor": "white",
            "ticks": ""
           },
           "bgcolor": "#E5ECF6",
           "caxis": {
            "gridcolor": "white",
            "linecolor": "white",
            "ticks": ""
           }
          },
          "title": {
           "x": 0.05
          },
          "xaxis": {
           "automargin": true,
           "gridcolor": "white",
           "linecolor": "white",
           "ticks": "",
           "title": {
            "standoff": 15
           },
           "zerolinecolor": "white",
           "zerolinewidth": 2
          },
          "yaxis": {
           "automargin": true,
           "gridcolor": "white",
           "linecolor": "white",
           "ticks": "",
           "title": {
            "standoff": 15
           },
           "zerolinecolor": "white",
           "zerolinewidth": 2
          }
         }
        },
        "title": {
         "text": "Correlation Heatmap: Surgeon Performance Metrics"
        },
        "xaxis": {
         "dtick": 1,
         "gridcolor": "rgb(0, 0, 0)",
         "side": "top",
         "ticks": ""
        },
        "yaxis": {
         "dtick": 1,
         "ticks": "",
         "ticksuffix": "  "
        }
       }
      }
     },
     "metadata": {},
     "output_type": "display_data"
    }
   ],
   "source": [
    "import plotly.figure_factory as ff\n",
    "\n",
    "# Correlation matrix\n",
    "corr_matrix = surgeon_scores[['avg_improvement', 'std_improvement', 'num_patients', 'weighted_score']].corr()\n",
    "\n",
    "# Create heatmap\n",
    "fig = ff.create_annotated_heatmap(\n",
    "    z=corr_matrix.values,\n",
    "    x=list(corr_matrix.columns),\n",
    "    y=list(corr_matrix.index),\n",
    "    annotation_text=[[f'{val:.2f}' for val in row] for row in corr_matrix.values],\n",
    "    colorscale='Viridis',\n",
    "    showscale=True\n",
    ")\n",
    "\n",
    "fig.update_layout(title='Correlation Heatmap: Surgeon Performance Metrics')\n",
    "fig.show()\n"
   ]
  },
  {
   "cell_type": "markdown",
   "id": "71669ab9",
   "metadata": {},
   "source": [
    "#### Interpretation: \n",
    "\n",
    "- **`avg_improvement` and `weighted_score`** are strongly correlated as expected, since the weighted score includes improvement directly.\n",
    "- **`std_improvement` and `avg_improvement`** are negatively correlated (`-0.33`), meaning surgeons with higher average outcomes tend to have more consistent results.\n",
    "- **`num_patients` and `weighted_score`** show a mild positive correlation, which validates the use of a log scale, rewarding experience without letting it dominate.\n",
    "- **`num_patients` and `avg_improvement`** are only weakly correlated, showing that simply treating more patients doesn’t guarantee better outcomes.\n",
    "\n",
    "This chart helps confirm that the metrics used in the final scoring (especially `weighted_score`) provide **complementary information**, not redundancy. It supports the fairness and structure of the final surgeon ranking.\n",
    "\n",
    "---"
   ]
  },
  {
   "cell_type": "markdown",
   "id": "13c538a3",
   "metadata": {},
   "source": [
    "### Bar Chart: Patient Volume per Surgeon"
   ]
  },
  {
   "cell_type": "code",
   "execution_count": 90,
   "id": "bf2d2c3d",
   "metadata": {},
   "outputs": [
    {
     "data": {
      "application/vnd.plotly.v1+json": {
       "config": {
        "plotlyServerURL": "https://plot.ly"
       },
       "data": [
        {
         "hovertemplate": "surgeon_name=%{x}<br>num_patients=%{y}<extra></extra>",
         "legendgroup": "",
         "marker": {
          "color": "#636efa",
          "pattern": {
           "shape": ""
          }
         },
         "name": "",
         "orientation": "v",
         "showlegend": false,
         "textposition": "auto",
         "type": "bar",
         "x": [
          "Princess Leia",
          "Darth Maul",
          "Yoda",
          "Mon Mothma",
          "Luke Skywalker",
          "Darth Vader",
          "Jar Jar Binks",
          "Boba Fett",
          "Obi-Wan Kenobi",
          "Padme Amidala"
         ],
         "xaxis": "x",
         "y": {
          "bdata": "iQOqA7ADugO+A8MDxAPHA80D2gM=",
          "dtype": "i2"
         },
         "yaxis": "y"
        }
       ],
       "layout": {
        "barmode": "relative",
        "legend": {
         "tracegroupgap": 0
        },
        "template": {
         "data": {
          "bar": [
           {
            "error_x": {
             "color": "#2a3f5f"
            },
            "error_y": {
             "color": "#2a3f5f"
            },
            "marker": {
             "line": {
              "color": "#E5ECF6",
              "width": 0.5
             },
             "pattern": {
              "fillmode": "overlay",
              "size": 10,
              "solidity": 0.2
             }
            },
            "type": "bar"
           }
          ],
          "barpolar": [
           {
            "marker": {
             "line": {
              "color": "#E5ECF6",
              "width": 0.5
             },
             "pattern": {
              "fillmode": "overlay",
              "size": 10,
              "solidity": 0.2
             }
            },
            "type": "barpolar"
           }
          ],
          "carpet": [
           {
            "aaxis": {
             "endlinecolor": "#2a3f5f",
             "gridcolor": "white",
             "linecolor": "white",
             "minorgridcolor": "white",
             "startlinecolor": "#2a3f5f"
            },
            "baxis": {
             "endlinecolor": "#2a3f5f",
             "gridcolor": "white",
             "linecolor": "white",
             "minorgridcolor": "white",
             "startlinecolor": "#2a3f5f"
            },
            "type": "carpet"
           }
          ],
          "choropleth": [
           {
            "colorbar": {
             "outlinewidth": 0,
             "ticks": ""
            },
            "type": "choropleth"
           }
          ],
          "contour": [
           {
            "colorbar": {
             "outlinewidth": 0,
             "ticks": ""
            },
            "colorscale": [
             [
              0,
              "#0d0887"
             ],
             [
              0.1111111111111111,
              "#46039f"
             ],
             [
              0.2222222222222222,
              "#7201a8"
             ],
             [
              0.3333333333333333,
              "#9c179e"
             ],
             [
              0.4444444444444444,
              "#bd3786"
             ],
             [
              0.5555555555555556,
              "#d8576b"
             ],
             [
              0.6666666666666666,
              "#ed7953"
             ],
             [
              0.7777777777777778,
              "#fb9f3a"
             ],
             [
              0.8888888888888888,
              "#fdca26"
             ],
             [
              1,
              "#f0f921"
             ]
            ],
            "type": "contour"
           }
          ],
          "contourcarpet": [
           {
            "colorbar": {
             "outlinewidth": 0,
             "ticks": ""
            },
            "type": "contourcarpet"
           }
          ],
          "heatmap": [
           {
            "colorbar": {
             "outlinewidth": 0,
             "ticks": ""
            },
            "colorscale": [
             [
              0,
              "#0d0887"
             ],
             [
              0.1111111111111111,
              "#46039f"
             ],
             [
              0.2222222222222222,
              "#7201a8"
             ],
             [
              0.3333333333333333,
              "#9c179e"
             ],
             [
              0.4444444444444444,
              "#bd3786"
             ],
             [
              0.5555555555555556,
              "#d8576b"
             ],
             [
              0.6666666666666666,
              "#ed7953"
             ],
             [
              0.7777777777777778,
              "#fb9f3a"
             ],
             [
              0.8888888888888888,
              "#fdca26"
             ],
             [
              1,
              "#f0f921"
             ]
            ],
            "type": "heatmap"
           }
          ],
          "histogram": [
           {
            "marker": {
             "pattern": {
              "fillmode": "overlay",
              "size": 10,
              "solidity": 0.2
             }
            },
            "type": "histogram"
           }
          ],
          "histogram2d": [
           {
            "colorbar": {
             "outlinewidth": 0,
             "ticks": ""
            },
            "colorscale": [
             [
              0,
              "#0d0887"
             ],
             [
              0.1111111111111111,
              "#46039f"
             ],
             [
              0.2222222222222222,
              "#7201a8"
             ],
             [
              0.3333333333333333,
              "#9c179e"
             ],
             [
              0.4444444444444444,
              "#bd3786"
             ],
             [
              0.5555555555555556,
              "#d8576b"
             ],
             [
              0.6666666666666666,
              "#ed7953"
             ],
             [
              0.7777777777777778,
              "#fb9f3a"
             ],
             [
              0.8888888888888888,
              "#fdca26"
             ],
             [
              1,
              "#f0f921"
             ]
            ],
            "type": "histogram2d"
           }
          ],
          "histogram2dcontour": [
           {
            "colorbar": {
             "outlinewidth": 0,
             "ticks": ""
            },
            "colorscale": [
             [
              0,
              "#0d0887"
             ],
             [
              0.1111111111111111,
              "#46039f"
             ],
             [
              0.2222222222222222,
              "#7201a8"
             ],
             [
              0.3333333333333333,
              "#9c179e"
             ],
             [
              0.4444444444444444,
              "#bd3786"
             ],
             [
              0.5555555555555556,
              "#d8576b"
             ],
             [
              0.6666666666666666,
              "#ed7953"
             ],
             [
              0.7777777777777778,
              "#fb9f3a"
             ],
             [
              0.8888888888888888,
              "#fdca26"
             ],
             [
              1,
              "#f0f921"
             ]
            ],
            "type": "histogram2dcontour"
           }
          ],
          "mesh3d": [
           {
            "colorbar": {
             "outlinewidth": 0,
             "ticks": ""
            },
            "type": "mesh3d"
           }
          ],
          "parcoords": [
           {
            "line": {
             "colorbar": {
              "outlinewidth": 0,
              "ticks": ""
             }
            },
            "type": "parcoords"
           }
          ],
          "pie": [
           {
            "automargin": true,
            "type": "pie"
           }
          ],
          "scatter": [
           {
            "fillpattern": {
             "fillmode": "overlay",
             "size": 10,
             "solidity": 0.2
            },
            "type": "scatter"
           }
          ],
          "scatter3d": [
           {
            "line": {
             "colorbar": {
              "outlinewidth": 0,
              "ticks": ""
             }
            },
            "marker": {
             "colorbar": {
              "outlinewidth": 0,
              "ticks": ""
             }
            },
            "type": "scatter3d"
           }
          ],
          "scattercarpet": [
           {
            "marker": {
             "colorbar": {
              "outlinewidth": 0,
              "ticks": ""
             }
            },
            "type": "scattercarpet"
           }
          ],
          "scattergeo": [
           {
            "marker": {
             "colorbar": {
              "outlinewidth": 0,
              "ticks": ""
             }
            },
            "type": "scattergeo"
           }
          ],
          "scattergl": [
           {
            "marker": {
             "colorbar": {
              "outlinewidth": 0,
              "ticks": ""
             }
            },
            "type": "scattergl"
           }
          ],
          "scattermap": [
           {
            "marker": {
             "colorbar": {
              "outlinewidth": 0,
              "ticks": ""
             }
            },
            "type": "scattermap"
           }
          ],
          "scattermapbox": [
           {
            "marker": {
             "colorbar": {
              "outlinewidth": 0,
              "ticks": ""
             }
            },
            "type": "scattermapbox"
           }
          ],
          "scatterpolar": [
           {
            "marker": {
             "colorbar": {
              "outlinewidth": 0,
              "ticks": ""
             }
            },
            "type": "scatterpolar"
           }
          ],
          "scatterpolargl": [
           {
            "marker": {
             "colorbar": {
              "outlinewidth": 0,
              "ticks": ""
             }
            },
            "type": "scatterpolargl"
           }
          ],
          "scatterternary": [
           {
            "marker": {
             "colorbar": {
              "outlinewidth": 0,
              "ticks": ""
             }
            },
            "type": "scatterternary"
           }
          ],
          "surface": [
           {
            "colorbar": {
             "outlinewidth": 0,
             "ticks": ""
            },
            "colorscale": [
             [
              0,
              "#0d0887"
             ],
             [
              0.1111111111111111,
              "#46039f"
             ],
             [
              0.2222222222222222,
              "#7201a8"
             ],
             [
              0.3333333333333333,
              "#9c179e"
             ],
             [
              0.4444444444444444,
              "#bd3786"
             ],
             [
              0.5555555555555556,
              "#d8576b"
             ],
             [
              0.6666666666666666,
              "#ed7953"
             ],
             [
              0.7777777777777778,
              "#fb9f3a"
             ],
             [
              0.8888888888888888,
              "#fdca26"
             ],
             [
              1,
              "#f0f921"
             ]
            ],
            "type": "surface"
           }
          ],
          "table": [
           {
            "cells": {
             "fill": {
              "color": "#EBF0F8"
             },
             "line": {
              "color": "white"
             }
            },
            "header": {
             "fill": {
              "color": "#C8D4E3"
             },
             "line": {
              "color": "white"
             }
            },
            "type": "table"
           }
          ]
         },
         "layout": {
          "annotationdefaults": {
           "arrowcolor": "#2a3f5f",
           "arrowhead": 0,
           "arrowwidth": 1
          },
          "autotypenumbers": "strict",
          "coloraxis": {
           "colorbar": {
            "outlinewidth": 0,
            "ticks": ""
           }
          },
          "colorscale": {
           "diverging": [
            [
             0,
             "#8e0152"
            ],
            [
             0.1,
             "#c51b7d"
            ],
            [
             0.2,
             "#de77ae"
            ],
            [
             0.3,
             "#f1b6da"
            ],
            [
             0.4,
             "#fde0ef"
            ],
            [
             0.5,
             "#f7f7f7"
            ],
            [
             0.6,
             "#e6f5d0"
            ],
            [
             0.7,
             "#b8e186"
            ],
            [
             0.8,
             "#7fbc41"
            ],
            [
             0.9,
             "#4d9221"
            ],
            [
             1,
             "#276419"
            ]
           ],
           "sequential": [
            [
             0,
             "#0d0887"
            ],
            [
             0.1111111111111111,
             "#46039f"
            ],
            [
             0.2222222222222222,
             "#7201a8"
            ],
            [
             0.3333333333333333,
             "#9c179e"
            ],
            [
             0.4444444444444444,
             "#bd3786"
            ],
            [
             0.5555555555555556,
             "#d8576b"
            ],
            [
             0.6666666666666666,
             "#ed7953"
            ],
            [
             0.7777777777777778,
             "#fb9f3a"
            ],
            [
             0.8888888888888888,
             "#fdca26"
            ],
            [
             1,
             "#f0f921"
            ]
           ],
           "sequentialminus": [
            [
             0,
             "#0d0887"
            ],
            [
             0.1111111111111111,
             "#46039f"
            ],
            [
             0.2222222222222222,
             "#7201a8"
            ],
            [
             0.3333333333333333,
             "#9c179e"
            ],
            [
             0.4444444444444444,
             "#bd3786"
            ],
            [
             0.5555555555555556,
             "#d8576b"
            ],
            [
             0.6666666666666666,
             "#ed7953"
            ],
            [
             0.7777777777777778,
             "#fb9f3a"
            ],
            [
             0.8888888888888888,
             "#fdca26"
            ],
            [
             1,
             "#f0f921"
            ]
           ]
          },
          "colorway": [
           "#636efa",
           "#EF553B",
           "#00cc96",
           "#ab63fa",
           "#FFA15A",
           "#19d3f3",
           "#FF6692",
           "#B6E880",
           "#FF97FF",
           "#FECB52"
          ],
          "font": {
           "color": "#2a3f5f"
          },
          "geo": {
           "bgcolor": "white",
           "lakecolor": "white",
           "landcolor": "#E5ECF6",
           "showlakes": true,
           "showland": true,
           "subunitcolor": "white"
          },
          "hoverlabel": {
           "align": "left"
          },
          "hovermode": "closest",
          "mapbox": {
           "style": "light"
          },
          "paper_bgcolor": "white",
          "plot_bgcolor": "#E5ECF6",
          "polar": {
           "angularaxis": {
            "gridcolor": "white",
            "linecolor": "white",
            "ticks": ""
           },
           "bgcolor": "#E5ECF6",
           "radialaxis": {
            "gridcolor": "white",
            "linecolor": "white",
            "ticks": ""
           }
          },
          "scene": {
           "xaxis": {
            "backgroundcolor": "#E5ECF6",
            "gridcolor": "white",
            "gridwidth": 2,
            "linecolor": "white",
            "showbackground": true,
            "ticks": "",
            "zerolinecolor": "white"
           },
           "yaxis": {
            "backgroundcolor": "#E5ECF6",
            "gridcolor": "white",
            "gridwidth": 2,
            "linecolor": "white",
            "showbackground": true,
            "ticks": "",
            "zerolinecolor": "white"
           },
           "zaxis": {
            "backgroundcolor": "#E5ECF6",
            "gridcolor": "white",
            "gridwidth": 2,
            "linecolor": "white",
            "showbackground": true,
            "ticks": "",
            "zerolinecolor": "white"
           }
          },
          "shapedefaults": {
           "line": {
            "color": "#2a3f5f"
           }
          },
          "ternary": {
           "aaxis": {
            "gridcolor": "white",
            "linecolor": "white",
            "ticks": ""
           },
           "baxis": {
            "gridcolor": "white",
            "linecolor": "white",
            "ticks": ""
           },
           "bgcolor": "#E5ECF6",
           "caxis": {
            "gridcolor": "white",
            "linecolor": "white",
            "ticks": ""
           }
          },
          "title": {
           "x": 0.05
          },
          "xaxis": {
           "automargin": true,
           "gridcolor": "white",
           "linecolor": "white",
           "ticks": "",
           "title": {
            "standoff": 15
           },
           "zerolinecolor": "white",
           "zerolinewidth": 2
          },
          "yaxis": {
           "automargin": true,
           "gridcolor": "white",
           "linecolor": "white",
           "ticks": "",
           "title": {
            "standoff": 15
           },
           "zerolinecolor": "white",
           "zerolinewidth": 2
          }
         }
        },
        "title": {
         "text": "Patient Volume per Surgeon"
        },
        "xaxis": {
         "anchor": "y",
         "domain": [
          0,
          1
         ],
         "title": {
          "text": "surgeon_name"
         }
        },
        "yaxis": {
         "anchor": "x",
         "domain": [
          0,
          1
         ],
         "title": {
          "text": "num_patients"
         }
        }
       }
      }
     },
     "metadata": {},
     "output_type": "display_data"
    }
   ],
   "source": [
    "fig = px.bar(\n",
    "    surgeon_scores.sort_values(by='num_patients'),\n",
    "    x='surgeon_name',\n",
    "    y='num_patients',\n",
    "    title='Patient Volume per Surgeon'\n",
    ")\n",
    "fig.show()"
   ]
  },
  {
   "cell_type": "markdown",
   "id": "326c5ca1",
   "metadata": {},
   "source": [
    "#### Interpretation: \n",
    "\n",
    "The Patient Volume per Surgeon bar chart shows that:\n",
    "\n",
    "- All surgeons treated a fairly similar number of patients (roughly 900–990).\n",
    "\n",
    "- There is no huge imbalance where one surgeon saw 10× more cases than another.\n",
    "\n",
    "- This means the log scaling in the weighted score didn’t disproportionately advantage or penalize anyone.\n",
    "\n",
    "--- "
   ]
  },
  {
   "cell_type": "markdown",
   "id": "5652647b",
   "metadata": {},
   "source": [
    "### Bar Chart: Final Ranking of surgeons by weighted score"
   ]
  },
  {
   "cell_type": "code",
   "execution_count": 91,
   "id": "c5a69614",
   "metadata": {},
   "outputs": [
    {
     "data": {
      "application/vnd.plotly.v1+json": {
       "config": {
        "plotlyServerURL": "https://plot.ly"
       },
       "data": [
        {
         "hovertemplate": "Weighted Score (Effectiveness × Experience)=%{x}<br>Surgeon=%{y}<br>Avg Improvement=%{marker.color}<extra></extra>",
         "legendgroup": "",
         "marker": {
          "color": {
           "bdata": "dvUPskMOvz/wVwPmqc2+P4GyMeFux74/I4dFQzIovj84/4iSb/e8PyD0NH+jVrw/001iEFg5vD88YOpXW0q8P/w92qjVXbs/qWUxdbXXuj8=",
           "dtype": "f8"
          },
          "coloraxis": "coloraxis",
          "pattern": {
           "shape": ""
          }
         },
         "name": "",
         "orientation": "h",
         "showlegend": false,
         "textposition": "auto",
         "type": "bar",
         "x": {
          "bdata": "zVEJRKG26j/H2PZyw2/qP8sr7qhMZuo/JOH5xI/T6T8s7dJeBOHoP9nkQ2KqWug/Jq9Yqq8+6D+j8G8SkzToPyLRVxrgSuc/p7QAR0Ui5z8=",
          "dtype": "f8"
         },
         "xaxis": "x",
         "y": [
          "Obi-Wan Kenobi",
          "Luke Skywalker",
          "Mon Mothma",
          "Yoda",
          "Darth Vader",
          "Boba Fett",
          "Jar Jar Binks",
          "Darth Maul",
          "Princess Leia",
          "Padme Amidala"
         ],
         "yaxis": "y"
        }
       ],
       "layout": {
        "barmode": "relative",
        "coloraxis": {
         "colorbar": {
          "title": {
           "text": "Avg Improvement"
          }
         },
         "colorscale": [
          [
           0,
           "rgb(247,251,255)"
          ],
          [
           0.125,
           "rgb(222,235,247)"
          ],
          [
           0.25,
           "rgb(198,219,239)"
          ],
          [
           0.375,
           "rgb(158,202,225)"
          ],
          [
           0.5,
           "rgb(107,174,214)"
          ],
          [
           0.625,
           "rgb(66,146,198)"
          ],
          [
           0.75,
           "rgb(33,113,181)"
          ],
          [
           0.875,
           "rgb(8,81,156)"
          ],
          [
           1,
           "rgb(8,48,107)"
          ]
         ]
        },
        "legend": {
         "tracegroupgap": 0
        },
        "template": {
         "data": {
          "bar": [
           {
            "error_x": {
             "color": "#2a3f5f"
            },
            "error_y": {
             "color": "#2a3f5f"
            },
            "marker": {
             "line": {
              "color": "#E5ECF6",
              "width": 0.5
             },
             "pattern": {
              "fillmode": "overlay",
              "size": 10,
              "solidity": 0.2
             }
            },
            "type": "bar"
           }
          ],
          "barpolar": [
           {
            "marker": {
             "line": {
              "color": "#E5ECF6",
              "width": 0.5
             },
             "pattern": {
              "fillmode": "overlay",
              "size": 10,
              "solidity": 0.2
             }
            },
            "type": "barpolar"
           }
          ],
          "carpet": [
           {
            "aaxis": {
             "endlinecolor": "#2a3f5f",
             "gridcolor": "white",
             "linecolor": "white",
             "minorgridcolor": "white",
             "startlinecolor": "#2a3f5f"
            },
            "baxis": {
             "endlinecolor": "#2a3f5f",
             "gridcolor": "white",
             "linecolor": "white",
             "minorgridcolor": "white",
             "startlinecolor": "#2a3f5f"
            },
            "type": "carpet"
           }
          ],
          "choropleth": [
           {
            "colorbar": {
             "outlinewidth": 0,
             "ticks": ""
            },
            "type": "choropleth"
           }
          ],
          "contour": [
           {
            "colorbar": {
             "outlinewidth": 0,
             "ticks": ""
            },
            "colorscale": [
             [
              0,
              "#0d0887"
             ],
             [
              0.1111111111111111,
              "#46039f"
             ],
             [
              0.2222222222222222,
              "#7201a8"
             ],
             [
              0.3333333333333333,
              "#9c179e"
             ],
             [
              0.4444444444444444,
              "#bd3786"
             ],
             [
              0.5555555555555556,
              "#d8576b"
             ],
             [
              0.6666666666666666,
              "#ed7953"
             ],
             [
              0.7777777777777778,
              "#fb9f3a"
             ],
             [
              0.8888888888888888,
              "#fdca26"
             ],
             [
              1,
              "#f0f921"
             ]
            ],
            "type": "contour"
           }
          ],
          "contourcarpet": [
           {
            "colorbar": {
             "outlinewidth": 0,
             "ticks": ""
            },
            "type": "contourcarpet"
           }
          ],
          "heatmap": [
           {
            "colorbar": {
             "outlinewidth": 0,
             "ticks": ""
            },
            "colorscale": [
             [
              0,
              "#0d0887"
             ],
             [
              0.1111111111111111,
              "#46039f"
             ],
             [
              0.2222222222222222,
              "#7201a8"
             ],
             [
              0.3333333333333333,
              "#9c179e"
             ],
             [
              0.4444444444444444,
              "#bd3786"
             ],
             [
              0.5555555555555556,
              "#d8576b"
             ],
             [
              0.6666666666666666,
              "#ed7953"
             ],
             [
              0.7777777777777778,
              "#fb9f3a"
             ],
             [
              0.8888888888888888,
              "#fdca26"
             ],
             [
              1,
              "#f0f921"
             ]
            ],
            "type": "heatmap"
           }
          ],
          "histogram": [
           {
            "marker": {
             "pattern": {
              "fillmode": "overlay",
              "size": 10,
              "solidity": 0.2
             }
            },
            "type": "histogram"
           }
          ],
          "histogram2d": [
           {
            "colorbar": {
             "outlinewidth": 0,
             "ticks": ""
            },
            "colorscale": [
             [
              0,
              "#0d0887"
             ],
             [
              0.1111111111111111,
              "#46039f"
             ],
             [
              0.2222222222222222,
              "#7201a8"
             ],
             [
              0.3333333333333333,
              "#9c179e"
             ],
             [
              0.4444444444444444,
              "#bd3786"
             ],
             [
              0.5555555555555556,
              "#d8576b"
             ],
             [
              0.6666666666666666,
              "#ed7953"
             ],
             [
              0.7777777777777778,
              "#fb9f3a"
             ],
             [
              0.8888888888888888,
              "#fdca26"
             ],
             [
              1,
              "#f0f921"
             ]
            ],
            "type": "histogram2d"
           }
          ],
          "histogram2dcontour": [
           {
            "colorbar": {
             "outlinewidth": 0,
             "ticks": ""
            },
            "colorscale": [
             [
              0,
              "#0d0887"
             ],
             [
              0.1111111111111111,
              "#46039f"
             ],
             [
              0.2222222222222222,
              "#7201a8"
             ],
             [
              0.3333333333333333,
              "#9c179e"
             ],
             [
              0.4444444444444444,
              "#bd3786"
             ],
             [
              0.5555555555555556,
              "#d8576b"
             ],
             [
              0.6666666666666666,
              "#ed7953"
             ],
             [
              0.7777777777777778,
              "#fb9f3a"
             ],
             [
              0.8888888888888888,
              "#fdca26"
             ],
             [
              1,
              "#f0f921"
             ]
            ],
            "type": "histogram2dcontour"
           }
          ],
          "mesh3d": [
           {
            "colorbar": {
             "outlinewidth": 0,
             "ticks": ""
            },
            "type": "mesh3d"
           }
          ],
          "parcoords": [
           {
            "line": {
             "colorbar": {
              "outlinewidth": 0,
              "ticks": ""
             }
            },
            "type": "parcoords"
           }
          ],
          "pie": [
           {
            "automargin": true,
            "type": "pie"
           }
          ],
          "scatter": [
           {
            "fillpattern": {
             "fillmode": "overlay",
             "size": 10,
             "solidity": 0.2
            },
            "type": "scatter"
           }
          ],
          "scatter3d": [
           {
            "line": {
             "colorbar": {
              "outlinewidth": 0,
              "ticks": ""
             }
            },
            "marker": {
             "colorbar": {
              "outlinewidth": 0,
              "ticks": ""
             }
            },
            "type": "scatter3d"
           }
          ],
          "scattercarpet": [
           {
            "marker": {
             "colorbar": {
              "outlinewidth": 0,
              "ticks": ""
             }
            },
            "type": "scattercarpet"
           }
          ],
          "scattergeo": [
           {
            "marker": {
             "colorbar": {
              "outlinewidth": 0,
              "ticks": ""
             }
            },
            "type": "scattergeo"
           }
          ],
          "scattergl": [
           {
            "marker": {
             "colorbar": {
              "outlinewidth": 0,
              "ticks": ""
             }
            },
            "type": "scattergl"
           }
          ],
          "scattermap": [
           {
            "marker": {
             "colorbar": {
              "outlinewidth": 0,
              "ticks": ""
             }
            },
            "type": "scattermap"
           }
          ],
          "scattermapbox": [
           {
            "marker": {
             "colorbar": {
              "outlinewidth": 0,
              "ticks": ""
             }
            },
            "type": "scattermapbox"
           }
          ],
          "scatterpolar": [
           {
            "marker": {
             "colorbar": {
              "outlinewidth": 0,
              "ticks": ""
             }
            },
            "type": "scatterpolar"
           }
          ],
          "scatterpolargl": [
           {
            "marker": {
             "colorbar": {
              "outlinewidth": 0,
              "ticks": ""
             }
            },
            "type": "scatterpolargl"
           }
          ],
          "scatterternary": [
           {
            "marker": {
             "colorbar": {
              "outlinewidth": 0,
              "ticks": ""
             }
            },
            "type": "scatterternary"
           }
          ],
          "surface": [
           {
            "colorbar": {
             "outlinewidth": 0,
             "ticks": ""
            },
            "colorscale": [
             [
              0,
              "#0d0887"
             ],
             [
              0.1111111111111111,
              "#46039f"
             ],
             [
              0.2222222222222222,
              "#7201a8"
             ],
             [
              0.3333333333333333,
              "#9c179e"
             ],
             [
              0.4444444444444444,
              "#bd3786"
             ],
             [
              0.5555555555555556,
              "#d8576b"
             ],
             [
              0.6666666666666666,
              "#ed7953"
             ],
             [
              0.7777777777777778,
              "#fb9f3a"
             ],
             [
              0.8888888888888888,
              "#fdca26"
             ],
             [
              1,
              "#f0f921"
             ]
            ],
            "type": "surface"
           }
          ],
          "table": [
           {
            "cells": {
             "fill": {
              "color": "#EBF0F8"
             },
             "line": {
              "color": "white"
             }
            },
            "header": {
             "fill": {
              "color": "#C8D4E3"
             },
             "line": {
              "color": "white"
             }
            },
            "type": "table"
           }
          ]
         },
         "layout": {
          "annotationdefaults": {
           "arrowcolor": "#2a3f5f",
           "arrowhead": 0,
           "arrowwidth": 1
          },
          "autotypenumbers": "strict",
          "coloraxis": {
           "colorbar": {
            "outlinewidth": 0,
            "ticks": ""
           }
          },
          "colorscale": {
           "diverging": [
            [
             0,
             "#8e0152"
            ],
            [
             0.1,
             "#c51b7d"
            ],
            [
             0.2,
             "#de77ae"
            ],
            [
             0.3,
             "#f1b6da"
            ],
            [
             0.4,
             "#fde0ef"
            ],
            [
             0.5,
             "#f7f7f7"
            ],
            [
             0.6,
             "#e6f5d0"
            ],
            [
             0.7,
             "#b8e186"
            ],
            [
             0.8,
             "#7fbc41"
            ],
            [
             0.9,
             "#4d9221"
            ],
            [
             1,
             "#276419"
            ]
           ],
           "sequential": [
            [
             0,
             "#0d0887"
            ],
            [
             0.1111111111111111,
             "#46039f"
            ],
            [
             0.2222222222222222,
             "#7201a8"
            ],
            [
             0.3333333333333333,
             "#9c179e"
            ],
            [
             0.4444444444444444,
             "#bd3786"
            ],
            [
             0.5555555555555556,
             "#d8576b"
            ],
            [
             0.6666666666666666,
             "#ed7953"
            ],
            [
             0.7777777777777778,
             "#fb9f3a"
            ],
            [
             0.8888888888888888,
             "#fdca26"
            ],
            [
             1,
             "#f0f921"
            ]
           ],
           "sequentialminus": [
            [
             0,
             "#0d0887"
            ],
            [
             0.1111111111111111,
             "#46039f"
            ],
            [
             0.2222222222222222,
             "#7201a8"
            ],
            [
             0.3333333333333333,
             "#9c179e"
            ],
            [
             0.4444444444444444,
             "#bd3786"
            ],
            [
             0.5555555555555556,
             "#d8576b"
            ],
            [
             0.6666666666666666,
             "#ed7953"
            ],
            [
             0.7777777777777778,
             "#fb9f3a"
            ],
            [
             0.8888888888888888,
             "#fdca26"
            ],
            [
             1,
             "#f0f921"
            ]
           ]
          },
          "colorway": [
           "#636efa",
           "#EF553B",
           "#00cc96",
           "#ab63fa",
           "#FFA15A",
           "#19d3f3",
           "#FF6692",
           "#B6E880",
           "#FF97FF",
           "#FECB52"
          ],
          "font": {
           "color": "#2a3f5f"
          },
          "geo": {
           "bgcolor": "white",
           "lakecolor": "white",
           "landcolor": "#E5ECF6",
           "showlakes": true,
           "showland": true,
           "subunitcolor": "white"
          },
          "hoverlabel": {
           "align": "left"
          },
          "hovermode": "closest",
          "mapbox": {
           "style": "light"
          },
          "paper_bgcolor": "white",
          "plot_bgcolor": "#E5ECF6",
          "polar": {
           "angularaxis": {
            "gridcolor": "white",
            "linecolor": "white",
            "ticks": ""
           },
           "bgcolor": "#E5ECF6",
           "radialaxis": {
            "gridcolor": "white",
            "linecolor": "white",
            "ticks": ""
           }
          },
          "scene": {
           "xaxis": {
            "backgroundcolor": "#E5ECF6",
            "gridcolor": "white",
            "gridwidth": 2,
            "linecolor": "white",
            "showbackground": true,
            "ticks": "",
            "zerolinecolor": "white"
           },
           "yaxis": {
            "backgroundcolor": "#E5ECF6",
            "gridcolor": "white",
            "gridwidth": 2,
            "linecolor": "white",
            "showbackground": true,
            "ticks": "",
            "zerolinecolor": "white"
           },
           "zaxis": {
            "backgroundcolor": "#E5ECF6",
            "gridcolor": "white",
            "gridwidth": 2,
            "linecolor": "white",
            "showbackground": true,
            "ticks": "",
            "zerolinecolor": "white"
           }
          },
          "shapedefaults": {
           "line": {
            "color": "#2a3f5f"
           }
          },
          "ternary": {
           "aaxis": {
            "gridcolor": "white",
            "linecolor": "white",
            "ticks": ""
           },
           "baxis": {
            "gridcolor": "white",
            "linecolor": "white",
            "ticks": ""
           },
           "bgcolor": "#E5ECF6",
           "caxis": {
            "gridcolor": "white",
            "linecolor": "white",
            "ticks": ""
           }
          },
          "title": {
           "x": 0.05
          },
          "xaxis": {
           "automargin": true,
           "gridcolor": "white",
           "linecolor": "white",
           "ticks": "",
           "title": {
            "standoff": 15
           },
           "zerolinecolor": "white",
           "zerolinewidth": 2
          },
          "yaxis": {
           "automargin": true,
           "gridcolor": "white",
           "linecolor": "white",
           "ticks": "",
           "title": {
            "standoff": 15
           },
           "zerolinecolor": "white",
           "zerolinewidth": 2
          }
         }
        },
        "title": {
         "text": "Final Ranking of Surgeons by Weighted Score"
        },
        "xaxis": {
         "anchor": "y",
         "domain": [
          0,
          1
         ],
         "title": {
          "text": "Weighted Score (Effectiveness × Experience)"
         }
        },
        "yaxis": {
         "anchor": "x",
         "autorange": "reversed",
         "domain": [
          0,
          1
         ],
         "title": {
          "text": "Surgeon"
         }
        }
       }
      }
     },
     "metadata": {},
     "output_type": "display_data"
    }
   ],
   "source": [
    "import plotly.express as px\n",
    "\n",
    "# Sort all surgeons by weighted_score\n",
    "fig = px.bar(\n",
    "    surgeon_scores.sort_values(by='weighted_score', ascending=False),\n",
    "    x='weighted_score',\n",
    "    y='surgeon_name',\n",
    "    orientation='h',\n",
    "    color='avg_improvement',\n",
    "    color_continuous_scale='Blues',\n",
    "    title='Final Ranking of Surgeons by Weighted Score',\n",
    "    labels={\n",
    "        'weighted_score': 'Weighted Score (Effectiveness × Experience)',\n",
    "        'surgeon_name': 'Surgeon',\n",
    "        'avg_improvement': 'Avg Improvement'\n",
    "    }\n",
    ")\n",
    "\n",
    "fig.update_layout(yaxis=dict(autorange='reversed'))\n",
    "fig.show()\n"
   ]
  },
  {
   "cell_type": "markdown",
   "id": "910b3c57",
   "metadata": {},
   "source": [
    "#### Interpretation: \n",
    "\n",
    "This chart presents the final ranking of surgeons based on their **weighted score**, which balances average patient improvement with the number of patients treated.\n",
    "\n",
    "- **Obi-Wan Kenobi**, **Luke Skywalker**, and **Mon Mothma** lead the rankings, consistently delivering strong outcomes across a high volume of patients.\n",
    "- Surgeons like **Padme Amidala** and **Princess Leia** rank lower, with lower average improvement and fewer patients treated.\n",
    "- The color gradient represents average improvement, reinforcing that top-ranked surgeons not only had scale, but also strong effectiveness.\n",
    "\n",
    "This view provides a fair and balanced summary of surgeon performance, rewarding both skill and scale\n",
    "\n",
    "---\n",
    "\n",
    "### Performance Metrics Table : Top 3 vs. Bottom 3 Surgeons"
   ]
  },
  {
   "cell_type": "code",
   "execution_count": 92,
   "id": "89956b66",
   "metadata": {},
   "outputs": [
    {
     "data": {
      "text/html": [
       "<div>\n",
       "<style scoped>\n",
       "    .dataframe tbody tr th:only-of-type {\n",
       "        vertical-align: middle;\n",
       "    }\n",
       "\n",
       "    .dataframe tbody tr th {\n",
       "        vertical-align: top;\n",
       "    }\n",
       "\n",
       "    .dataframe thead th {\n",
       "        text-align: right;\n",
       "    }\n",
       "</style>\n",
       "<table border=\"1\" class=\"dataframe\">\n",
       "  <thead>\n",
       "    <tr style=\"text-align: right;\">\n",
       "      <th></th>\n",
       "      <th>surgeon_id</th>\n",
       "      <th>avg_improvement</th>\n",
       "      <th>std_improvement</th>\n",
       "      <th>num_patients</th>\n",
       "      <th>surgeon_name</th>\n",
       "      <th>weighted_score</th>\n",
       "    </tr>\n",
       "  </thead>\n",
       "  <tbody>\n",
       "    <tr>\n",
       "      <th>4</th>\n",
       "      <td>5</td>\n",
       "      <td>0.121311</td>\n",
       "      <td>0.253740</td>\n",
       "      <td>973</td>\n",
       "      <td>Obi-Wan Kenobi</td>\n",
       "      <td>0.834794</td>\n",
       "    </tr>\n",
       "    <tr>\n",
       "      <th>8</th>\n",
       "      <td>9</td>\n",
       "      <td>0.120326</td>\n",
       "      <td>0.255119</td>\n",
       "      <td>958</td>\n",
       "      <td>Luke Skywalker</td>\n",
       "      <td>0.826143</td>\n",
       "    </tr>\n",
       "    <tr>\n",
       "      <th>6</th>\n",
       "      <td>7</td>\n",
       "      <td>0.120231</td>\n",
       "      <td>0.263165</td>\n",
       "      <td>954</td>\n",
       "      <td>Mon Mothma</td>\n",
       "      <td>0.824988</td>\n",
       "    </tr>\n",
       "    <tr>\n",
       "      <th>1</th>\n",
       "      <td>2</td>\n",
       "      <td>0.110510</td>\n",
       "      <td>0.261613</td>\n",
       "      <td>938</td>\n",
       "      <td>Darth Maul</td>\n",
       "      <td>0.756418</td>\n",
       "    </tr>\n",
       "    <tr>\n",
       "      <th>0</th>\n",
       "      <td>1</td>\n",
       "      <td>0.106901</td>\n",
       "      <td>0.257088</td>\n",
       "      <td>905</td>\n",
       "      <td>Princess Leia</td>\n",
       "      <td>0.727890</td>\n",
       "    </tr>\n",
       "    <tr>\n",
       "      <th>9</th>\n",
       "      <td>10</td>\n",
       "      <td>0.104854</td>\n",
       "      <td>0.261343</td>\n",
       "      <td>986</td>\n",
       "      <td>Padme Amidala</td>\n",
       "      <td>0.722933</td>\n",
       "    </tr>\n",
       "  </tbody>\n",
       "</table>\n",
       "</div>"
      ],
      "text/plain": [
       "   surgeon_id  avg_improvement  std_improvement  num_patients    surgeon_name  \\\n",
       "4           5         0.121311         0.253740           973  Obi-Wan Kenobi   \n",
       "8           9         0.120326         0.255119           958  Luke Skywalker   \n",
       "6           7         0.120231         0.263165           954      Mon Mothma   \n",
       "1           2         0.110510         0.261613           938      Darth Maul   \n",
       "0           1         0.106901         0.257088           905   Princess Leia   \n",
       "9          10         0.104854         0.261343           986   Padme Amidala   \n",
       "\n",
       "   weighted_score  \n",
       "4        0.834794  \n",
       "8        0.826143  \n",
       "6        0.824988  \n",
       "1        0.756418  \n",
       "0        0.727890  \n",
       "9        0.722933  "
      ]
     },
     "execution_count": 92,
     "metadata": {},
     "output_type": "execute_result"
    }
   ],
   "source": [
    "# performance metrics of the top 3 and bottom 3 surgeons.\n",
    "pd.concat([\n",
    "    surgeon_scores.head(3),\n",
    "    surgeon_scores.tail(3)\n",
    "])"
   ]
  },
  {
   "cell_type": "code",
   "execution_count": 93,
   "id": "136657b5",
   "metadata": {},
   "outputs": [],
   "source": [
    "surgeon_scores.to_csv(\"surgeon_performance_summary.csv\", index=False)\n"
   ]
  },
  {
   "cell_type": "markdown",
   "id": "0ca7a628",
   "metadata": {},
   "source": [
    "I have exported the final surgeon ranking table so it can be shared or used in future dashboards.\n"
   ]
  },
  {
   "cell_type": "markdown",
   "id": "97422160",
   "metadata": {},
   "source": [
    "# Conclusion\n",
    "\n",
    "> Who are the most and least skilful surgeons for hip replacement operations?\n",
    " \n",
    "This analysis set out to identify the most and least skillful surgeons based on patient-reported outcomes after hip replacement surgeries. Using the EQ-5D-5L survey data, I calculated pre- and post-surgery health scores for each patient, measured individual improvement, and aggregated performance metrics at the surgeon level.\n",
    "\n",
    "Here’s a summary of what the analysis and visualizations revealed:\n",
    "\n",
    "----\n",
    "\n",
    "###  Top Performers (Final Weighted Score)\n",
    "\n",
    "- **Obi-Wan Kenobi**, \n",
    "- **Luke Skywalker**, and \n",
    "- **Mon Mothma** \n",
    "\n",
    "consistently delivered the best outcomes. These surgeons showed both high average patient improvement and treated large patient volumes, making their performance both **effective and scalable**.\n",
    "\n",
    "----\n",
    "\n",
    "###  Underperformers\n",
    "\n",
    "- **Padme Amidala**, \n",
    "- **Princess Leia**, and \n",
    "- **Darth Maul** \n",
    "\n",
    "ranked at the bottom based on lower average improvement and weaker overall consistency.\n",
    "\n",
    "----\n",
    "\n",
    "### Visual Insights Recap\n",
    "\n",
    "- **Bar Chart – Average Improvement:**  \n",
    "  Clearly shows who helped patients improve the most, but doesn’t account for volume or consistency.\n",
    "\n",
    "- **Bubble Chart – Volume vs. Effectiveness:**  \n",
    "  Showed which surgeons performed well at scale. Obi-Wan and Luke stood out as strong and experienced. Bubble size (standard deviation) was included but showed limited visual difference.\n",
    "\n",
    "- **Box Plot – Improvement Distribution:**  \n",
    "  Revealed that **Luke Skywalker** and **Darth Vader** delivered more consistent results. **Jar Jar Binks** and **Padme Amidala** showed wide variability, including negative outcomes.\n",
    "\n",
    "- **Correlation Heatmap:**  \n",
    "  Validated that the weighted score balances effectiveness and experience without duplicating effort. It also confirmed that more improvement tends to come with more consistency (negative correlation with std dev).\n",
    "\n",
    "- **Final Ranking Chart (Weighted Score):**  \n",
    "  Provided a fair, balanced view of surgeon performance by combining average improvement and patient volume using a log-weighted score.\n",
    "\n",
    "- **Top vs. Bottom 3 Table:**  \n",
    "  Directly compared high- and low-performing surgeons across all key metrics, reinforcing the performance gap.\n",
    "\n",
    "----\n",
    "\n",
    "### Recommendations \n",
    "\n",
    "If this were a real clinical dashboard or internal report, here are a few next steps I would recommend:\n",
    "\n",
    "- **Track performance over time**: Add timestamps to monitor surgeon performance trends (e.g., monthly improvement).\n",
    "- **Add complexity adjustment**: Factor in patient condition at baseline to make comparisons even fairer.\n",
    "- **Highlight at-risk patients**: Flag patients with no improvement or negative scores for follow-up.\n",
    "\n",
    "These additions could help hospital teams monitor outcomes in real-time and take early action when performance drops.\n",
    "\n",
    "This analysis doesn't just rank surgeons, it helps explain **why** some perform better than others, and how outcome data can be used to measure both skill and consistency in a clinical context. These insights could easily feed into performance reviews, clinical training programs, or operational dashboards."
   ]
  }
 ],
 "metadata": {
  "language_info": {
   "name": "python"
  }
 },
 "nbformat": 4,
 "nbformat_minor": 5
}
